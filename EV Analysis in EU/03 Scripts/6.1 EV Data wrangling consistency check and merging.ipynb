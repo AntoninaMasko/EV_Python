{
 "cells": [
  {
   "cell_type": "markdown",
   "id": "94c5423f",
   "metadata": {},
   "source": [
    "# EV Data wrangling consistency check and merging"
   ]
  },
  {
   "cell_type": "markdown",
   "id": "e28714dd",
   "metadata": {},
   "source": [
    "## Table of content"
   ]
  },
  {
   "cell_type": "markdown",
   "id": "6496456d",
   "metadata": {},
   "source": [
    "1. Importing libraries"
   ]
  },
  {
   "cell_type": "markdown",
   "id": "e6cb9492",
   "metadata": {},
   "source": [
    "2. Importing data"
   ]
  },
  {
   "cell_type": "markdown",
   "id": "4c613f01",
   "metadata": {},
   "source": [
    "3. Data wrangling\n",
    "\n",
    "        3.1 Dropping columns\n",
    "        3.2 Renaming columns\n",
    "        3.3 Checking data types"
   ]
  },
  {
   "cell_type": "markdown",
   "id": "354e940a",
   "metadata": {},
   "source": [
    "4. Data consistency checks\n",
    "\n",
    "        4.1 Missing values\n",
    "        4.2 Duplicates    "
   ]
  },
  {
   "cell_type": "markdown",
   "id": "5c94e657",
   "metadata": {},
   "source": [
    "5. Subsetting dataframes\n",
    "\n",
    "        5.1 Subsetting income dataframes\n",
    "        5.2. Population dataframe        "
   ]
  },
  {
   "cell_type": "markdown",
   "id": "b15d1c63",
   "metadata": {},
   "source": [
    "6. Merging dataframes\n",
    "\n",
    "        6.1 Merging car_new and car_stock dataframes\n",
    "        6.2 Merging car_merged and gdp dataframes\n",
    "        6.3 Merging car_gdp and income dataframes\n",
    "        6.4 Merging car_gdp_inc and pop_avg dataframes"
   ]
  },
  {
   "cell_type": "markdown",
   "id": "ac59d8db",
   "metadata": {},
   "source": [
    "7. Deriving new variables\n",
    "\n",
    "        7.1 Engine_type\n",
    "        7.2 Country\n",
    "        7.3 Age\n",
    "        7.4 Income indicator\n",
    "        7.5 Coutry grouping"
   ]
  },
  {
   "cell_type": "markdown",
   "id": "81716b47",
   "metadata": {},
   "source": [
    "8. Exporting dataframe"
   ]
  },
  {
   "cell_type": "markdown",
   "id": "4d75518a",
   "metadata": {},
   "source": [
    "# 1. Importing libraries"
   ]
  },
  {
   "cell_type": "code",
   "execution_count": 178,
   "id": "ab1db332",
   "metadata": {},
   "outputs": [],
   "source": [
    "# Importing libraries\n",
    "import pandas as pd\n",
    "import numpy as np\n",
    "import os"
   ]
  },
  {
   "cell_type": "markdown",
   "id": "3daabba6",
   "metadata": {},
   "source": [
    "# 2. Importing data"
   ]
  },
  {
   "cell_type": "code",
   "execution_count": 179,
   "id": "e9df8bba",
   "metadata": {},
   "outputs": [],
   "source": [
    "# Creating shortcut path to data\n",
    "path_data = r'C:\\Users\\henri\\Documents\\Tonia\\Learning\\CarrrerFoundry\\Data Immersion\\Achievement 6\\EV Analysis in EU\\02 Data'"
   ]
  },
  {
   "cell_type": "code",
   "execution_count": 180,
   "id": "769d36c4",
   "metadata": {},
   "outputs": [
    {
     "data": {
      "text/plain": [
       "'C:\\\\Users\\\\henri\\\\Documents\\\\Tonia\\\\Learning\\\\CarrrerFoundry\\\\Data Immersion\\\\Achievement 6\\\\EV Analysis in EU\\\\02 Data'"
      ]
     },
     "execution_count": 180,
     "metadata": {},
     "output_type": "execute_result"
    }
   ],
   "source": [
    "path_data"
   ]
  },
  {
   "cell_type": "markdown",
   "id": "ff80965a",
   "metadata": {},
   "source": [
    "### Importing New passenger cars registration dataset "
   ]
  },
  {
   "cell_type": "code",
   "execution_count": 181,
   "id": "cf6bf5db",
   "metadata": {},
   "outputs": [],
   "source": [
    "# Importing New passenger cars registration.csv\n",
    "car_new = pd.read_csv(os.path.join(path_data, 'Original Data', 'New passenger cars registration.csv'))"
   ]
  },
  {
   "cell_type": "code",
   "execution_count": 182,
   "id": "cdb6663f",
   "metadata": {},
   "outputs": [
    {
     "data": {
      "text/html": [
       "<div>\n",
       "<style scoped>\n",
       "    .dataframe tbody tr th:only-of-type {\n",
       "        vertical-align: middle;\n",
       "    }\n",
       "\n",
       "    .dataframe tbody tr th {\n",
       "        vertical-align: top;\n",
       "    }\n",
       "\n",
       "    .dataframe thead th {\n",
       "        text-align: right;\n",
       "    }\n",
       "</style>\n",
       "<table border=\"1\" class=\"dataframe\">\n",
       "  <thead>\n",
       "    <tr style=\"text-align: right;\">\n",
       "      <th></th>\n",
       "      <th>DATAFLOW</th>\n",
       "      <th>LAST UPDATE</th>\n",
       "      <th>freq</th>\n",
       "      <th>unit</th>\n",
       "      <th>mot_nrg</th>\n",
       "      <th>geo</th>\n",
       "      <th>TIME_PERIOD</th>\n",
       "      <th>OBS_VALUE</th>\n",
       "      <th>OBS_FLAG</th>\n",
       "    </tr>\n",
       "  </thead>\n",
       "  <tbody>\n",
       "    <tr>\n",
       "      <th>0</th>\n",
       "      <td>ESTAT:ROAD_EQR_CARPDA(1.0)</td>\n",
       "      <td>30/03/23 23:00:00</td>\n",
       "      <td>A</td>\n",
       "      <td>NR</td>\n",
       "      <td>ALT</td>\n",
       "      <td>AL</td>\n",
       "      <td>2019</td>\n",
       "      <td>3757.0</td>\n",
       "      <td>NaN</td>\n",
       "    </tr>\n",
       "    <tr>\n",
       "      <th>1</th>\n",
       "      <td>ESTAT:ROAD_EQR_CARPDA(1.0)</td>\n",
       "      <td>30/03/23 23:00:00</td>\n",
       "      <td>A</td>\n",
       "      <td>NR</td>\n",
       "      <td>ALT</td>\n",
       "      <td>AL</td>\n",
       "      <td>2020</td>\n",
       "      <td>4935.0</td>\n",
       "      <td>NaN</td>\n",
       "    </tr>\n",
       "    <tr>\n",
       "      <th>2</th>\n",
       "      <td>ESTAT:ROAD_EQR_CARPDA(1.0)</td>\n",
       "      <td>30/03/23 23:00:00</td>\n",
       "      <td>A</td>\n",
       "      <td>NR</td>\n",
       "      <td>ALT</td>\n",
       "      <td>AL</td>\n",
       "      <td>2021</td>\n",
       "      <td>5703.0</td>\n",
       "      <td>NaN</td>\n",
       "    </tr>\n",
       "    <tr>\n",
       "      <th>3</th>\n",
       "      <td>ESTAT:ROAD_EQR_CARPDA(1.0)</td>\n",
       "      <td>30/03/23 23:00:00</td>\n",
       "      <td>A</td>\n",
       "      <td>NR</td>\n",
       "      <td>ALT</td>\n",
       "      <td>AT</td>\n",
       "      <td>2013</td>\n",
       "      <td>1285.0</td>\n",
       "      <td>NaN</td>\n",
       "    </tr>\n",
       "    <tr>\n",
       "      <th>4</th>\n",
       "      <td>ESTAT:ROAD_EQR_CARPDA(1.0)</td>\n",
       "      <td>30/03/23 23:00:00</td>\n",
       "      <td>A</td>\n",
       "      <td>NR</td>\n",
       "      <td>ALT</td>\n",
       "      <td>AT</td>\n",
       "      <td>2014</td>\n",
       "      <td>2074.0</td>\n",
       "      <td>NaN</td>\n",
       "    </tr>\n",
       "  </tbody>\n",
       "</table>\n",
       "</div>"
      ],
      "text/plain": [
       "                     DATAFLOW        LAST UPDATE freq unit mot_nrg geo  \\\n",
       "0  ESTAT:ROAD_EQR_CARPDA(1.0)  30/03/23 23:00:00    A   NR     ALT  AL   \n",
       "1  ESTAT:ROAD_EQR_CARPDA(1.0)  30/03/23 23:00:00    A   NR     ALT  AL   \n",
       "2  ESTAT:ROAD_EQR_CARPDA(1.0)  30/03/23 23:00:00    A   NR     ALT  AL   \n",
       "3  ESTAT:ROAD_EQR_CARPDA(1.0)  30/03/23 23:00:00    A   NR     ALT  AT   \n",
       "4  ESTAT:ROAD_EQR_CARPDA(1.0)  30/03/23 23:00:00    A   NR     ALT  AT   \n",
       "\n",
       "   TIME_PERIOD  OBS_VALUE OBS_FLAG  \n",
       "0         2019     3757.0      NaN  \n",
       "1         2020     4935.0      NaN  \n",
       "2         2021     5703.0      NaN  \n",
       "3         2013     1285.0      NaN  \n",
       "4         2014     2074.0      NaN  "
      ]
     },
     "execution_count": 182,
     "metadata": {},
     "output_type": "execute_result"
    }
   ],
   "source": [
    "car_new.head()"
   ]
  },
  {
   "cell_type": "code",
   "execution_count": 183,
   "id": "f6d7f101",
   "metadata": {},
   "outputs": [
    {
     "data": {
      "text/plain": [
       "(3369, 9)"
      ]
     },
     "execution_count": 183,
     "metadata": {},
     "output_type": "execute_result"
    }
   ],
   "source": [
    "car_new.shape"
   ]
  },
  {
   "cell_type": "markdown",
   "id": "aa5a1277",
   "metadata": {},
   "source": [
    "### Importing Stock passenger cars dataset"
   ]
  },
  {
   "cell_type": "code",
   "execution_count": 184,
   "id": "6377731e",
   "metadata": {},
   "outputs": [],
   "source": [
    "# Importing Stock passenger cars.csv\n",
    "car_stock = pd.read_csv(os.path.join(path_data, 'Original Data', 'Stock passenger cars.csv'))"
   ]
  },
  {
   "cell_type": "code",
   "execution_count": 185,
   "id": "9d821ea8",
   "metadata": {},
   "outputs": [
    {
     "data": {
      "text/html": [
       "<div>\n",
       "<style scoped>\n",
       "    .dataframe tbody tr th:only-of-type {\n",
       "        vertical-align: middle;\n",
       "    }\n",
       "\n",
       "    .dataframe tbody tr th {\n",
       "        vertical-align: top;\n",
       "    }\n",
       "\n",
       "    .dataframe thead th {\n",
       "        text-align: right;\n",
       "    }\n",
       "</style>\n",
       "<table border=\"1\" class=\"dataframe\">\n",
       "  <thead>\n",
       "    <tr style=\"text-align: right;\">\n",
       "      <th></th>\n",
       "      <th>DATAFLOW</th>\n",
       "      <th>LAST UPDATE</th>\n",
       "      <th>freq</th>\n",
       "      <th>unit</th>\n",
       "      <th>mot_nrg</th>\n",
       "      <th>geo</th>\n",
       "      <th>TIME_PERIOD</th>\n",
       "      <th>OBS_VALUE</th>\n",
       "      <th>OBS_FLAG</th>\n",
       "    </tr>\n",
       "  </thead>\n",
       "  <tbody>\n",
       "    <tr>\n",
       "      <th>0</th>\n",
       "      <td>ESTAT:ROAD_EQS_CARPDA(1.0)</td>\n",
       "      <td>30/03/23 23:00:00</td>\n",
       "      <td>A</td>\n",
       "      <td>NR</td>\n",
       "      <td>ALT</td>\n",
       "      <td>AL</td>\n",
       "      <td>2014</td>\n",
       "      <td>4373.0</td>\n",
       "      <td>NaN</td>\n",
       "    </tr>\n",
       "    <tr>\n",
       "      <th>1</th>\n",
       "      <td>ESTAT:ROAD_EQS_CARPDA(1.0)</td>\n",
       "      <td>30/03/23 23:00:00</td>\n",
       "      <td>A</td>\n",
       "      <td>NR</td>\n",
       "      <td>ALT</td>\n",
       "      <td>AL</td>\n",
       "      <td>2015</td>\n",
       "      <td>7562.0</td>\n",
       "      <td>NaN</td>\n",
       "    </tr>\n",
       "    <tr>\n",
       "      <th>2</th>\n",
       "      <td>ESTAT:ROAD_EQS_CARPDA(1.0)</td>\n",
       "      <td>30/03/23 23:00:00</td>\n",
       "      <td>A</td>\n",
       "      <td>NR</td>\n",
       "      <td>ALT</td>\n",
       "      <td>AL</td>\n",
       "      <td>2016</td>\n",
       "      <td>14544.0</td>\n",
       "      <td>NaN</td>\n",
       "    </tr>\n",
       "    <tr>\n",
       "      <th>3</th>\n",
       "      <td>ESTAT:ROAD_EQS_CARPDA(1.0)</td>\n",
       "      <td>30/03/23 23:00:00</td>\n",
       "      <td>A</td>\n",
       "      <td>NR</td>\n",
       "      <td>ALT</td>\n",
       "      <td>AL</td>\n",
       "      <td>2017</td>\n",
       "      <td>21409.0</td>\n",
       "      <td>NaN</td>\n",
       "    </tr>\n",
       "    <tr>\n",
       "      <th>4</th>\n",
       "      <td>ESTAT:ROAD_EQS_CARPDA(1.0)</td>\n",
       "      <td>30/03/23 23:00:00</td>\n",
       "      <td>A</td>\n",
       "      <td>NR</td>\n",
       "      <td>ALT</td>\n",
       "      <td>AL</td>\n",
       "      <td>2018</td>\n",
       "      <td>28994.0</td>\n",
       "      <td>NaN</td>\n",
       "    </tr>\n",
       "  </tbody>\n",
       "</table>\n",
       "</div>"
      ],
      "text/plain": [
       "                     DATAFLOW        LAST UPDATE freq unit mot_nrg geo  \\\n",
       "0  ESTAT:ROAD_EQS_CARPDA(1.0)  30/03/23 23:00:00    A   NR     ALT  AL   \n",
       "1  ESTAT:ROAD_EQS_CARPDA(1.0)  30/03/23 23:00:00    A   NR     ALT  AL   \n",
       "2  ESTAT:ROAD_EQS_CARPDA(1.0)  30/03/23 23:00:00    A   NR     ALT  AL   \n",
       "3  ESTAT:ROAD_EQS_CARPDA(1.0)  30/03/23 23:00:00    A   NR     ALT  AL   \n",
       "4  ESTAT:ROAD_EQS_CARPDA(1.0)  30/03/23 23:00:00    A   NR     ALT  AL   \n",
       "\n",
       "   TIME_PERIOD  OBS_VALUE OBS_FLAG  \n",
       "0         2014     4373.0      NaN  \n",
       "1         2015     7562.0      NaN  \n",
       "2         2016    14544.0      NaN  \n",
       "3         2017    21409.0      NaN  \n",
       "4         2018    28994.0      NaN  "
      ]
     },
     "execution_count": 185,
     "metadata": {},
     "output_type": "execute_result"
    }
   ],
   "source": [
    "car_stock.head()"
   ]
  },
  {
   "cell_type": "code",
   "execution_count": 186,
   "id": "145217d5",
   "metadata": {},
   "outputs": [
    {
     "data": {
      "text/plain": [
       "(4751, 9)"
      ]
     },
     "execution_count": 186,
     "metadata": {},
     "output_type": "execute_result"
    }
   ],
   "source": [
    "car_stock.shape"
   ]
  },
  {
   "cell_type": "markdown",
   "id": "71e96f59",
   "metadata": {},
   "source": [
    "### Importing GDP EU dataset"
   ]
  },
  {
   "cell_type": "code",
   "execution_count": 187,
   "id": "d0c5f429",
   "metadata": {},
   "outputs": [],
   "source": [
    "# Importing GDP EU.csv\n",
    "gdp = pd.read_csv(os.path.join(path_data, 'Original Data', 'GDP EU.csv'))"
   ]
  },
  {
   "cell_type": "code",
   "execution_count": 188,
   "id": "4e759aa4",
   "metadata": {},
   "outputs": [
    {
     "data": {
      "text/html": [
       "<div>\n",
       "<style scoped>\n",
       "    .dataframe tbody tr th:only-of-type {\n",
       "        vertical-align: middle;\n",
       "    }\n",
       "\n",
       "    .dataframe tbody tr th {\n",
       "        vertical-align: top;\n",
       "    }\n",
       "\n",
       "    .dataframe thead th {\n",
       "        text-align: right;\n",
       "    }\n",
       "</style>\n",
       "<table border=\"1\" class=\"dataframe\">\n",
       "  <thead>\n",
       "    <tr style=\"text-align: right;\">\n",
       "      <th></th>\n",
       "      <th>DATAFLOW</th>\n",
       "      <th>LAST UPDATE</th>\n",
       "      <th>freq</th>\n",
       "      <th>unit</th>\n",
       "      <th>na_item</th>\n",
       "      <th>geo</th>\n",
       "      <th>TIME_PERIOD</th>\n",
       "      <th>OBS_VALUE</th>\n",
       "      <th>OBS_FLAG</th>\n",
       "    </tr>\n",
       "  </thead>\n",
       "  <tbody>\n",
       "    <tr>\n",
       "      <th>0</th>\n",
       "      <td>ESTAT:NAMA_10_GDP$DEFAULTVIEW(1.0)</td>\n",
       "      <td>26/04/23 23:00:00</td>\n",
       "      <td>A</td>\n",
       "      <td>CP_MEUR</td>\n",
       "      <td>B1GQ</td>\n",
       "      <td>AL</td>\n",
       "      <td>2013</td>\n",
       "      <td>9625.4</td>\n",
       "      <td>NaN</td>\n",
       "    </tr>\n",
       "    <tr>\n",
       "      <th>1</th>\n",
       "      <td>ESTAT:NAMA_10_GDP$DEFAULTVIEW(1.0)</td>\n",
       "      <td>26/04/23 23:00:00</td>\n",
       "      <td>A</td>\n",
       "      <td>CP_MEUR</td>\n",
       "      <td>B1GQ</td>\n",
       "      <td>AL</td>\n",
       "      <td>2014</td>\n",
       "      <td>9968.6</td>\n",
       "      <td>NaN</td>\n",
       "    </tr>\n",
       "    <tr>\n",
       "      <th>2</th>\n",
       "      <td>ESTAT:NAMA_10_GDP$DEFAULTVIEW(1.0)</td>\n",
       "      <td>26/04/23 23:00:00</td>\n",
       "      <td>A</td>\n",
       "      <td>CP_MEUR</td>\n",
       "      <td>B1GQ</td>\n",
       "      <td>AL</td>\n",
       "      <td>2015</td>\n",
       "      <td>10264.1</td>\n",
       "      <td>NaN</td>\n",
       "    </tr>\n",
       "    <tr>\n",
       "      <th>3</th>\n",
       "      <td>ESTAT:NAMA_10_GDP$DEFAULTVIEW(1.0)</td>\n",
       "      <td>26/04/23 23:00:00</td>\n",
       "      <td>A</td>\n",
       "      <td>CP_MEUR</td>\n",
       "      <td>B1GQ</td>\n",
       "      <td>AL</td>\n",
       "      <td>2016</td>\n",
       "      <td>10719.9</td>\n",
       "      <td>NaN</td>\n",
       "    </tr>\n",
       "    <tr>\n",
       "      <th>4</th>\n",
       "      <td>ESTAT:NAMA_10_GDP$DEFAULTVIEW(1.0)</td>\n",
       "      <td>26/04/23 23:00:00</td>\n",
       "      <td>A</td>\n",
       "      <td>CP_MEUR</td>\n",
       "      <td>B1GQ</td>\n",
       "      <td>AL</td>\n",
       "      <td>2017</td>\n",
       "      <td>11559.0</td>\n",
       "      <td>NaN</td>\n",
       "    </tr>\n",
       "  </tbody>\n",
       "</table>\n",
       "</div>"
      ],
      "text/plain": [
       "                             DATAFLOW        LAST UPDATE freq     unit  \\\n",
       "0  ESTAT:NAMA_10_GDP$DEFAULTVIEW(1.0)  26/04/23 23:00:00    A  CP_MEUR   \n",
       "1  ESTAT:NAMA_10_GDP$DEFAULTVIEW(1.0)  26/04/23 23:00:00    A  CP_MEUR   \n",
       "2  ESTAT:NAMA_10_GDP$DEFAULTVIEW(1.0)  26/04/23 23:00:00    A  CP_MEUR   \n",
       "3  ESTAT:NAMA_10_GDP$DEFAULTVIEW(1.0)  26/04/23 23:00:00    A  CP_MEUR   \n",
       "4  ESTAT:NAMA_10_GDP$DEFAULTVIEW(1.0)  26/04/23 23:00:00    A  CP_MEUR   \n",
       "\n",
       "  na_item geo  TIME_PERIOD  OBS_VALUE OBS_FLAG  \n",
       "0    B1GQ  AL         2013     9625.4      NaN  \n",
       "1    B1GQ  AL         2014     9968.6      NaN  \n",
       "2    B1GQ  AL         2015    10264.1      NaN  \n",
       "3    B1GQ  AL         2016    10719.9      NaN  \n",
       "4    B1GQ  AL         2017    11559.0      NaN  "
      ]
     },
     "execution_count": 188,
     "metadata": {},
     "output_type": "execute_result"
    }
   ],
   "source": [
    "gdp.head()"
   ]
  },
  {
   "cell_type": "code",
   "execution_count": 189,
   "id": "358840e0",
   "metadata": {},
   "outputs": [
    {
     "data": {
      "text/plain": [
       "(448, 9)"
      ]
     },
     "execution_count": 189,
     "metadata": {},
     "output_type": "execute_result"
    }
   ],
   "source": [
    "gdp.shape"
   ]
  },
  {
   "cell_type": "markdown",
   "id": "8f15051f",
   "metadata": {},
   "source": [
    "### Importing Mean and median income dataset"
   ]
  },
  {
   "cell_type": "code",
   "execution_count": 190,
   "id": "4224fb10",
   "metadata": {},
   "outputs": [],
   "source": [
    "# Importing Mean and median income.csv\n",
    "income = pd.read_csv(os.path.join(path_data, 'Original Data', 'Mean and median income.csv'))"
   ]
  },
  {
   "cell_type": "code",
   "execution_count": 191,
   "id": "0b86550f",
   "metadata": {},
   "outputs": [
    {
     "data": {
      "text/html": [
       "<div>\n",
       "<style scoped>\n",
       "    .dataframe tbody tr th:only-of-type {\n",
       "        vertical-align: middle;\n",
       "    }\n",
       "\n",
       "    .dataframe tbody tr th {\n",
       "        vertical-align: top;\n",
       "    }\n",
       "\n",
       "    .dataframe thead th {\n",
       "        text-align: right;\n",
       "    }\n",
       "</style>\n",
       "<table border=\"1\" class=\"dataframe\">\n",
       "  <thead>\n",
       "    <tr style=\"text-align: right;\">\n",
       "      <th></th>\n",
       "      <th>DATAFLOW</th>\n",
       "      <th>LAST UPDATE</th>\n",
       "      <th>freq</th>\n",
       "      <th>age</th>\n",
       "      <th>sex</th>\n",
       "      <th>indic_il</th>\n",
       "      <th>unit</th>\n",
       "      <th>geo</th>\n",
       "      <th>TIME_PERIOD</th>\n",
       "      <th>OBS_VALUE</th>\n",
       "      <th>OBS_FLAG</th>\n",
       "    </tr>\n",
       "  </thead>\n",
       "  <tbody>\n",
       "    <tr>\n",
       "      <th>0</th>\n",
       "      <td>ESTAT:ILC_DI03(1.0)</td>\n",
       "      <td>03/04/23 23:00:00</td>\n",
       "      <td>A</td>\n",
       "      <td>TOTAL</td>\n",
       "      <td>F</td>\n",
       "      <td>MED_E</td>\n",
       "      <td>EUR</td>\n",
       "      <td>AL</td>\n",
       "      <td>2017</td>\n",
       "      <td>1747</td>\n",
       "      <td>NaN</td>\n",
       "    </tr>\n",
       "    <tr>\n",
       "      <th>1</th>\n",
       "      <td>ESTAT:ILC_DI03(1.0)</td>\n",
       "      <td>03/04/23 23:00:00</td>\n",
       "      <td>A</td>\n",
       "      <td>TOTAL</td>\n",
       "      <td>F</td>\n",
       "      <td>MED_E</td>\n",
       "      <td>EUR</td>\n",
       "      <td>AL</td>\n",
       "      <td>2018</td>\n",
       "      <td>1972</td>\n",
       "      <td>NaN</td>\n",
       "    </tr>\n",
       "    <tr>\n",
       "      <th>2</th>\n",
       "      <td>ESTAT:ILC_DI03(1.0)</td>\n",
       "      <td>03/04/23 23:00:00</td>\n",
       "      <td>A</td>\n",
       "      <td>TOTAL</td>\n",
       "      <td>F</td>\n",
       "      <td>MED_E</td>\n",
       "      <td>EUR</td>\n",
       "      <td>AL</td>\n",
       "      <td>2019</td>\n",
       "      <td>2195</td>\n",
       "      <td>NaN</td>\n",
       "    </tr>\n",
       "    <tr>\n",
       "      <th>3</th>\n",
       "      <td>ESTAT:ILC_DI03(1.0)</td>\n",
       "      <td>03/04/23 23:00:00</td>\n",
       "      <td>A</td>\n",
       "      <td>TOTAL</td>\n",
       "      <td>F</td>\n",
       "      <td>MED_E</td>\n",
       "      <td>EUR</td>\n",
       "      <td>AL</td>\n",
       "      <td>2020</td>\n",
       "      <td>2482</td>\n",
       "      <td>NaN</td>\n",
       "    </tr>\n",
       "    <tr>\n",
       "      <th>4</th>\n",
       "      <td>ESTAT:ILC_DI03(1.0)</td>\n",
       "      <td>03/04/23 23:00:00</td>\n",
       "      <td>A</td>\n",
       "      <td>TOTAL</td>\n",
       "      <td>F</td>\n",
       "      <td>MED_E</td>\n",
       "      <td>EUR</td>\n",
       "      <td>AT</td>\n",
       "      <td>1995</td>\n",
       "      <td>13394</td>\n",
       "      <td>NaN</td>\n",
       "    </tr>\n",
       "  </tbody>\n",
       "</table>\n",
       "</div>"
      ],
      "text/plain": [
       "              DATAFLOW        LAST UPDATE freq    age sex indic_il unit geo  \\\n",
       "0  ESTAT:ILC_DI03(1.0)  03/04/23 23:00:00    A  TOTAL   F    MED_E  EUR  AL   \n",
       "1  ESTAT:ILC_DI03(1.0)  03/04/23 23:00:00    A  TOTAL   F    MED_E  EUR  AL   \n",
       "2  ESTAT:ILC_DI03(1.0)  03/04/23 23:00:00    A  TOTAL   F    MED_E  EUR  AL   \n",
       "3  ESTAT:ILC_DI03(1.0)  03/04/23 23:00:00    A  TOTAL   F    MED_E  EUR  AL   \n",
       "4  ESTAT:ILC_DI03(1.0)  03/04/23 23:00:00    A  TOTAL   F    MED_E  EUR  AT   \n",
       "\n",
       "   TIME_PERIOD  OBS_VALUE OBS_FLAG  \n",
       "0         2017       1747      NaN  \n",
       "1         2018       1972      NaN  \n",
       "2         2019       2195      NaN  \n",
       "3         2020       2482      NaN  \n",
       "4         1995      13394      NaN  "
      ]
     },
     "execution_count": 191,
     "metadata": {},
     "output_type": "execute_result"
    }
   ],
   "source": [
    "income.head()"
   ]
  },
  {
   "cell_type": "code",
   "execution_count": 192,
   "id": "0a2e55af",
   "metadata": {},
   "outputs": [
    {
     "data": {
      "text/plain": [
       "(271872, 11)"
      ]
     },
     "execution_count": 192,
     "metadata": {},
     "output_type": "execute_result"
    }
   ],
   "source": [
    "income.shape"
   ]
  },
  {
   "cell_type": "markdown",
   "id": "53c34063",
   "metadata": {},
   "source": [
    "### Importing Population dataset"
   ]
  },
  {
   "cell_type": "code",
   "execution_count": 193,
   "id": "2fa33705",
   "metadata": {},
   "outputs": [],
   "source": [
    "# Importing Population.csv\n",
    "pop = pd.read_csv(os.path.join(path_data, 'Original Data', 'Population.csv'))"
   ]
  },
  {
   "cell_type": "code",
   "execution_count": 194,
   "id": "6b061a2d",
   "metadata": {},
   "outputs": [
    {
     "data": {
      "text/html": [
       "<div>\n",
       "<style scoped>\n",
       "    .dataframe tbody tr th:only-of-type {\n",
       "        vertical-align: middle;\n",
       "    }\n",
       "\n",
       "    .dataframe tbody tr th {\n",
       "        vertical-align: top;\n",
       "    }\n",
       "\n",
       "    .dataframe thead th {\n",
       "        text-align: right;\n",
       "    }\n",
       "</style>\n",
       "<table border=\"1\" class=\"dataframe\">\n",
       "  <thead>\n",
       "    <tr style=\"text-align: right;\">\n",
       "      <th></th>\n",
       "      <th>DATAFLOW</th>\n",
       "      <th>LAST UPDATE</th>\n",
       "      <th>freq</th>\n",
       "      <th>indic_de</th>\n",
       "      <th>geo</th>\n",
       "      <th>TIME_PERIOD</th>\n",
       "      <th>OBS_VALUE</th>\n",
       "      <th>OBS_FLAG</th>\n",
       "    </tr>\n",
       "  </thead>\n",
       "  <tbody>\n",
       "    <tr>\n",
       "      <th>0</th>\n",
       "      <td>ESTAT:DEMO_GIND(1.0)</td>\n",
       "      <td>14/04/23 23:00:00</td>\n",
       "      <td>A</td>\n",
       "      <td>AVG</td>\n",
       "      <td>AD</td>\n",
       "      <td>1986</td>\n",
       "      <td>45785.0</td>\n",
       "      <td>NaN</td>\n",
       "    </tr>\n",
       "    <tr>\n",
       "      <th>1</th>\n",
       "      <td>ESTAT:DEMO_GIND(1.0)</td>\n",
       "      <td>14/04/23 23:00:00</td>\n",
       "      <td>A</td>\n",
       "      <td>AVG</td>\n",
       "      <td>AD</td>\n",
       "      <td>1987</td>\n",
       "      <td>47714.0</td>\n",
       "      <td>NaN</td>\n",
       "    </tr>\n",
       "    <tr>\n",
       "      <th>2</th>\n",
       "      <td>ESTAT:DEMO_GIND(1.0)</td>\n",
       "      <td>14/04/23 23:00:00</td>\n",
       "      <td>A</td>\n",
       "      <td>AVG</td>\n",
       "      <td>AD</td>\n",
       "      <td>1988</td>\n",
       "      <td>49490.0</td>\n",
       "      <td>NaN</td>\n",
       "    </tr>\n",
       "    <tr>\n",
       "      <th>3</th>\n",
       "      <td>ESTAT:DEMO_GIND(1.0)</td>\n",
       "      <td>14/04/23 23:00:00</td>\n",
       "      <td>A</td>\n",
       "      <td>AVG</td>\n",
       "      <td>AD</td>\n",
       "      <td>1989</td>\n",
       "      <td>50708.0</td>\n",
       "      <td>NaN</td>\n",
       "    </tr>\n",
       "    <tr>\n",
       "      <th>4</th>\n",
       "      <td>ESTAT:DEMO_GIND(1.0)</td>\n",
       "      <td>14/04/23 23:00:00</td>\n",
       "      <td>A</td>\n",
       "      <td>AVG</td>\n",
       "      <td>AD</td>\n",
       "      <td>1990</td>\n",
       "      <td>52697.0</td>\n",
       "      <td>NaN</td>\n",
       "    </tr>\n",
       "  </tbody>\n",
       "</table>\n",
       "</div>"
      ],
      "text/plain": [
       "               DATAFLOW        LAST UPDATE freq indic_de geo  TIME_PERIOD  \\\n",
       "0  ESTAT:DEMO_GIND(1.0)  14/04/23 23:00:00    A      AVG  AD         1986   \n",
       "1  ESTAT:DEMO_GIND(1.0)  14/04/23 23:00:00    A      AVG  AD         1987   \n",
       "2  ESTAT:DEMO_GIND(1.0)  14/04/23 23:00:00    A      AVG  AD         1988   \n",
       "3  ESTAT:DEMO_GIND(1.0)  14/04/23 23:00:00    A      AVG  AD         1989   \n",
       "4  ESTAT:DEMO_GIND(1.0)  14/04/23 23:00:00    A      AVG  AD         1990   \n",
       "\n",
       "   OBS_VALUE OBS_FLAG  \n",
       "0    45785.0      NaN  \n",
       "1    47714.0      NaN  \n",
       "2    49490.0      NaN  \n",
       "3    50708.0      NaN  \n",
       "4    52697.0      NaN  "
      ]
     },
     "execution_count": 194,
     "metadata": {},
     "output_type": "execute_result"
    }
   ],
   "source": [
    "pop.head()"
   ]
  },
  {
   "cell_type": "code",
   "execution_count": 195,
   "id": "54337092",
   "metadata": {},
   "outputs": [
    {
     "data": {
      "text/plain": [
       "(61645, 8)"
      ]
     },
     "execution_count": 195,
     "metadata": {},
     "output_type": "execute_result"
    }
   ],
   "source": [
    "pop.shape"
   ]
  },
  {
   "cell_type": "markdown",
   "id": "8f7f7e71",
   "metadata": {},
   "source": [
    "# 3. Data wrangling"
   ]
  },
  {
   "cell_type": "markdown",
   "id": "cb27c8eb",
   "metadata": {},
   "source": [
    "## 3.1 Dropping columns"
   ]
  },
  {
   "cell_type": "markdown",
   "id": "1aee36ca",
   "metadata": {},
   "source": [
    "In the above dataframes we do not need the following columns for the analysis:\n",
    "    \n",
    "    DATAFLOW - indicates the data name\n",
    "    LAST UPDATE - indicates the last update\n",
    "    freq - indicates the frequency of update of the data, which is annually\n",
    "    unit\n",
    "    OBS_FLAG, which is observation status flag and can mean e.g. estimates or break in data; this does not change the analysis, as the rows with these flags will not be removed\n",
    "\n",
    "I will therefore remove them from all the dataframes.        "
   ]
  },
  {
   "cell_type": "markdown",
   "id": "8d7cb742",
   "metadata": {},
   "source": [
    "#### car_new dataframe"
   ]
  },
  {
   "cell_type": "code",
   "execution_count": 196,
   "id": "4f029df9",
   "metadata": {},
   "outputs": [],
   "source": [
    "car_new = car_new.drop(columns = ['DATAFLOW', 'LAST UPDATE', 'freq', 'unit', 'OBS_FLAG'])"
   ]
  },
  {
   "cell_type": "code",
   "execution_count": 197,
   "id": "7791aa67",
   "metadata": {},
   "outputs": [
    {
     "data": {
      "text/html": [
       "<div>\n",
       "<style scoped>\n",
       "    .dataframe tbody tr th:only-of-type {\n",
       "        vertical-align: middle;\n",
       "    }\n",
       "\n",
       "    .dataframe tbody tr th {\n",
       "        vertical-align: top;\n",
       "    }\n",
       "\n",
       "    .dataframe thead th {\n",
       "        text-align: right;\n",
       "    }\n",
       "</style>\n",
       "<table border=\"1\" class=\"dataframe\">\n",
       "  <thead>\n",
       "    <tr style=\"text-align: right;\">\n",
       "      <th></th>\n",
       "      <th>mot_nrg</th>\n",
       "      <th>geo</th>\n",
       "      <th>TIME_PERIOD</th>\n",
       "      <th>OBS_VALUE</th>\n",
       "    </tr>\n",
       "  </thead>\n",
       "  <tbody>\n",
       "    <tr>\n",
       "      <th>0</th>\n",
       "      <td>ALT</td>\n",
       "      <td>AL</td>\n",
       "      <td>2019</td>\n",
       "      <td>3757.0</td>\n",
       "    </tr>\n",
       "    <tr>\n",
       "      <th>1</th>\n",
       "      <td>ALT</td>\n",
       "      <td>AL</td>\n",
       "      <td>2020</td>\n",
       "      <td>4935.0</td>\n",
       "    </tr>\n",
       "    <tr>\n",
       "      <th>2</th>\n",
       "      <td>ALT</td>\n",
       "      <td>AL</td>\n",
       "      <td>2021</td>\n",
       "      <td>5703.0</td>\n",
       "    </tr>\n",
       "    <tr>\n",
       "      <th>3</th>\n",
       "      <td>ALT</td>\n",
       "      <td>AT</td>\n",
       "      <td>2013</td>\n",
       "      <td>1285.0</td>\n",
       "    </tr>\n",
       "    <tr>\n",
       "      <th>4</th>\n",
       "      <td>ALT</td>\n",
       "      <td>AT</td>\n",
       "      <td>2014</td>\n",
       "      <td>2074.0</td>\n",
       "    </tr>\n",
       "  </tbody>\n",
       "</table>\n",
       "</div>"
      ],
      "text/plain": [
       "  mot_nrg geo  TIME_PERIOD  OBS_VALUE\n",
       "0     ALT  AL         2019     3757.0\n",
       "1     ALT  AL         2020     4935.0\n",
       "2     ALT  AL         2021     5703.0\n",
       "3     ALT  AT         2013     1285.0\n",
       "4     ALT  AT         2014     2074.0"
      ]
     },
     "execution_count": 197,
     "metadata": {},
     "output_type": "execute_result"
    }
   ],
   "source": [
    "car_new.head()"
   ]
  },
  {
   "cell_type": "markdown",
   "id": "e95684be",
   "metadata": {},
   "source": [
    "#### car_stock dataframe"
   ]
  },
  {
   "cell_type": "code",
   "execution_count": 198,
   "id": "999d153b",
   "metadata": {},
   "outputs": [],
   "source": [
    "car_stock = car_stock.drop(columns = ['DATAFLOW', 'LAST UPDATE', 'freq', 'unit', 'OBS_FLAG'])"
   ]
  },
  {
   "cell_type": "code",
   "execution_count": 199,
   "id": "d817b202",
   "metadata": {},
   "outputs": [
    {
     "data": {
      "text/html": [
       "<div>\n",
       "<style scoped>\n",
       "    .dataframe tbody tr th:only-of-type {\n",
       "        vertical-align: middle;\n",
       "    }\n",
       "\n",
       "    .dataframe tbody tr th {\n",
       "        vertical-align: top;\n",
       "    }\n",
       "\n",
       "    .dataframe thead th {\n",
       "        text-align: right;\n",
       "    }\n",
       "</style>\n",
       "<table border=\"1\" class=\"dataframe\">\n",
       "  <thead>\n",
       "    <tr style=\"text-align: right;\">\n",
       "      <th></th>\n",
       "      <th>mot_nrg</th>\n",
       "      <th>geo</th>\n",
       "      <th>TIME_PERIOD</th>\n",
       "      <th>OBS_VALUE</th>\n",
       "    </tr>\n",
       "  </thead>\n",
       "  <tbody>\n",
       "    <tr>\n",
       "      <th>0</th>\n",
       "      <td>ALT</td>\n",
       "      <td>AL</td>\n",
       "      <td>2014</td>\n",
       "      <td>4373.0</td>\n",
       "    </tr>\n",
       "    <tr>\n",
       "      <th>1</th>\n",
       "      <td>ALT</td>\n",
       "      <td>AL</td>\n",
       "      <td>2015</td>\n",
       "      <td>7562.0</td>\n",
       "    </tr>\n",
       "    <tr>\n",
       "      <th>2</th>\n",
       "      <td>ALT</td>\n",
       "      <td>AL</td>\n",
       "      <td>2016</td>\n",
       "      <td>14544.0</td>\n",
       "    </tr>\n",
       "    <tr>\n",
       "      <th>3</th>\n",
       "      <td>ALT</td>\n",
       "      <td>AL</td>\n",
       "      <td>2017</td>\n",
       "      <td>21409.0</td>\n",
       "    </tr>\n",
       "    <tr>\n",
       "      <th>4</th>\n",
       "      <td>ALT</td>\n",
       "      <td>AL</td>\n",
       "      <td>2018</td>\n",
       "      <td>28994.0</td>\n",
       "    </tr>\n",
       "  </tbody>\n",
       "</table>\n",
       "</div>"
      ],
      "text/plain": [
       "  mot_nrg geo  TIME_PERIOD  OBS_VALUE\n",
       "0     ALT  AL         2014     4373.0\n",
       "1     ALT  AL         2015     7562.0\n",
       "2     ALT  AL         2016    14544.0\n",
       "3     ALT  AL         2017    21409.0\n",
       "4     ALT  AL         2018    28994.0"
      ]
     },
     "execution_count": 199,
     "metadata": {},
     "output_type": "execute_result"
    }
   ],
   "source": [
    "car_stock.head()"
   ]
  },
  {
   "cell_type": "markdown",
   "id": "54ae84ad",
   "metadata": {},
   "source": [
    "#### gdp dataframe"
   ]
  },
  {
   "cell_type": "markdown",
   "id": "465316c1",
   "metadata": {},
   "source": [
    "In the gdp dataframe, we should remove additionally column 'na_item'. This column shows National account indicator, which has been already set for 'B1GQ' (Gross domestic product at market prices)"
   ]
  },
  {
   "cell_type": "code",
   "execution_count": 200,
   "id": "38693a1c",
   "metadata": {},
   "outputs": [],
   "source": [
    "gdp = gdp.drop(columns = ['DATAFLOW', 'LAST UPDATE', 'freq', 'unit', 'na_item', 'OBS_FLAG'])"
   ]
  },
  {
   "cell_type": "code",
   "execution_count": 201,
   "id": "dbdb2378",
   "metadata": {},
   "outputs": [
    {
     "data": {
      "text/html": [
       "<div>\n",
       "<style scoped>\n",
       "    .dataframe tbody tr th:only-of-type {\n",
       "        vertical-align: middle;\n",
       "    }\n",
       "\n",
       "    .dataframe tbody tr th {\n",
       "        vertical-align: top;\n",
       "    }\n",
       "\n",
       "    .dataframe thead th {\n",
       "        text-align: right;\n",
       "    }\n",
       "</style>\n",
       "<table border=\"1\" class=\"dataframe\">\n",
       "  <thead>\n",
       "    <tr style=\"text-align: right;\">\n",
       "      <th></th>\n",
       "      <th>geo</th>\n",
       "      <th>TIME_PERIOD</th>\n",
       "      <th>OBS_VALUE</th>\n",
       "    </tr>\n",
       "  </thead>\n",
       "  <tbody>\n",
       "    <tr>\n",
       "      <th>0</th>\n",
       "      <td>AL</td>\n",
       "      <td>2013</td>\n",
       "      <td>9625.4</td>\n",
       "    </tr>\n",
       "    <tr>\n",
       "      <th>1</th>\n",
       "      <td>AL</td>\n",
       "      <td>2014</td>\n",
       "      <td>9968.6</td>\n",
       "    </tr>\n",
       "    <tr>\n",
       "      <th>2</th>\n",
       "      <td>AL</td>\n",
       "      <td>2015</td>\n",
       "      <td>10264.1</td>\n",
       "    </tr>\n",
       "    <tr>\n",
       "      <th>3</th>\n",
       "      <td>AL</td>\n",
       "      <td>2016</td>\n",
       "      <td>10719.9</td>\n",
       "    </tr>\n",
       "    <tr>\n",
       "      <th>4</th>\n",
       "      <td>AL</td>\n",
       "      <td>2017</td>\n",
       "      <td>11559.0</td>\n",
       "    </tr>\n",
       "  </tbody>\n",
       "</table>\n",
       "</div>"
      ],
      "text/plain": [
       "  geo  TIME_PERIOD  OBS_VALUE\n",
       "0  AL         2013     9625.4\n",
       "1  AL         2014     9968.6\n",
       "2  AL         2015    10264.1\n",
       "3  AL         2016    10719.9\n",
       "4  AL         2017    11559.0"
      ]
     },
     "execution_count": 201,
     "metadata": {},
     "output_type": "execute_result"
    }
   ],
   "source": [
    "gdp.head()"
   ]
  },
  {
   "cell_type": "markdown",
   "id": "df0d7c13",
   "metadata": {},
   "source": [
    "#### income dataframe"
   ]
  },
  {
   "cell_type": "code",
   "execution_count": 202,
   "id": "d212cb16",
   "metadata": {},
   "outputs": [],
   "source": [
    "income = income.drop(columns = ['DATAFLOW', 'LAST UPDATE', 'freq', 'OBS_FLAG'])"
   ]
  },
  {
   "cell_type": "code",
   "execution_count": 203,
   "id": "b75c6df6",
   "metadata": {},
   "outputs": [
    {
     "data": {
      "text/html": [
       "<div>\n",
       "<style scoped>\n",
       "    .dataframe tbody tr th:only-of-type {\n",
       "        vertical-align: middle;\n",
       "    }\n",
       "\n",
       "    .dataframe tbody tr th {\n",
       "        vertical-align: top;\n",
       "    }\n",
       "\n",
       "    .dataframe thead th {\n",
       "        text-align: right;\n",
       "    }\n",
       "</style>\n",
       "<table border=\"1\" class=\"dataframe\">\n",
       "  <thead>\n",
       "    <tr style=\"text-align: right;\">\n",
       "      <th></th>\n",
       "      <th>age</th>\n",
       "      <th>sex</th>\n",
       "      <th>indic_il</th>\n",
       "      <th>unit</th>\n",
       "      <th>geo</th>\n",
       "      <th>TIME_PERIOD</th>\n",
       "      <th>OBS_VALUE</th>\n",
       "    </tr>\n",
       "  </thead>\n",
       "  <tbody>\n",
       "    <tr>\n",
       "      <th>0</th>\n",
       "      <td>TOTAL</td>\n",
       "      <td>F</td>\n",
       "      <td>MED_E</td>\n",
       "      <td>EUR</td>\n",
       "      <td>AL</td>\n",
       "      <td>2017</td>\n",
       "      <td>1747</td>\n",
       "    </tr>\n",
       "    <tr>\n",
       "      <th>1</th>\n",
       "      <td>TOTAL</td>\n",
       "      <td>F</td>\n",
       "      <td>MED_E</td>\n",
       "      <td>EUR</td>\n",
       "      <td>AL</td>\n",
       "      <td>2018</td>\n",
       "      <td>1972</td>\n",
       "    </tr>\n",
       "    <tr>\n",
       "      <th>2</th>\n",
       "      <td>TOTAL</td>\n",
       "      <td>F</td>\n",
       "      <td>MED_E</td>\n",
       "      <td>EUR</td>\n",
       "      <td>AL</td>\n",
       "      <td>2019</td>\n",
       "      <td>2195</td>\n",
       "    </tr>\n",
       "    <tr>\n",
       "      <th>3</th>\n",
       "      <td>TOTAL</td>\n",
       "      <td>F</td>\n",
       "      <td>MED_E</td>\n",
       "      <td>EUR</td>\n",
       "      <td>AL</td>\n",
       "      <td>2020</td>\n",
       "      <td>2482</td>\n",
       "    </tr>\n",
       "    <tr>\n",
       "      <th>4</th>\n",
       "      <td>TOTAL</td>\n",
       "      <td>F</td>\n",
       "      <td>MED_E</td>\n",
       "      <td>EUR</td>\n",
       "      <td>AT</td>\n",
       "      <td>1995</td>\n",
       "      <td>13394</td>\n",
       "    </tr>\n",
       "  </tbody>\n",
       "</table>\n",
       "</div>"
      ],
      "text/plain": [
       "     age sex indic_il unit geo  TIME_PERIOD  OBS_VALUE\n",
       "0  TOTAL   F    MED_E  EUR  AL         2017       1747\n",
       "1  TOTAL   F    MED_E  EUR  AL         2018       1972\n",
       "2  TOTAL   F    MED_E  EUR  AL         2019       2195\n",
       "3  TOTAL   F    MED_E  EUR  AL         2020       2482\n",
       "4  TOTAL   F    MED_E  EUR  AT         1995      13394"
      ]
     },
     "execution_count": 203,
     "metadata": {},
     "output_type": "execute_result"
    }
   ],
   "source": [
    "income.head()"
   ]
  },
  {
   "cell_type": "markdown",
   "id": "98d6df45",
   "metadata": {},
   "source": [
    "#### pop dataframe"
   ]
  },
  {
   "cell_type": "code",
   "execution_count": 204,
   "id": "f8535804",
   "metadata": {},
   "outputs": [],
   "source": [
    "pop = pop.drop(columns = ['DATAFLOW', 'LAST UPDATE', 'freq', 'OBS_FLAG'])"
   ]
  },
  {
   "cell_type": "code",
   "execution_count": 205,
   "id": "2d5448eb",
   "metadata": {},
   "outputs": [
    {
     "data": {
      "text/html": [
       "<div>\n",
       "<style scoped>\n",
       "    .dataframe tbody tr th:only-of-type {\n",
       "        vertical-align: middle;\n",
       "    }\n",
       "\n",
       "    .dataframe tbody tr th {\n",
       "        vertical-align: top;\n",
       "    }\n",
       "\n",
       "    .dataframe thead th {\n",
       "        text-align: right;\n",
       "    }\n",
       "</style>\n",
       "<table border=\"1\" class=\"dataframe\">\n",
       "  <thead>\n",
       "    <tr style=\"text-align: right;\">\n",
       "      <th></th>\n",
       "      <th>indic_de</th>\n",
       "      <th>geo</th>\n",
       "      <th>TIME_PERIOD</th>\n",
       "      <th>OBS_VALUE</th>\n",
       "    </tr>\n",
       "  </thead>\n",
       "  <tbody>\n",
       "    <tr>\n",
       "      <th>0</th>\n",
       "      <td>AVG</td>\n",
       "      <td>AD</td>\n",
       "      <td>1986</td>\n",
       "      <td>45785.0</td>\n",
       "    </tr>\n",
       "    <tr>\n",
       "      <th>1</th>\n",
       "      <td>AVG</td>\n",
       "      <td>AD</td>\n",
       "      <td>1987</td>\n",
       "      <td>47714.0</td>\n",
       "    </tr>\n",
       "    <tr>\n",
       "      <th>2</th>\n",
       "      <td>AVG</td>\n",
       "      <td>AD</td>\n",
       "      <td>1988</td>\n",
       "      <td>49490.0</td>\n",
       "    </tr>\n",
       "    <tr>\n",
       "      <th>3</th>\n",
       "      <td>AVG</td>\n",
       "      <td>AD</td>\n",
       "      <td>1989</td>\n",
       "      <td>50708.0</td>\n",
       "    </tr>\n",
       "    <tr>\n",
       "      <th>4</th>\n",
       "      <td>AVG</td>\n",
       "      <td>AD</td>\n",
       "      <td>1990</td>\n",
       "      <td>52697.0</td>\n",
       "    </tr>\n",
       "  </tbody>\n",
       "</table>\n",
       "</div>"
      ],
      "text/plain": [
       "  indic_de geo  TIME_PERIOD  OBS_VALUE\n",
       "0      AVG  AD         1986    45785.0\n",
       "1      AVG  AD         1987    47714.0\n",
       "2      AVG  AD         1988    49490.0\n",
       "3      AVG  AD         1989    50708.0\n",
       "4      AVG  AD         1990    52697.0"
      ]
     },
     "execution_count": 205,
     "metadata": {},
     "output_type": "execute_result"
    }
   ],
   "source": [
    "pop.head()"
   ]
  },
  {
   "cell_type": "markdown",
   "id": "f1221edf",
   "metadata": {},
   "source": [
    "## 3.2 Renaming columns"
   ]
  },
  {
   "cell_type": "markdown",
   "id": "12c20204",
   "metadata": {},
   "source": [
    "### car_new dataframe"
   ]
  },
  {
   "cell_type": "markdown",
   "id": "49cef333",
   "metadata": {},
   "source": [
    "The following column name should be changed:\n",
    "\n",
    "    MOT_NRG - engine_type\n",
    "    GEO - country\n",
    "    TIME_PERIOD - year\n",
    "    OBS_VALUE - new_car"
   ]
  },
  {
   "cell_type": "code",
   "execution_count": 206,
   "id": "cfe1cc76",
   "metadata": {},
   "outputs": [],
   "source": [
    "# Renaming \"mot_nrg\" column in orders dataframe\n",
    "car_new.rename(columns = {'mot_nrg' : 'engine_type'}, inplace = True)"
   ]
  },
  {
   "cell_type": "code",
   "execution_count": 207,
   "id": "0fa132dd",
   "metadata": {},
   "outputs": [],
   "source": [
    "# Renaming \"geo\" column in orders dataframe\n",
    "car_new.rename(columns = {'geo' : 'country'}, inplace = True)"
   ]
  },
  {
   "cell_type": "code",
   "execution_count": 208,
   "id": "849cf54d",
   "metadata": {},
   "outputs": [],
   "source": [
    "# Renaming \"TIME_PERIOD\" column in orders dataframe\n",
    "car_new.rename(columns = {'TIME_PERIOD' : 'year'}, inplace = True)"
   ]
  },
  {
   "cell_type": "code",
   "execution_count": 209,
   "id": "7e10775f",
   "metadata": {},
   "outputs": [],
   "source": [
    "# Renaming \"OBS_VALUE\" column in orders dataframe\n",
    "car_new.rename(columns = {'OBS_VALUE' : 'new_car'}, inplace = True)"
   ]
  },
  {
   "cell_type": "code",
   "execution_count": 210,
   "id": "68b36c3d",
   "metadata": {},
   "outputs": [
    {
     "data": {
      "text/html": [
       "<div>\n",
       "<style scoped>\n",
       "    .dataframe tbody tr th:only-of-type {\n",
       "        vertical-align: middle;\n",
       "    }\n",
       "\n",
       "    .dataframe tbody tr th {\n",
       "        vertical-align: top;\n",
       "    }\n",
       "\n",
       "    .dataframe thead th {\n",
       "        text-align: right;\n",
       "    }\n",
       "</style>\n",
       "<table border=\"1\" class=\"dataframe\">\n",
       "  <thead>\n",
       "    <tr style=\"text-align: right;\">\n",
       "      <th></th>\n",
       "      <th>engine_type</th>\n",
       "      <th>country</th>\n",
       "      <th>year</th>\n",
       "      <th>new_car</th>\n",
       "    </tr>\n",
       "  </thead>\n",
       "  <tbody>\n",
       "    <tr>\n",
       "      <th>0</th>\n",
       "      <td>ALT</td>\n",
       "      <td>AL</td>\n",
       "      <td>2019</td>\n",
       "      <td>3757.0</td>\n",
       "    </tr>\n",
       "    <tr>\n",
       "      <th>1</th>\n",
       "      <td>ALT</td>\n",
       "      <td>AL</td>\n",
       "      <td>2020</td>\n",
       "      <td>4935.0</td>\n",
       "    </tr>\n",
       "    <tr>\n",
       "      <th>2</th>\n",
       "      <td>ALT</td>\n",
       "      <td>AL</td>\n",
       "      <td>2021</td>\n",
       "      <td>5703.0</td>\n",
       "    </tr>\n",
       "    <tr>\n",
       "      <th>3</th>\n",
       "      <td>ALT</td>\n",
       "      <td>AT</td>\n",
       "      <td>2013</td>\n",
       "      <td>1285.0</td>\n",
       "    </tr>\n",
       "    <tr>\n",
       "      <th>4</th>\n",
       "      <td>ALT</td>\n",
       "      <td>AT</td>\n",
       "      <td>2014</td>\n",
       "      <td>2074.0</td>\n",
       "    </tr>\n",
       "  </tbody>\n",
       "</table>\n",
       "</div>"
      ],
      "text/plain": [
       "  engine_type country  year  new_car\n",
       "0         ALT      AL  2019   3757.0\n",
       "1         ALT      AL  2020   4935.0\n",
       "2         ALT      AL  2021   5703.0\n",
       "3         ALT      AT  2013   1285.0\n",
       "4         ALT      AT  2014   2074.0"
      ]
     },
     "execution_count": 210,
     "metadata": {},
     "output_type": "execute_result"
    }
   ],
   "source": [
    "car_new.head()"
   ]
  },
  {
   "cell_type": "markdown",
   "id": "93d0722c",
   "metadata": {},
   "source": [
    "### car_stock dataframe"
   ]
  },
  {
   "cell_type": "markdown",
   "id": "bbe6d5f3",
   "metadata": {},
   "source": [
    "The following column name should be changed:\n",
    "\n",
    "    MOT_NRG - engine_type\n",
    "    GEO - country\n",
    "    TIME_PERIOD - year\n",
    "    OBS_VALUE - stock_car"
   ]
  },
  {
   "cell_type": "code",
   "execution_count": 211,
   "id": "175adaa6",
   "metadata": {},
   "outputs": [],
   "source": [
    "# Renaming \"mot_nrg\" column in orders dataframe\n",
    "car_stock.rename(columns = {'mot_nrg' : 'engine_type'}, inplace = True)"
   ]
  },
  {
   "cell_type": "code",
   "execution_count": 212,
   "id": "8c9a2695",
   "metadata": {},
   "outputs": [],
   "source": [
    "# Renaming \"geo\" column in orders dataframe\n",
    "car_stock.rename(columns = {'geo' : 'country'}, inplace = True)"
   ]
  },
  {
   "cell_type": "code",
   "execution_count": 213,
   "id": "cd3697ec",
   "metadata": {},
   "outputs": [],
   "source": [
    "# Renaming \"TIME_PERIOD\" column in orders dataframe\n",
    "car_stock.rename(columns = {'TIME_PERIOD' : 'year'}, inplace = True)"
   ]
  },
  {
   "cell_type": "code",
   "execution_count": 214,
   "id": "9794a479",
   "metadata": {},
   "outputs": [],
   "source": [
    "# Renaming \"OBS_VALUE\" column in orders dataframe\n",
    "car_stock.rename(columns = {'OBS_VALUE' : 'stock_car'}, inplace = True)"
   ]
  },
  {
   "cell_type": "code",
   "execution_count": 215,
   "id": "d88a1755",
   "metadata": {},
   "outputs": [
    {
     "data": {
      "text/html": [
       "<div>\n",
       "<style scoped>\n",
       "    .dataframe tbody tr th:only-of-type {\n",
       "        vertical-align: middle;\n",
       "    }\n",
       "\n",
       "    .dataframe tbody tr th {\n",
       "        vertical-align: top;\n",
       "    }\n",
       "\n",
       "    .dataframe thead th {\n",
       "        text-align: right;\n",
       "    }\n",
       "</style>\n",
       "<table border=\"1\" class=\"dataframe\">\n",
       "  <thead>\n",
       "    <tr style=\"text-align: right;\">\n",
       "      <th></th>\n",
       "      <th>engine_type</th>\n",
       "      <th>country</th>\n",
       "      <th>year</th>\n",
       "      <th>stock_car</th>\n",
       "    </tr>\n",
       "  </thead>\n",
       "  <tbody>\n",
       "    <tr>\n",
       "      <th>0</th>\n",
       "      <td>ALT</td>\n",
       "      <td>AL</td>\n",
       "      <td>2014</td>\n",
       "      <td>4373.0</td>\n",
       "    </tr>\n",
       "    <tr>\n",
       "      <th>1</th>\n",
       "      <td>ALT</td>\n",
       "      <td>AL</td>\n",
       "      <td>2015</td>\n",
       "      <td>7562.0</td>\n",
       "    </tr>\n",
       "    <tr>\n",
       "      <th>2</th>\n",
       "      <td>ALT</td>\n",
       "      <td>AL</td>\n",
       "      <td>2016</td>\n",
       "      <td>14544.0</td>\n",
       "    </tr>\n",
       "    <tr>\n",
       "      <th>3</th>\n",
       "      <td>ALT</td>\n",
       "      <td>AL</td>\n",
       "      <td>2017</td>\n",
       "      <td>21409.0</td>\n",
       "    </tr>\n",
       "    <tr>\n",
       "      <th>4</th>\n",
       "      <td>ALT</td>\n",
       "      <td>AL</td>\n",
       "      <td>2018</td>\n",
       "      <td>28994.0</td>\n",
       "    </tr>\n",
       "  </tbody>\n",
       "</table>\n",
       "</div>"
      ],
      "text/plain": [
       "  engine_type country  year  stock_car\n",
       "0         ALT      AL  2014     4373.0\n",
       "1         ALT      AL  2015     7562.0\n",
       "2         ALT      AL  2016    14544.0\n",
       "3         ALT      AL  2017    21409.0\n",
       "4         ALT      AL  2018    28994.0"
      ]
     },
     "execution_count": 215,
     "metadata": {},
     "output_type": "execute_result"
    }
   ],
   "source": [
    "car_stock.head()"
   ]
  },
  {
   "cell_type": "markdown",
   "id": "20f0cf1f",
   "metadata": {},
   "source": [
    "### gdp dataframe"
   ]
  },
  {
   "cell_type": "markdown",
   "id": "c3ea0a12",
   "metadata": {},
   "source": [
    "The following column name should be changed:\n",
    "\n",
    "    GEO - country\n",
    "    TIME_PERIOD - year\n",
    "    OBS_VALUE - gdp_eur"
   ]
  },
  {
   "cell_type": "code",
   "execution_count": 216,
   "id": "690b7df4",
   "metadata": {},
   "outputs": [],
   "source": [
    "# Renaming \"geo\" column in orders dataframe\n",
    "gdp.rename(columns = {'geo' : 'country'}, inplace = True)"
   ]
  },
  {
   "cell_type": "code",
   "execution_count": 217,
   "id": "c85e27e8",
   "metadata": {},
   "outputs": [],
   "source": [
    "# Renaming \"TIME_PERIOD\" column in orders dataframe\n",
    "gdp.rename(columns = {'TIME_PERIOD' : 'year'}, inplace = True)"
   ]
  },
  {
   "cell_type": "code",
   "execution_count": 218,
   "id": "ff168250",
   "metadata": {},
   "outputs": [],
   "source": [
    "# Renaming \"OBS_VALUE\" column in orders dataframe\n",
    "gdp.rename(columns = {'OBS_VALUE' : 'gdp_eur'}, inplace = True)"
   ]
  },
  {
   "cell_type": "code",
   "execution_count": 219,
   "id": "c53740a6",
   "metadata": {},
   "outputs": [
    {
     "data": {
      "text/html": [
       "<div>\n",
       "<style scoped>\n",
       "    .dataframe tbody tr th:only-of-type {\n",
       "        vertical-align: middle;\n",
       "    }\n",
       "\n",
       "    .dataframe tbody tr th {\n",
       "        vertical-align: top;\n",
       "    }\n",
       "\n",
       "    .dataframe thead th {\n",
       "        text-align: right;\n",
       "    }\n",
       "</style>\n",
       "<table border=\"1\" class=\"dataframe\">\n",
       "  <thead>\n",
       "    <tr style=\"text-align: right;\">\n",
       "      <th></th>\n",
       "      <th>country</th>\n",
       "      <th>year</th>\n",
       "      <th>gdp_eur</th>\n",
       "    </tr>\n",
       "  </thead>\n",
       "  <tbody>\n",
       "    <tr>\n",
       "      <th>0</th>\n",
       "      <td>AL</td>\n",
       "      <td>2013</td>\n",
       "      <td>9625.4</td>\n",
       "    </tr>\n",
       "    <tr>\n",
       "      <th>1</th>\n",
       "      <td>AL</td>\n",
       "      <td>2014</td>\n",
       "      <td>9968.6</td>\n",
       "    </tr>\n",
       "    <tr>\n",
       "      <th>2</th>\n",
       "      <td>AL</td>\n",
       "      <td>2015</td>\n",
       "      <td>10264.1</td>\n",
       "    </tr>\n",
       "    <tr>\n",
       "      <th>3</th>\n",
       "      <td>AL</td>\n",
       "      <td>2016</td>\n",
       "      <td>10719.9</td>\n",
       "    </tr>\n",
       "    <tr>\n",
       "      <th>4</th>\n",
       "      <td>AL</td>\n",
       "      <td>2017</td>\n",
       "      <td>11559.0</td>\n",
       "    </tr>\n",
       "  </tbody>\n",
       "</table>\n",
       "</div>"
      ],
      "text/plain": [
       "  country  year  gdp_eur\n",
       "0      AL  2013   9625.4\n",
       "1      AL  2014   9968.6\n",
       "2      AL  2015  10264.1\n",
       "3      AL  2016  10719.9\n",
       "4      AL  2017  11559.0"
      ]
     },
     "execution_count": 219,
     "metadata": {},
     "output_type": "execute_result"
    }
   ],
   "source": [
    "gdp.head()"
   ]
  },
  {
   "cell_type": "markdown",
   "id": "949073d1",
   "metadata": {},
   "source": [
    "### income dataframe"
   ]
  },
  {
   "cell_type": "markdown",
   "id": "e868ffbd",
   "metadata": {},
   "source": [
    "The following column name should be changed:\n",
    "\n",
    "    indic_il (Income and living conditions indicator) - income_indicator\n",
    "    unit - currency\n",
    "    GEO - country\n",
    "    TIME_PERIOD - year\n",
    "    OBS_VALUE - income"
   ]
  },
  {
   "cell_type": "code",
   "execution_count": 220,
   "id": "e8260d37",
   "metadata": {},
   "outputs": [],
   "source": [
    "# Renaming \"indic_il\" column in orders dataframe\n",
    "income.rename(columns = {'indic_il' : 'income_indicator'}, inplace = True)"
   ]
  },
  {
   "cell_type": "code",
   "execution_count": 221,
   "id": "0e422481",
   "metadata": {},
   "outputs": [],
   "source": [
    "# Renaming \"unit\" column in orders dataframe\n",
    "income.rename(columns = {'unit' : 'currency'}, inplace = True)"
   ]
  },
  {
   "cell_type": "code",
   "execution_count": 222,
   "id": "2b424c95",
   "metadata": {},
   "outputs": [],
   "source": [
    "# Renaming \"geo\" column in orders dataframe\n",
    "income.rename(columns = {'geo' : 'country'}, inplace = True)"
   ]
  },
  {
   "cell_type": "code",
   "execution_count": 223,
   "id": "85fb6cd5",
   "metadata": {},
   "outputs": [],
   "source": [
    "# Renaming \"TIME_PERIOD\" column in orders dataframe\n",
    "income.rename(columns = {'TIME_PERIOD' : 'year'}, inplace = True)"
   ]
  },
  {
   "cell_type": "code",
   "execution_count": 224,
   "id": "17d1f162",
   "metadata": {},
   "outputs": [],
   "source": [
    "# Renaming \"OBS_VALUE\" column in orders dataframe\n",
    "income.rename(columns = {'OBS_VALUE' : 'income'}, inplace = True)"
   ]
  },
  {
   "cell_type": "code",
   "execution_count": 225,
   "id": "a6eb04b0",
   "metadata": {},
   "outputs": [
    {
     "data": {
      "text/html": [
       "<div>\n",
       "<style scoped>\n",
       "    .dataframe tbody tr th:only-of-type {\n",
       "        vertical-align: middle;\n",
       "    }\n",
       "\n",
       "    .dataframe tbody tr th {\n",
       "        vertical-align: top;\n",
       "    }\n",
       "\n",
       "    .dataframe thead th {\n",
       "        text-align: right;\n",
       "    }\n",
       "</style>\n",
       "<table border=\"1\" class=\"dataframe\">\n",
       "  <thead>\n",
       "    <tr style=\"text-align: right;\">\n",
       "      <th></th>\n",
       "      <th>age</th>\n",
       "      <th>sex</th>\n",
       "      <th>income_indicator</th>\n",
       "      <th>currency</th>\n",
       "      <th>country</th>\n",
       "      <th>year</th>\n",
       "      <th>income</th>\n",
       "    </tr>\n",
       "  </thead>\n",
       "  <tbody>\n",
       "    <tr>\n",
       "      <th>0</th>\n",
       "      <td>TOTAL</td>\n",
       "      <td>F</td>\n",
       "      <td>MED_E</td>\n",
       "      <td>EUR</td>\n",
       "      <td>AL</td>\n",
       "      <td>2017</td>\n",
       "      <td>1747</td>\n",
       "    </tr>\n",
       "    <tr>\n",
       "      <th>1</th>\n",
       "      <td>TOTAL</td>\n",
       "      <td>F</td>\n",
       "      <td>MED_E</td>\n",
       "      <td>EUR</td>\n",
       "      <td>AL</td>\n",
       "      <td>2018</td>\n",
       "      <td>1972</td>\n",
       "    </tr>\n",
       "    <tr>\n",
       "      <th>2</th>\n",
       "      <td>TOTAL</td>\n",
       "      <td>F</td>\n",
       "      <td>MED_E</td>\n",
       "      <td>EUR</td>\n",
       "      <td>AL</td>\n",
       "      <td>2019</td>\n",
       "      <td>2195</td>\n",
       "    </tr>\n",
       "    <tr>\n",
       "      <th>3</th>\n",
       "      <td>TOTAL</td>\n",
       "      <td>F</td>\n",
       "      <td>MED_E</td>\n",
       "      <td>EUR</td>\n",
       "      <td>AL</td>\n",
       "      <td>2020</td>\n",
       "      <td>2482</td>\n",
       "    </tr>\n",
       "    <tr>\n",
       "      <th>4</th>\n",
       "      <td>TOTAL</td>\n",
       "      <td>F</td>\n",
       "      <td>MED_E</td>\n",
       "      <td>EUR</td>\n",
       "      <td>AT</td>\n",
       "      <td>1995</td>\n",
       "      <td>13394</td>\n",
       "    </tr>\n",
       "  </tbody>\n",
       "</table>\n",
       "</div>"
      ],
      "text/plain": [
       "     age sex income_indicator currency country  year  income\n",
       "0  TOTAL   F            MED_E      EUR      AL  2017    1747\n",
       "1  TOTAL   F            MED_E      EUR      AL  2018    1972\n",
       "2  TOTAL   F            MED_E      EUR      AL  2019    2195\n",
       "3  TOTAL   F            MED_E      EUR      AL  2020    2482\n",
       "4  TOTAL   F            MED_E      EUR      AT  1995   13394"
      ]
     },
     "execution_count": 225,
     "metadata": {},
     "output_type": "execute_result"
    }
   ],
   "source": [
    "income.head()"
   ]
  },
  {
   "cell_type": "markdown",
   "id": "7d8f6f97",
   "metadata": {},
   "source": [
    "### pop dataframe"
   ]
  },
  {
   "cell_type": "markdown",
   "id": "dad23640",
   "metadata": {},
   "source": [
    "The following column name should be changed:\n",
    "\n",
    "    indic_de - demographic_indicator\n",
    "    GEO - country\n",
    "    TIME_PERIOD - year\n",
    "    OBS_VALUE - population"
   ]
  },
  {
   "cell_type": "code",
   "execution_count": 226,
   "id": "a1b8025c",
   "metadata": {},
   "outputs": [],
   "source": [
    "# Renaming \"indic_de\" column in orders dataframe\n",
    "pop.rename(columns = {'indic_de' : 'demographic_indicator'}, inplace = True)"
   ]
  },
  {
   "cell_type": "code",
   "execution_count": 227,
   "id": "0ecba460",
   "metadata": {},
   "outputs": [],
   "source": [
    "# Renaming \"geo\" column in orders dataframe\n",
    "pop.rename(columns = {'geo' : 'country'}, inplace = True)"
   ]
  },
  {
   "cell_type": "code",
   "execution_count": 228,
   "id": "8c7a204a",
   "metadata": {},
   "outputs": [],
   "source": [
    "# Renaming \"TIME_PERIOD\" column in orders dataframe\n",
    "pop.rename(columns = {'TIME_PERIOD' : 'year'}, inplace = True)"
   ]
  },
  {
   "cell_type": "code",
   "execution_count": 229,
   "id": "b53af600",
   "metadata": {},
   "outputs": [],
   "source": [
    "# Renaming \"OBS_VALUE\" column in orders dataframe\n",
    "pop.rename(columns = {'OBS_VALUE' : 'population'}, inplace = True)"
   ]
  },
  {
   "cell_type": "code",
   "execution_count": 230,
   "id": "d24cd5e3",
   "metadata": {},
   "outputs": [
    {
     "data": {
      "text/html": [
       "<div>\n",
       "<style scoped>\n",
       "    .dataframe tbody tr th:only-of-type {\n",
       "        vertical-align: middle;\n",
       "    }\n",
       "\n",
       "    .dataframe tbody tr th {\n",
       "        vertical-align: top;\n",
       "    }\n",
       "\n",
       "    .dataframe thead th {\n",
       "        text-align: right;\n",
       "    }\n",
       "</style>\n",
       "<table border=\"1\" class=\"dataframe\">\n",
       "  <thead>\n",
       "    <tr style=\"text-align: right;\">\n",
       "      <th></th>\n",
       "      <th>demographic_indicator</th>\n",
       "      <th>country</th>\n",
       "      <th>year</th>\n",
       "      <th>population</th>\n",
       "    </tr>\n",
       "  </thead>\n",
       "  <tbody>\n",
       "    <tr>\n",
       "      <th>0</th>\n",
       "      <td>AVG</td>\n",
       "      <td>AD</td>\n",
       "      <td>1986</td>\n",
       "      <td>45785.0</td>\n",
       "    </tr>\n",
       "    <tr>\n",
       "      <th>1</th>\n",
       "      <td>AVG</td>\n",
       "      <td>AD</td>\n",
       "      <td>1987</td>\n",
       "      <td>47714.0</td>\n",
       "    </tr>\n",
       "    <tr>\n",
       "      <th>2</th>\n",
       "      <td>AVG</td>\n",
       "      <td>AD</td>\n",
       "      <td>1988</td>\n",
       "      <td>49490.0</td>\n",
       "    </tr>\n",
       "    <tr>\n",
       "      <th>3</th>\n",
       "      <td>AVG</td>\n",
       "      <td>AD</td>\n",
       "      <td>1989</td>\n",
       "      <td>50708.0</td>\n",
       "    </tr>\n",
       "    <tr>\n",
       "      <th>4</th>\n",
       "      <td>AVG</td>\n",
       "      <td>AD</td>\n",
       "      <td>1990</td>\n",
       "      <td>52697.0</td>\n",
       "    </tr>\n",
       "  </tbody>\n",
       "</table>\n",
       "</div>"
      ],
      "text/plain": [
       "  demographic_indicator country  year  population\n",
       "0                   AVG      AD  1986     45785.0\n",
       "1                   AVG      AD  1987     47714.0\n",
       "2                   AVG      AD  1988     49490.0\n",
       "3                   AVG      AD  1989     50708.0\n",
       "4                   AVG      AD  1990     52697.0"
      ]
     },
     "execution_count": 230,
     "metadata": {},
     "output_type": "execute_result"
    }
   ],
   "source": [
    "pop.head()"
   ]
  },
  {
   "cell_type": "markdown",
   "id": "7f7d4c9a",
   "metadata": {},
   "source": [
    "## 3.3 Checking data types"
   ]
  },
  {
   "cell_type": "markdown",
   "id": "6645f3fc",
   "metadata": {},
   "source": [
    "I will check the data types of all columns for all dataframes to see if anything needs to be changed. "
   ]
  },
  {
   "cell_type": "code",
   "execution_count": 231,
   "id": "4f9ad802",
   "metadata": {},
   "outputs": [
    {
     "data": {
      "text/plain": [
       "engine_type     object\n",
       "country         object\n",
       "year             int64\n",
       "new_car        float64\n",
       "dtype: object"
      ]
     },
     "execution_count": 231,
     "metadata": {},
     "output_type": "execute_result"
    }
   ],
   "source": [
    "car_new.dtypes"
   ]
  },
  {
   "cell_type": "code",
   "execution_count": 232,
   "id": "18398e4c",
   "metadata": {},
   "outputs": [
    {
     "data": {
      "text/plain": [
       "engine_type     object\n",
       "country         object\n",
       "year             int64\n",
       "stock_car      float64\n",
       "dtype: object"
      ]
     },
     "execution_count": 232,
     "metadata": {},
     "output_type": "execute_result"
    }
   ],
   "source": [
    "car_stock.dtypes"
   ]
  },
  {
   "cell_type": "code",
   "execution_count": 233,
   "id": "7252405b",
   "metadata": {},
   "outputs": [
    {
     "data": {
      "text/plain": [
       "country     object\n",
       "year         int64\n",
       "gdp_eur    float64\n",
       "dtype: object"
      ]
     },
     "execution_count": 233,
     "metadata": {},
     "output_type": "execute_result"
    }
   ],
   "source": [
    "gdp.dtypes"
   ]
  },
  {
   "cell_type": "code",
   "execution_count": 234,
   "id": "51c1f827",
   "metadata": {},
   "outputs": [
    {
     "data": {
      "text/plain": [
       "age                 object\n",
       "sex                 object\n",
       "income_indicator    object\n",
       "currency            object\n",
       "country             object\n",
       "year                 int64\n",
       "income               int64\n",
       "dtype: object"
      ]
     },
     "execution_count": 234,
     "metadata": {},
     "output_type": "execute_result"
    }
   ],
   "source": [
    "income.dtypes"
   ]
  },
  {
   "cell_type": "code",
   "execution_count": 235,
   "id": "7508fc38",
   "metadata": {},
   "outputs": [
    {
     "data": {
      "text/plain": [
       "demographic_indicator     object\n",
       "country                   object\n",
       "year                       int64\n",
       "population               float64\n",
       "dtype: object"
      ]
     },
     "execution_count": 235,
     "metadata": {},
     "output_type": "execute_result"
    }
   ],
   "source": [
    "pop.dtypes"
   ]
  },
  {
   "cell_type": "markdown",
   "id": "9719ca46",
   "metadata": {},
   "source": [
    "It looks that the data types for all columns in all dataframes are assigned correctly. The only change I am going to make is the \"population\" column in the pop dataframe, as the number of people cannot be a floating number."
   ]
  },
  {
   "cell_type": "code",
   "execution_count": 236,
   "id": "4b3656d2",
   "metadata": {},
   "outputs": [],
   "source": [
    "# Convert \"population\" column's data type to integer\n",
    "pop['population'] = pop['population'].astype('int64')"
   ]
  },
  {
   "cell_type": "code",
   "execution_count": 237,
   "id": "99369ccd",
   "metadata": {},
   "outputs": [
    {
     "data": {
      "text/plain": [
       "demographic_indicator    object\n",
       "country                  object\n",
       "year                      int64\n",
       "population                int64\n",
       "dtype: object"
      ]
     },
     "execution_count": 237,
     "metadata": {},
     "output_type": "execute_result"
    }
   ],
   "source": [
    "pop.dtypes"
   ]
  },
  {
   "cell_type": "markdown",
   "id": "5c80e784",
   "metadata": {},
   "source": [
    "# 4. Data consistency checks"
   ]
  },
  {
   "cell_type": "markdown",
   "id": "e2472782",
   "metadata": {},
   "source": [
    "## 4.1 Missing values"
   ]
  },
  {
   "cell_type": "markdown",
   "id": "b20b5189",
   "metadata": {},
   "source": [
    "Checking how many null values there are in each of the dataframes"
   ]
  },
  {
   "cell_type": "markdown",
   "id": "9a52054c",
   "metadata": {},
   "source": [
    "#### car_new dataframe"
   ]
  },
  {
   "cell_type": "code",
   "execution_count": 238,
   "id": "a63cc8dd",
   "metadata": {},
   "outputs": [
    {
     "data": {
      "text/plain": [
       "engine_type     0\n",
       "country         0\n",
       "year            0\n",
       "new_car        11\n",
       "dtype: int64"
      ]
     },
     "execution_count": 238,
     "metadata": {},
     "output_type": "execute_result"
    }
   ],
   "source": [
    "car_new.isnull().sum()"
   ]
  },
  {
   "cell_type": "markdown",
   "id": "872a18b5",
   "metadata": {},
   "source": [
    "There are 11 missing values in the number of new cars. This is however an important information and therefore, the null values will be kept."
   ]
  },
  {
   "cell_type": "markdown",
   "id": "f29f3969",
   "metadata": {},
   "source": [
    "#### car_stock dataframe"
   ]
  },
  {
   "cell_type": "code",
   "execution_count": 239,
   "id": "9f60dd49",
   "metadata": {},
   "outputs": [
    {
     "data": {
      "text/plain": [
       "engine_type     0\n",
       "country         0\n",
       "year            0\n",
       "stock_car      35\n",
       "dtype: int64"
      ]
     },
     "execution_count": 239,
     "metadata": {},
     "output_type": "execute_result"
    }
   ],
   "source": [
    "car_stock.isnull().sum()"
   ]
  },
  {
   "cell_type": "markdown",
   "id": "45f1315f",
   "metadata": {},
   "source": [
    "There are 35 missing values for the number of cars in stock. This is however an important information and therefore, the null values will be kept."
   ]
  },
  {
   "cell_type": "markdown",
   "id": "c595138c",
   "metadata": {},
   "source": [
    "#### gdp dataframe"
   ]
  },
  {
   "cell_type": "code",
   "execution_count": 240,
   "id": "dc443a17",
   "metadata": {},
   "outputs": [
    {
     "data": {
      "text/plain": [
       "country    0\n",
       "year       0\n",
       "gdp_eur    0\n",
       "dtype: int64"
      ]
     },
     "execution_count": 240,
     "metadata": {},
     "output_type": "execute_result"
    }
   ],
   "source": [
    "gdp.isnull().sum()"
   ]
  },
  {
   "cell_type": "markdown",
   "id": "b007d813",
   "metadata": {},
   "source": [
    "No missing values in the gdp dataframe"
   ]
  },
  {
   "cell_type": "markdown",
   "id": "430e6fc1",
   "metadata": {},
   "source": [
    "#### income  dataframe"
   ]
  },
  {
   "cell_type": "code",
   "execution_count": 241,
   "id": "738e1d4f",
   "metadata": {},
   "outputs": [
    {
     "data": {
      "text/plain": [
       "age                 0\n",
       "sex                 0\n",
       "income_indicator    0\n",
       "currency            0\n",
       "country             0\n",
       "year                0\n",
       "income              0\n",
       "dtype: int64"
      ]
     },
     "execution_count": 241,
     "metadata": {},
     "output_type": "execute_result"
    }
   ],
   "source": [
    "income.isnull().sum()"
   ]
  },
  {
   "cell_type": "markdown",
   "id": "38b498bb",
   "metadata": {},
   "source": [
    "No missing values in the income dataframe."
   ]
  },
  {
   "cell_type": "markdown",
   "id": "4312b19c",
   "metadata": {},
   "source": [
    "#### pop dataframe"
   ]
  },
  {
   "cell_type": "code",
   "execution_count": 242,
   "id": "2db4663b",
   "metadata": {},
   "outputs": [
    {
     "data": {
      "text/plain": [
       "demographic_indicator    0\n",
       "country                  0\n",
       "year                     0\n",
       "population               0\n",
       "dtype: int64"
      ]
     },
     "execution_count": 242,
     "metadata": {},
     "output_type": "execute_result"
    }
   ],
   "source": [
    "pop.isnull().sum()"
   ]
  },
  {
   "cell_type": "markdown",
   "id": "464237dd",
   "metadata": {},
   "source": [
    "No missing values in the population dataframe"
   ]
  },
  {
   "cell_type": "markdown",
   "id": "5ea21959",
   "metadata": {},
   "source": [
    "## 4.2 Duplicates"
   ]
  },
  {
   "cell_type": "markdown",
   "id": "0289a9bc",
   "metadata": {},
   "source": [
    "#### car_new dataframe"
   ]
  },
  {
   "cell_type": "code",
   "execution_count": 243,
   "id": "d6135ea8",
   "metadata": {},
   "outputs": [],
   "source": [
    "car_new_dups = car_new[car_new.duplicated()]"
   ]
  },
  {
   "cell_type": "code",
   "execution_count": 244,
   "id": "24815bcb",
   "metadata": {},
   "outputs": [
    {
     "data": {
      "text/html": [
       "<div>\n",
       "<style scoped>\n",
       "    .dataframe tbody tr th:only-of-type {\n",
       "        vertical-align: middle;\n",
       "    }\n",
       "\n",
       "    .dataframe tbody tr th {\n",
       "        vertical-align: top;\n",
       "    }\n",
       "\n",
       "    .dataframe thead th {\n",
       "        text-align: right;\n",
       "    }\n",
       "</style>\n",
       "<table border=\"1\" class=\"dataframe\">\n",
       "  <thead>\n",
       "    <tr style=\"text-align: right;\">\n",
       "      <th></th>\n",
       "      <th>engine_type</th>\n",
       "      <th>country</th>\n",
       "      <th>year</th>\n",
       "      <th>new_car</th>\n",
       "    </tr>\n",
       "  </thead>\n",
       "  <tbody>\n",
       "  </tbody>\n",
       "</table>\n",
       "</div>"
      ],
      "text/plain": [
       "Empty DataFrame\n",
       "Columns: [engine_type, country, year, new_car]\n",
       "Index: []"
      ]
     },
     "execution_count": 244,
     "metadata": {},
     "output_type": "execute_result"
    }
   ],
   "source": [
    "car_new_dups"
   ]
  },
  {
   "cell_type": "markdown",
   "id": "a6316184",
   "metadata": {},
   "source": [
    "There are no duplicated values in the car_new dataframe"
   ]
  },
  {
   "cell_type": "markdown",
   "id": "15248367",
   "metadata": {},
   "source": [
    "#### car_stock dataframe"
   ]
  },
  {
   "cell_type": "code",
   "execution_count": 245,
   "id": "2d246059",
   "metadata": {},
   "outputs": [],
   "source": [
    "car_stock_dups = car_stock[car_stock.duplicated()]"
   ]
  },
  {
   "cell_type": "code",
   "execution_count": 246,
   "id": "cd77363b",
   "metadata": {},
   "outputs": [
    {
     "data": {
      "text/html": [
       "<div>\n",
       "<style scoped>\n",
       "    .dataframe tbody tr th:only-of-type {\n",
       "        vertical-align: middle;\n",
       "    }\n",
       "\n",
       "    .dataframe tbody tr th {\n",
       "        vertical-align: top;\n",
       "    }\n",
       "\n",
       "    .dataframe thead th {\n",
       "        text-align: right;\n",
       "    }\n",
       "</style>\n",
       "<table border=\"1\" class=\"dataframe\">\n",
       "  <thead>\n",
       "    <tr style=\"text-align: right;\">\n",
       "      <th></th>\n",
       "      <th>engine_type</th>\n",
       "      <th>country</th>\n",
       "      <th>year</th>\n",
       "      <th>stock_car</th>\n",
       "    </tr>\n",
       "  </thead>\n",
       "  <tbody>\n",
       "  </tbody>\n",
       "</table>\n",
       "</div>"
      ],
      "text/plain": [
       "Empty DataFrame\n",
       "Columns: [engine_type, country, year, stock_car]\n",
       "Index: []"
      ]
     },
     "execution_count": 246,
     "metadata": {},
     "output_type": "execute_result"
    }
   ],
   "source": [
    "car_stock_dups"
   ]
  },
  {
   "cell_type": "markdown",
   "id": "84b4a045",
   "metadata": {},
   "source": [
    "There are no duplicated values in the car_stock dataframe"
   ]
  },
  {
   "cell_type": "markdown",
   "id": "8bb5ac19",
   "metadata": {},
   "source": [
    "#### gdp dataframe"
   ]
  },
  {
   "cell_type": "code",
   "execution_count": 247,
   "id": "86848cef",
   "metadata": {},
   "outputs": [],
   "source": [
    "gdp_dups = gdp[gdp.duplicated()]"
   ]
  },
  {
   "cell_type": "code",
   "execution_count": 248,
   "id": "2c0e8676",
   "metadata": {},
   "outputs": [
    {
     "data": {
      "text/html": [
       "<div>\n",
       "<style scoped>\n",
       "    .dataframe tbody tr th:only-of-type {\n",
       "        vertical-align: middle;\n",
       "    }\n",
       "\n",
       "    .dataframe tbody tr th {\n",
       "        vertical-align: top;\n",
       "    }\n",
       "\n",
       "    .dataframe thead th {\n",
       "        text-align: right;\n",
       "    }\n",
       "</style>\n",
       "<table border=\"1\" class=\"dataframe\">\n",
       "  <thead>\n",
       "    <tr style=\"text-align: right;\">\n",
       "      <th></th>\n",
       "      <th>country</th>\n",
       "      <th>year</th>\n",
       "      <th>gdp_eur</th>\n",
       "    </tr>\n",
       "  </thead>\n",
       "  <tbody>\n",
       "  </tbody>\n",
       "</table>\n",
       "</div>"
      ],
      "text/plain": [
       "Empty DataFrame\n",
       "Columns: [country, year, gdp_eur]\n",
       "Index: []"
      ]
     },
     "execution_count": 248,
     "metadata": {},
     "output_type": "execute_result"
    }
   ],
   "source": [
    "gdp_dups"
   ]
  },
  {
   "cell_type": "markdown",
   "id": "80e53a41",
   "metadata": {},
   "source": [
    "There are no duplicated values in the gdp dataframe"
   ]
  },
  {
   "cell_type": "markdown",
   "id": "50dd6ebc",
   "metadata": {},
   "source": [
    "#### income dataframe"
   ]
  },
  {
   "cell_type": "code",
   "execution_count": 249,
   "id": "c6d09d18",
   "metadata": {},
   "outputs": [],
   "source": [
    "income_dups = income[income.duplicated()]"
   ]
  },
  {
   "cell_type": "code",
   "execution_count": 250,
   "id": "f70f980c",
   "metadata": {},
   "outputs": [
    {
     "data": {
      "text/html": [
       "<div>\n",
       "<style scoped>\n",
       "    .dataframe tbody tr th:only-of-type {\n",
       "        vertical-align: middle;\n",
       "    }\n",
       "\n",
       "    .dataframe tbody tr th {\n",
       "        vertical-align: top;\n",
       "    }\n",
       "\n",
       "    .dataframe thead th {\n",
       "        text-align: right;\n",
       "    }\n",
       "</style>\n",
       "<table border=\"1\" class=\"dataframe\">\n",
       "  <thead>\n",
       "    <tr style=\"text-align: right;\">\n",
       "      <th></th>\n",
       "      <th>age</th>\n",
       "      <th>sex</th>\n",
       "      <th>income_indicator</th>\n",
       "      <th>currency</th>\n",
       "      <th>country</th>\n",
       "      <th>year</th>\n",
       "      <th>income</th>\n",
       "    </tr>\n",
       "  </thead>\n",
       "  <tbody>\n",
       "  </tbody>\n",
       "</table>\n",
       "</div>"
      ],
      "text/plain": [
       "Empty DataFrame\n",
       "Columns: [age, sex, income_indicator, currency, country, year, income]\n",
       "Index: []"
      ]
     },
     "execution_count": 250,
     "metadata": {},
     "output_type": "execute_result"
    }
   ],
   "source": [
    "income_dups"
   ]
  },
  {
   "cell_type": "markdown",
   "id": "f4b16217",
   "metadata": {},
   "source": [
    "There is no duplicated values in the income dataframe"
   ]
  },
  {
   "cell_type": "markdown",
   "id": "60106741",
   "metadata": {},
   "source": [
    "#### pop dataframe"
   ]
  },
  {
   "cell_type": "code",
   "execution_count": 251,
   "id": "1be3df7a",
   "metadata": {},
   "outputs": [],
   "source": [
    "pop_dups = pop[pop.duplicated()]"
   ]
  },
  {
   "cell_type": "code",
   "execution_count": 252,
   "id": "98c28dbb",
   "metadata": {},
   "outputs": [
    {
     "data": {
      "text/html": [
       "<div>\n",
       "<style scoped>\n",
       "    .dataframe tbody tr th:only-of-type {\n",
       "        vertical-align: middle;\n",
       "    }\n",
       "\n",
       "    .dataframe tbody tr th {\n",
       "        vertical-align: top;\n",
       "    }\n",
       "\n",
       "    .dataframe thead th {\n",
       "        text-align: right;\n",
       "    }\n",
       "</style>\n",
       "<table border=\"1\" class=\"dataframe\">\n",
       "  <thead>\n",
       "    <tr style=\"text-align: right;\">\n",
       "      <th></th>\n",
       "      <th>demographic_indicator</th>\n",
       "      <th>country</th>\n",
       "      <th>year</th>\n",
       "      <th>population</th>\n",
       "    </tr>\n",
       "  </thead>\n",
       "  <tbody>\n",
       "  </tbody>\n",
       "</table>\n",
       "</div>"
      ],
      "text/plain": [
       "Empty DataFrame\n",
       "Columns: [demographic_indicator, country, year, population]\n",
       "Index: []"
      ]
     },
     "execution_count": 252,
     "metadata": {},
     "output_type": "execute_result"
    }
   ],
   "source": [
    "pop_dups"
   ]
  },
  {
   "cell_type": "markdown",
   "id": "54d721dd",
   "metadata": {},
   "source": [
    "There is no duplicated values in the pop dataframe"
   ]
  },
  {
   "cell_type": "markdown",
   "id": "3c35bff9",
   "metadata": {},
   "source": [
    "# 5. Subsetting dataframes"
   ]
  },
  {
   "cell_type": "markdown",
   "id": "6c347ea2",
   "metadata": {},
   "source": [
    "## 5.1 Subsetting income dataframes"
   ]
  },
  {
   "cell_type": "markdown",
   "id": "48747b4b",
   "metadata": {},
   "source": [
    "The income dataframe is very detail and we do not need that level of information. Therefore, some subsetting will be necessary."
   ]
  },
  {
   "cell_type": "markdown",
   "id": "30323b12",
   "metadata": {},
   "source": [
    "### 5.1.1. Sex column"
   ]
  },
  {
   "cell_type": "code",
   "execution_count": 253,
   "id": "8010499f",
   "metadata": {},
   "outputs": [
    {
     "data": {
      "text/plain": [
       "F    90624\n",
       "M    90624\n",
       "T    90624\n",
       "Name: sex, dtype: int64"
      ]
     },
     "execution_count": 253,
     "metadata": {},
     "output_type": "execute_result"
    }
   ],
   "source": [
    "income['sex'].value_counts()"
   ]
  },
  {
   "cell_type": "code",
   "execution_count": 254,
   "id": "62fcde0f",
   "metadata": {},
   "outputs": [],
   "source": [
    "# Creating a subset of income dataframe for total number, without the split by sex \n",
    "income_sex = income[income['sex'] == 'T']"
   ]
  },
  {
   "cell_type": "code",
   "execution_count": 255,
   "id": "ad1ed37c",
   "metadata": {},
   "outputs": [
    {
     "data": {
      "text/plain": [
       "T    90624\n",
       "Name: sex, dtype: int64"
      ]
     },
     "execution_count": 255,
     "metadata": {},
     "output_type": "execute_result"
    }
   ],
   "source": [
    "income_sex['sex'].value_counts()"
   ]
  },
  {
   "cell_type": "markdown",
   "id": "eecc9703",
   "metadata": {},
   "source": [
    "### 5.1.2. Age column"
   ]
  },
  {
   "cell_type": "code",
   "execution_count": 256,
   "id": "c87b2cd7",
   "metadata": {},
   "outputs": [
    {
     "data": {
      "text/plain": [
       "TOTAL     4300\n",
       "Y50-64    4300\n",
       "Y_LT65    4300\n",
       "Y_LT6     4300\n",
       "Y_LT16    4300\n",
       "Y_GE75    4300\n",
       "Y_GE65    4300\n",
       "Y_GE16    4300\n",
       "Y_LT75    4300\n",
       "Y25-49    4300\n",
       "Y16-64    4300\n",
       "Y16-24    4300\n",
       "Y25-54    3732\n",
       "Y55-64    3732\n",
       "Y_GE18    3732\n",
       "Y_GE60    3732\n",
       "Y18-64    3732\n",
       "Y18-24    3732\n",
       "Y_LT18    3732\n",
       "Y_LT60    3732\n",
       "Y12-17    3732\n",
       "Y6-11     3732\n",
       "Y6-10      568\n",
       "Y11-15     568\n",
       "Y65-74     568\n",
       "Name: age, dtype: int64"
      ]
     },
     "execution_count": 256,
     "metadata": {},
     "output_type": "execute_result"
    }
   ],
   "source": [
    "income_sex['age'].value_counts()"
   ]
  },
  {
   "cell_type": "markdown",
   "id": "e9716c9d",
   "metadata": {},
   "source": [
    "The possible information regarding the age, that might be useful for the analysis are:\n",
    "\n",
    "    total number - TOTAL\n",
    "    Less than 18 years - Y_LT18\n",
    "    18 years and over - Y_GE18\n",
    "    From 18 to 64 - Y18-64\n",
    "    65 years and over - Y_GE65"
   ]
  },
  {
   "cell_type": "code",
   "execution_count": 257,
   "id": "a616dc2b",
   "metadata": {},
   "outputs": [],
   "source": [
    "income_age = income_sex[income_sex['age'].isin(['TOTAL', 'Y_LT18', 'Y_GE18', 'Y18-64', 'Y_GE65'])]"
   ]
  },
  {
   "cell_type": "code",
   "execution_count": 258,
   "id": "f7619efc",
   "metadata": {},
   "outputs": [
    {
     "data": {
      "text/html": [
       "<div>\n",
       "<style scoped>\n",
       "    .dataframe tbody tr th:only-of-type {\n",
       "        vertical-align: middle;\n",
       "    }\n",
       "\n",
       "    .dataframe tbody tr th {\n",
       "        vertical-align: top;\n",
       "    }\n",
       "\n",
       "    .dataframe thead th {\n",
       "        text-align: right;\n",
       "    }\n",
       "</style>\n",
       "<table border=\"1\" class=\"dataframe\">\n",
       "  <thead>\n",
       "    <tr style=\"text-align: right;\">\n",
       "      <th></th>\n",
       "      <th>age</th>\n",
       "      <th>sex</th>\n",
       "      <th>income_indicator</th>\n",
       "      <th>currency</th>\n",
       "      <th>country</th>\n",
       "      <th>year</th>\n",
       "      <th>income</th>\n",
       "    </tr>\n",
       "  </thead>\n",
       "  <tbody>\n",
       "    <tr>\n",
       "      <th>8600</th>\n",
       "      <td>TOTAL</td>\n",
       "      <td>T</td>\n",
       "      <td>MED_E</td>\n",
       "      <td>EUR</td>\n",
       "      <td>AL</td>\n",
       "      <td>2017</td>\n",
       "      <td>1760</td>\n",
       "    </tr>\n",
       "    <tr>\n",
       "      <th>8601</th>\n",
       "      <td>TOTAL</td>\n",
       "      <td>T</td>\n",
       "      <td>MED_E</td>\n",
       "      <td>EUR</td>\n",
       "      <td>AL</td>\n",
       "      <td>2018</td>\n",
       "      <td>1997</td>\n",
       "    </tr>\n",
       "    <tr>\n",
       "      <th>8602</th>\n",
       "      <td>TOTAL</td>\n",
       "      <td>T</td>\n",
       "      <td>MED_E</td>\n",
       "      <td>EUR</td>\n",
       "      <td>AL</td>\n",
       "      <td>2019</td>\n",
       "      <td>2231</td>\n",
       "    </tr>\n",
       "    <tr>\n",
       "      <th>8603</th>\n",
       "      <td>TOTAL</td>\n",
       "      <td>T</td>\n",
       "      <td>MED_E</td>\n",
       "      <td>EUR</td>\n",
       "      <td>AL</td>\n",
       "      <td>2020</td>\n",
       "      <td>2523</td>\n",
       "    </tr>\n",
       "    <tr>\n",
       "      <th>8604</th>\n",
       "      <td>TOTAL</td>\n",
       "      <td>T</td>\n",
       "      <td>MED_E</td>\n",
       "      <td>EUR</td>\n",
       "      <td>AT</td>\n",
       "      <td>1995</td>\n",
       "      <td>13971</td>\n",
       "    </tr>\n",
       "  </tbody>\n",
       "</table>\n",
       "</div>"
      ],
      "text/plain": [
       "        age sex income_indicator currency country  year  income\n",
       "8600  TOTAL   T            MED_E      EUR      AL  2017    1760\n",
       "8601  TOTAL   T            MED_E      EUR      AL  2018    1997\n",
       "8602  TOTAL   T            MED_E      EUR      AL  2019    2231\n",
       "8603  TOTAL   T            MED_E      EUR      AL  2020    2523\n",
       "8604  TOTAL   T            MED_E      EUR      AT  1995   13971"
      ]
     },
     "execution_count": 258,
     "metadata": {},
     "output_type": "execute_result"
    }
   ],
   "source": [
    "income_age.head()"
   ]
  },
  {
   "cell_type": "code",
   "execution_count": 259,
   "id": "d51bfe15",
   "metadata": {},
   "outputs": [
    {
     "data": {
      "text/plain": [
       "TOTAL     4300\n",
       "Y_GE65    4300\n",
       "Y18-64    3732\n",
       "Y_GE18    3732\n",
       "Y_LT18    3732\n",
       "Name: age, dtype: int64"
      ]
     },
     "execution_count": 259,
     "metadata": {},
     "output_type": "execute_result"
    }
   ],
   "source": [
    "income_age['age'].value_counts()"
   ]
  },
  {
   "cell_type": "markdown",
   "id": "0d0430df",
   "metadata": {},
   "source": [
    "### 5.1.3. Income_indicator column"
   ]
  },
  {
   "cell_type": "code",
   "execution_count": 260,
   "id": "c4e871b3",
   "metadata": {},
   "outputs": [
    {
     "data": {
      "text/plain": [
       "MED_E    9898\n",
       "MEI_E    9898\n",
       "Name: income_indicator, dtype: int64"
      ]
     },
     "execution_count": 260,
     "metadata": {},
     "output_type": "execute_result"
    }
   ],
   "source": [
    "income_age['income_indicator'].value_counts()"
   ]
  },
  {
   "cell_type": "markdown",
   "id": "20a4b94a",
   "metadata": {},
   "source": [
    "MED_E stands for Median equivalise net income. MEI_E stands for mean equivalised net income. Both values should be kept and renamed in the further steps."
   ]
  },
  {
   "cell_type": "markdown",
   "id": "f7f8815e",
   "metadata": {},
   "source": [
    "### 5.1.4. Currency column"
   ]
  },
  {
   "cell_type": "code",
   "execution_count": 261,
   "id": "5ac095e0",
   "metadata": {},
   "outputs": [
    {
     "data": {
      "text/plain": [
       "EUR    7178\n",
       "PPS    6428\n",
       "NAC    6190\n",
       "Name: currency, dtype: int64"
      ]
     },
     "execution_count": 261,
     "metadata": {},
     "output_type": "execute_result"
    }
   ],
   "source": [
    "income_age['currency'].value_counts()"
   ]
  },
  {
   "cell_type": "markdown",
   "id": "f92548b7",
   "metadata": {},
   "source": [
    "EUR stand for Euro, NAC stands for National currency, PPS stands for \n",
    "Purchasing power standard. To simplify the analysis, I will keep the values in EUR and PPS (which might bring more insights)."
   ]
  },
  {
   "cell_type": "code",
   "execution_count": 262,
   "id": "70241865",
   "metadata": {},
   "outputs": [],
   "source": [
    "income_curr = income_age[income_age['currency'].isin(['EUR', 'PPS'])]"
   ]
  },
  {
   "cell_type": "code",
   "execution_count": 263,
   "id": "574cfdea",
   "metadata": {},
   "outputs": [
    {
     "data": {
      "text/plain": [
       "EUR    7178\n",
       "PPS    6428\n",
       "Name: currency, dtype: int64"
      ]
     },
     "execution_count": 263,
     "metadata": {},
     "output_type": "execute_result"
    }
   ],
   "source": [
    "income_curr['currency'].value_counts()"
   ]
  },
  {
   "cell_type": "code",
   "execution_count": 264,
   "id": "6075df14",
   "metadata": {},
   "outputs": [
    {
     "data": {
      "text/plain": [
       "(13606, 7)"
      ]
     },
     "execution_count": 264,
     "metadata": {},
     "output_type": "execute_result"
    }
   ],
   "source": [
    "income_curr.shape"
   ]
  },
  {
   "cell_type": "markdown",
   "id": "2cd077b1",
   "metadata": {},
   "source": [
    "# 5.2. Population dataframe"
   ]
  },
  {
   "cell_type": "code",
   "execution_count": 265,
   "id": "b7858092",
   "metadata": {},
   "outputs": [
    {
     "data": {
      "text/html": [
       "<div>\n",
       "<style scoped>\n",
       "    .dataframe tbody tr th:only-of-type {\n",
       "        vertical-align: middle;\n",
       "    }\n",
       "\n",
       "    .dataframe tbody tr th {\n",
       "        vertical-align: top;\n",
       "    }\n",
       "\n",
       "    .dataframe thead th {\n",
       "        text-align: right;\n",
       "    }\n",
       "</style>\n",
       "<table border=\"1\" class=\"dataframe\">\n",
       "  <thead>\n",
       "    <tr style=\"text-align: right;\">\n",
       "      <th></th>\n",
       "      <th>demographic_indicator</th>\n",
       "      <th>country</th>\n",
       "      <th>year</th>\n",
       "      <th>population</th>\n",
       "    </tr>\n",
       "  </thead>\n",
       "  <tbody>\n",
       "    <tr>\n",
       "      <th>0</th>\n",
       "      <td>AVG</td>\n",
       "      <td>AD</td>\n",
       "      <td>1986</td>\n",
       "      <td>45785</td>\n",
       "    </tr>\n",
       "    <tr>\n",
       "      <th>1</th>\n",
       "      <td>AVG</td>\n",
       "      <td>AD</td>\n",
       "      <td>1987</td>\n",
       "      <td>47714</td>\n",
       "    </tr>\n",
       "    <tr>\n",
       "      <th>2</th>\n",
       "      <td>AVG</td>\n",
       "      <td>AD</td>\n",
       "      <td>1988</td>\n",
       "      <td>49490</td>\n",
       "    </tr>\n",
       "    <tr>\n",
       "      <th>3</th>\n",
       "      <td>AVG</td>\n",
       "      <td>AD</td>\n",
       "      <td>1989</td>\n",
       "      <td>50708</td>\n",
       "    </tr>\n",
       "    <tr>\n",
       "      <th>4</th>\n",
       "      <td>AVG</td>\n",
       "      <td>AD</td>\n",
       "      <td>1990</td>\n",
       "      <td>52697</td>\n",
       "    </tr>\n",
       "  </tbody>\n",
       "</table>\n",
       "</div>"
      ],
      "text/plain": [
       "  demographic_indicator country  year  population\n",
       "0                   AVG      AD  1986       45785\n",
       "1                   AVG      AD  1987       47714\n",
       "2                   AVG      AD  1988       49490\n",
       "3                   AVG      AD  1989       50708\n",
       "4                   AVG      AD  1990       52697"
      ]
     },
     "execution_count": 265,
     "metadata": {},
     "output_type": "execute_result"
    }
   ],
   "source": [
    "pop.head()"
   ]
  },
  {
   "cell_type": "markdown",
   "id": "1f58281f",
   "metadata": {},
   "source": [
    "### 5.2.1 Demographic_indicator column"
   ]
  },
  {
   "cell_type": "code",
   "execution_count": 266,
   "id": "969c692e",
   "metadata": {},
   "outputs": [
    {
     "data": {
      "text/plain": [
       "JAN                   3077\n",
       "GROW                  3011\n",
       "AVG                   3010\n",
       "GROWRT                3008\n",
       "LBIRTH                2966\n",
       "GBIRTHRT              2948\n",
       "DEATH                 2929\n",
       "NATGROW               2927\n",
       "GDEATHRT              2913\n",
       "CNMIGRAT              2913\n",
       "CNMIGRATRT            2911\n",
       "NATGROWRT             2911\n",
       "MJAN                  2636\n",
       "FJAN                  2636\n",
       "FDEATH                2618\n",
       "MDEATH                2618\n",
       "MAVG                  2557\n",
       "FAVG                  2557\n",
       "MLBIRTH               1999\n",
       "FLBIRTH               1999\n",
       "POPSHARE              1830\n",
       "POPSHARE_EU27_2020    1828\n",
       "NATT                   515\n",
       "NATTRT                 512\n",
       "POPT                   455\n",
       "MIGT                   454\n",
       "POPTRT                 454\n",
       "MIGTRT                 453\n",
       "Name: demographic_indicator, dtype: int64"
      ]
     },
     "execution_count": 266,
     "metadata": {},
     "output_type": "execute_result"
    }
   ],
   "source": [
    "pop['demographic_indicator'].value_counts()"
   ]
  },
  {
   "cell_type": "markdown",
   "id": "717fec1a",
   "metadata": {},
   "source": [
    "There are many demographic indicators included in the population dataset. For the analisys, we need only the average population (AVG)."
   ]
  },
  {
   "cell_type": "code",
   "execution_count": 267,
   "id": "7d334e2c",
   "metadata": {},
   "outputs": [],
   "source": [
    "pop_avg = pop[pop['demographic_indicator'].isin(['AVG'])]"
   ]
  },
  {
   "cell_type": "code",
   "execution_count": 268,
   "id": "0f81f6da",
   "metadata": {},
   "outputs": [
    {
     "data": {
      "text/plain": [
       "AVG    3010\n",
       "Name: demographic_indicator, dtype: int64"
      ]
     },
     "execution_count": 268,
     "metadata": {},
     "output_type": "execute_result"
    }
   ],
   "source": [
    "pop_avg['demographic_indicator'].value_counts()"
   ]
  },
  {
   "cell_type": "markdown",
   "id": "4cfad748",
   "metadata": {},
   "source": [
    "# 6. Merging dataframes"
   ]
  },
  {
   "cell_type": "markdown",
   "id": "47717b6a",
   "metadata": {},
   "source": [
    "## 6.1 Merging car_new and car_stock dataframes"
   ]
  },
  {
   "cell_type": "code",
   "execution_count": 269,
   "id": "f7ce9975",
   "metadata": {},
   "outputs": [
    {
     "data": {
      "text/html": [
       "<div>\n",
       "<style scoped>\n",
       "    .dataframe tbody tr th:only-of-type {\n",
       "        vertical-align: middle;\n",
       "    }\n",
       "\n",
       "    .dataframe tbody tr th {\n",
       "        vertical-align: top;\n",
       "    }\n",
       "\n",
       "    .dataframe thead th {\n",
       "        text-align: right;\n",
       "    }\n",
       "</style>\n",
       "<table border=\"1\" class=\"dataframe\">\n",
       "  <thead>\n",
       "    <tr style=\"text-align: right;\">\n",
       "      <th></th>\n",
       "      <th>engine_type</th>\n",
       "      <th>country</th>\n",
       "      <th>year</th>\n",
       "      <th>new_car</th>\n",
       "    </tr>\n",
       "  </thead>\n",
       "  <tbody>\n",
       "    <tr>\n",
       "      <th>0</th>\n",
       "      <td>ALT</td>\n",
       "      <td>AL</td>\n",
       "      <td>2019</td>\n",
       "      <td>3757.0</td>\n",
       "    </tr>\n",
       "    <tr>\n",
       "      <th>1</th>\n",
       "      <td>ALT</td>\n",
       "      <td>AL</td>\n",
       "      <td>2020</td>\n",
       "      <td>4935.0</td>\n",
       "    </tr>\n",
       "    <tr>\n",
       "      <th>2</th>\n",
       "      <td>ALT</td>\n",
       "      <td>AL</td>\n",
       "      <td>2021</td>\n",
       "      <td>5703.0</td>\n",
       "    </tr>\n",
       "    <tr>\n",
       "      <th>3</th>\n",
       "      <td>ALT</td>\n",
       "      <td>AT</td>\n",
       "      <td>2013</td>\n",
       "      <td>1285.0</td>\n",
       "    </tr>\n",
       "    <tr>\n",
       "      <th>4</th>\n",
       "      <td>ALT</td>\n",
       "      <td>AT</td>\n",
       "      <td>2014</td>\n",
       "      <td>2074.0</td>\n",
       "    </tr>\n",
       "  </tbody>\n",
       "</table>\n",
       "</div>"
      ],
      "text/plain": [
       "  engine_type country  year  new_car\n",
       "0         ALT      AL  2019   3757.0\n",
       "1         ALT      AL  2020   4935.0\n",
       "2         ALT      AL  2021   5703.0\n",
       "3         ALT      AT  2013   1285.0\n",
       "4         ALT      AT  2014   2074.0"
      ]
     },
     "execution_count": 269,
     "metadata": {},
     "output_type": "execute_result"
    }
   ],
   "source": [
    "car_new.head()"
   ]
  },
  {
   "cell_type": "code",
   "execution_count": 270,
   "id": "3d40ff48",
   "metadata": {},
   "outputs": [
    {
     "data": {
      "text/html": [
       "<div>\n",
       "<style scoped>\n",
       "    .dataframe tbody tr th:only-of-type {\n",
       "        vertical-align: middle;\n",
       "    }\n",
       "\n",
       "    .dataframe tbody tr th {\n",
       "        vertical-align: top;\n",
       "    }\n",
       "\n",
       "    .dataframe thead th {\n",
       "        text-align: right;\n",
       "    }\n",
       "</style>\n",
       "<table border=\"1\" class=\"dataframe\">\n",
       "  <thead>\n",
       "    <tr style=\"text-align: right;\">\n",
       "      <th></th>\n",
       "      <th>engine_type</th>\n",
       "      <th>country</th>\n",
       "      <th>year</th>\n",
       "      <th>stock_car</th>\n",
       "    </tr>\n",
       "  </thead>\n",
       "  <tbody>\n",
       "    <tr>\n",
       "      <th>0</th>\n",
       "      <td>ALT</td>\n",
       "      <td>AL</td>\n",
       "      <td>2014</td>\n",
       "      <td>4373.0</td>\n",
       "    </tr>\n",
       "    <tr>\n",
       "      <th>1</th>\n",
       "      <td>ALT</td>\n",
       "      <td>AL</td>\n",
       "      <td>2015</td>\n",
       "      <td>7562.0</td>\n",
       "    </tr>\n",
       "    <tr>\n",
       "      <th>2</th>\n",
       "      <td>ALT</td>\n",
       "      <td>AL</td>\n",
       "      <td>2016</td>\n",
       "      <td>14544.0</td>\n",
       "    </tr>\n",
       "    <tr>\n",
       "      <th>3</th>\n",
       "      <td>ALT</td>\n",
       "      <td>AL</td>\n",
       "      <td>2017</td>\n",
       "      <td>21409.0</td>\n",
       "    </tr>\n",
       "    <tr>\n",
       "      <th>4</th>\n",
       "      <td>ALT</td>\n",
       "      <td>AL</td>\n",
       "      <td>2018</td>\n",
       "      <td>28994.0</td>\n",
       "    </tr>\n",
       "  </tbody>\n",
       "</table>\n",
       "</div>"
      ],
      "text/plain": [
       "  engine_type country  year  stock_car\n",
       "0         ALT      AL  2014     4373.0\n",
       "1         ALT      AL  2015     7562.0\n",
       "2         ALT      AL  2016    14544.0\n",
       "3         ALT      AL  2017    21409.0\n",
       "4         ALT      AL  2018    28994.0"
      ]
     },
     "execution_count": 270,
     "metadata": {},
     "output_type": "execute_result"
    }
   ],
   "source": [
    "car_stock.head()"
   ]
  },
  {
   "cell_type": "code",
   "execution_count": 271,
   "id": "93d7a68f",
   "metadata": {},
   "outputs": [],
   "source": [
    "car_merged = car_new.merge(car_stock, on = ['engine_type', 'country', 'year'], indicator = True, how = 'outer')"
   ]
  },
  {
   "cell_type": "code",
   "execution_count": 272,
   "id": "98caeee1",
   "metadata": {},
   "outputs": [
    {
     "data": {
      "text/html": [
       "<div>\n",
       "<style scoped>\n",
       "    .dataframe tbody tr th:only-of-type {\n",
       "        vertical-align: middle;\n",
       "    }\n",
       "\n",
       "    .dataframe tbody tr th {\n",
       "        vertical-align: top;\n",
       "    }\n",
       "\n",
       "    .dataframe thead th {\n",
       "        text-align: right;\n",
       "    }\n",
       "</style>\n",
       "<table border=\"1\" class=\"dataframe\">\n",
       "  <thead>\n",
       "    <tr style=\"text-align: right;\">\n",
       "      <th></th>\n",
       "      <th>engine_type</th>\n",
       "      <th>country</th>\n",
       "      <th>year</th>\n",
       "      <th>new_car</th>\n",
       "      <th>stock_car</th>\n",
       "      <th>_merge</th>\n",
       "    </tr>\n",
       "  </thead>\n",
       "  <tbody>\n",
       "    <tr>\n",
       "      <th>0</th>\n",
       "      <td>ALT</td>\n",
       "      <td>AL</td>\n",
       "      <td>2019</td>\n",
       "      <td>3757.0</td>\n",
       "      <td>35881.0</td>\n",
       "      <td>both</td>\n",
       "    </tr>\n",
       "    <tr>\n",
       "      <th>1</th>\n",
       "      <td>ALT</td>\n",
       "      <td>AL</td>\n",
       "      <td>2020</td>\n",
       "      <td>4935.0</td>\n",
       "      <td>43675.0</td>\n",
       "      <td>both</td>\n",
       "    </tr>\n",
       "    <tr>\n",
       "      <th>2</th>\n",
       "      <td>ALT</td>\n",
       "      <td>AL</td>\n",
       "      <td>2021</td>\n",
       "      <td>5703.0</td>\n",
       "      <td>52846.0</td>\n",
       "      <td>both</td>\n",
       "    </tr>\n",
       "    <tr>\n",
       "      <th>3</th>\n",
       "      <td>ALT</td>\n",
       "      <td>AT</td>\n",
       "      <td>2013</td>\n",
       "      <td>1285.0</td>\n",
       "      <td>5972.0</td>\n",
       "      <td>both</td>\n",
       "    </tr>\n",
       "    <tr>\n",
       "      <th>4</th>\n",
       "      <td>ALT</td>\n",
       "      <td>AT</td>\n",
       "      <td>2014</td>\n",
       "      <td>2074.0</td>\n",
       "      <td>7931.0</td>\n",
       "      <td>both</td>\n",
       "    </tr>\n",
       "  </tbody>\n",
       "</table>\n",
       "</div>"
      ],
      "text/plain": [
       "  engine_type country  year  new_car  stock_car _merge\n",
       "0         ALT      AL  2019   3757.0    35881.0   both\n",
       "1         ALT      AL  2020   4935.0    43675.0   both\n",
       "2         ALT      AL  2021   5703.0    52846.0   both\n",
       "3         ALT      AT  2013   1285.0     5972.0   both\n",
       "4         ALT      AT  2014   2074.0     7931.0   both"
      ]
     },
     "execution_count": 272,
     "metadata": {},
     "output_type": "execute_result"
    }
   ],
   "source": [
    "car_merged.head()"
   ]
  },
  {
   "cell_type": "code",
   "execution_count": 273,
   "id": "ea5fc2e5",
   "metadata": {},
   "outputs": [
    {
     "data": {
      "text/plain": [
       "both          3173\n",
       "right_only    1578\n",
       "left_only      196\n",
       "Name: _merge, dtype: int64"
      ]
     },
     "execution_count": 273,
     "metadata": {},
     "output_type": "execute_result"
    }
   ],
   "source": [
    "# Check to see if we hava a full march or not\n",
    "car_merged['_merge'].value_counts()"
   ]
  },
  {
   "cell_type": "code",
   "execution_count": 274,
   "id": "ddf55dc1",
   "metadata": {},
   "outputs": [
    {
     "data": {
      "text/plain": [
       "(4947, 6)"
      ]
     },
     "execution_count": 274,
     "metadata": {},
     "output_type": "execute_result"
    }
   ],
   "source": [
    "car_merged.shape"
   ]
  },
  {
   "cell_type": "markdown",
   "id": "d44afa41",
   "metadata": {},
   "source": [
    "This is an outer merge to include all the data from both dataframes and therefore, there are 1'578 rows that were only in the car_stock dataframe and 196, which were only in the car_new dataframe.\n",
    "After the merge, the new dataframe has 4'947 rows."
   ]
  },
  {
   "cell_type": "code",
   "execution_count": 275,
   "id": "6e0333de",
   "metadata": {},
   "outputs": [],
   "source": [
    "# Removing the \"_merge\" columm\n",
    "car_merged = car_merged.drop(columns = ['_merge'])"
   ]
  },
  {
   "cell_type": "code",
   "execution_count": 276,
   "id": "a9ef9ad4",
   "metadata": {},
   "outputs": [
    {
     "data": {
      "text/html": [
       "<div>\n",
       "<style scoped>\n",
       "    .dataframe tbody tr th:only-of-type {\n",
       "        vertical-align: middle;\n",
       "    }\n",
       "\n",
       "    .dataframe tbody tr th {\n",
       "        vertical-align: top;\n",
       "    }\n",
       "\n",
       "    .dataframe thead th {\n",
       "        text-align: right;\n",
       "    }\n",
       "</style>\n",
       "<table border=\"1\" class=\"dataframe\">\n",
       "  <thead>\n",
       "    <tr style=\"text-align: right;\">\n",
       "      <th></th>\n",
       "      <th>engine_type</th>\n",
       "      <th>country</th>\n",
       "      <th>year</th>\n",
       "      <th>new_car</th>\n",
       "      <th>stock_car</th>\n",
       "    </tr>\n",
       "  </thead>\n",
       "  <tbody>\n",
       "    <tr>\n",
       "      <th>0</th>\n",
       "      <td>ALT</td>\n",
       "      <td>AL</td>\n",
       "      <td>2019</td>\n",
       "      <td>3757.0</td>\n",
       "      <td>35881.0</td>\n",
       "    </tr>\n",
       "    <tr>\n",
       "      <th>1</th>\n",
       "      <td>ALT</td>\n",
       "      <td>AL</td>\n",
       "      <td>2020</td>\n",
       "      <td>4935.0</td>\n",
       "      <td>43675.0</td>\n",
       "    </tr>\n",
       "    <tr>\n",
       "      <th>2</th>\n",
       "      <td>ALT</td>\n",
       "      <td>AL</td>\n",
       "      <td>2021</td>\n",
       "      <td>5703.0</td>\n",
       "      <td>52846.0</td>\n",
       "    </tr>\n",
       "    <tr>\n",
       "      <th>3</th>\n",
       "      <td>ALT</td>\n",
       "      <td>AT</td>\n",
       "      <td>2013</td>\n",
       "      <td>1285.0</td>\n",
       "      <td>5972.0</td>\n",
       "    </tr>\n",
       "    <tr>\n",
       "      <th>4</th>\n",
       "      <td>ALT</td>\n",
       "      <td>AT</td>\n",
       "      <td>2014</td>\n",
       "      <td>2074.0</td>\n",
       "      <td>7931.0</td>\n",
       "    </tr>\n",
       "  </tbody>\n",
       "</table>\n",
       "</div>"
      ],
      "text/plain": [
       "  engine_type country  year  new_car  stock_car\n",
       "0         ALT      AL  2019   3757.0    35881.0\n",
       "1         ALT      AL  2020   4935.0    43675.0\n",
       "2         ALT      AL  2021   5703.0    52846.0\n",
       "3         ALT      AT  2013   1285.0     5972.0\n",
       "4         ALT      AT  2014   2074.0     7931.0"
      ]
     },
     "execution_count": 276,
     "metadata": {},
     "output_type": "execute_result"
    }
   ],
   "source": [
    "car_merged.head()"
   ]
  },
  {
   "cell_type": "markdown",
   "id": "9a87ea55",
   "metadata": {},
   "source": [
    "## 6.2 Merging car_merged and gdp dataframes"
   ]
  },
  {
   "cell_type": "code",
   "execution_count": 277,
   "id": "b27755de",
   "metadata": {},
   "outputs": [
    {
     "data": {
      "text/html": [
       "<div>\n",
       "<style scoped>\n",
       "    .dataframe tbody tr th:only-of-type {\n",
       "        vertical-align: middle;\n",
       "    }\n",
       "\n",
       "    .dataframe tbody tr th {\n",
       "        vertical-align: top;\n",
       "    }\n",
       "\n",
       "    .dataframe thead th {\n",
       "        text-align: right;\n",
       "    }\n",
       "</style>\n",
       "<table border=\"1\" class=\"dataframe\">\n",
       "  <thead>\n",
       "    <tr style=\"text-align: right;\">\n",
       "      <th></th>\n",
       "      <th>country</th>\n",
       "      <th>year</th>\n",
       "      <th>gdp_eur</th>\n",
       "    </tr>\n",
       "  </thead>\n",
       "  <tbody>\n",
       "    <tr>\n",
       "      <th>0</th>\n",
       "      <td>AL</td>\n",
       "      <td>2013</td>\n",
       "      <td>9625.4</td>\n",
       "    </tr>\n",
       "    <tr>\n",
       "      <th>1</th>\n",
       "      <td>AL</td>\n",
       "      <td>2014</td>\n",
       "      <td>9968.6</td>\n",
       "    </tr>\n",
       "    <tr>\n",
       "      <th>2</th>\n",
       "      <td>AL</td>\n",
       "      <td>2015</td>\n",
       "      <td>10264.1</td>\n",
       "    </tr>\n",
       "    <tr>\n",
       "      <th>3</th>\n",
       "      <td>AL</td>\n",
       "      <td>2016</td>\n",
       "      <td>10719.9</td>\n",
       "    </tr>\n",
       "    <tr>\n",
       "      <th>4</th>\n",
       "      <td>AL</td>\n",
       "      <td>2017</td>\n",
       "      <td>11559.0</td>\n",
       "    </tr>\n",
       "  </tbody>\n",
       "</table>\n",
       "</div>"
      ],
      "text/plain": [
       "  country  year  gdp_eur\n",
       "0      AL  2013   9625.4\n",
       "1      AL  2014   9968.6\n",
       "2      AL  2015  10264.1\n",
       "3      AL  2016  10719.9\n",
       "4      AL  2017  11559.0"
      ]
     },
     "execution_count": 277,
     "metadata": {},
     "output_type": "execute_result"
    }
   ],
   "source": [
    "gdp.head()"
   ]
  },
  {
   "cell_type": "code",
   "execution_count": 278,
   "id": "76f1cd79",
   "metadata": {},
   "outputs": [],
   "source": [
    "car_gdp = car_merged.merge(gdp, on = ['country', 'year'], indicator = True, how = 'left')"
   ]
  },
  {
   "cell_type": "code",
   "execution_count": 279,
   "id": "d26c1e6e",
   "metadata": {},
   "outputs": [
    {
     "data": {
      "text/html": [
       "<div>\n",
       "<style scoped>\n",
       "    .dataframe tbody tr th:only-of-type {\n",
       "        vertical-align: middle;\n",
       "    }\n",
       "\n",
       "    .dataframe tbody tr th {\n",
       "        vertical-align: top;\n",
       "    }\n",
       "\n",
       "    .dataframe thead th {\n",
       "        text-align: right;\n",
       "    }\n",
       "</style>\n",
       "<table border=\"1\" class=\"dataframe\">\n",
       "  <thead>\n",
       "    <tr style=\"text-align: right;\">\n",
       "      <th></th>\n",
       "      <th>engine_type</th>\n",
       "      <th>country</th>\n",
       "      <th>year</th>\n",
       "      <th>new_car</th>\n",
       "      <th>stock_car</th>\n",
       "      <th>gdp_eur</th>\n",
       "      <th>_merge</th>\n",
       "    </tr>\n",
       "  </thead>\n",
       "  <tbody>\n",
       "    <tr>\n",
       "      <th>0</th>\n",
       "      <td>ALT</td>\n",
       "      <td>AL</td>\n",
       "      <td>2019</td>\n",
       "      <td>3757.0</td>\n",
       "      <td>35881.0</td>\n",
       "      <td>13754.2</td>\n",
       "      <td>both</td>\n",
       "    </tr>\n",
       "    <tr>\n",
       "      <th>1</th>\n",
       "      <td>ALT</td>\n",
       "      <td>AL</td>\n",
       "      <td>2020</td>\n",
       "      <td>4935.0</td>\n",
       "      <td>43675.0</td>\n",
       "      <td>13310.4</td>\n",
       "      <td>both</td>\n",
       "    </tr>\n",
       "    <tr>\n",
       "      <th>2</th>\n",
       "      <td>ALT</td>\n",
       "      <td>AL</td>\n",
       "      <td>2021</td>\n",
       "      <td>5703.0</td>\n",
       "      <td>52846.0</td>\n",
       "      <td>15157.4</td>\n",
       "      <td>both</td>\n",
       "    </tr>\n",
       "    <tr>\n",
       "      <th>3</th>\n",
       "      <td>ALT</td>\n",
       "      <td>AT</td>\n",
       "      <td>2013</td>\n",
       "      <td>1285.0</td>\n",
       "      <td>5972.0</td>\n",
       "      <td>323910.2</td>\n",
       "      <td>both</td>\n",
       "    </tr>\n",
       "    <tr>\n",
       "      <th>4</th>\n",
       "      <td>ALT</td>\n",
       "      <td>AT</td>\n",
       "      <td>2014</td>\n",
       "      <td>2074.0</td>\n",
       "      <td>7931.0</td>\n",
       "      <td>333146.1</td>\n",
       "      <td>both</td>\n",
       "    </tr>\n",
       "  </tbody>\n",
       "</table>\n",
       "</div>"
      ],
      "text/plain": [
       "  engine_type country  year  new_car  stock_car   gdp_eur _merge\n",
       "0         ALT      AL  2019   3757.0    35881.0   13754.2   both\n",
       "1         ALT      AL  2020   4935.0    43675.0   13310.4   both\n",
       "2         ALT      AL  2021   5703.0    52846.0   15157.4   both\n",
       "3         ALT      AT  2013   1285.0     5972.0  323910.2   both\n",
       "4         ALT      AT  2014   2074.0     7931.0  333146.1   both"
      ]
     },
     "execution_count": 279,
     "metadata": {},
     "output_type": "execute_result"
    }
   ],
   "source": [
    "car_gdp.head()"
   ]
  },
  {
   "cell_type": "code",
   "execution_count": 280,
   "id": "28227d58",
   "metadata": {},
   "outputs": [
    {
     "data": {
      "text/plain": [
       "both          4275\n",
       "left_only      672\n",
       "right_only       0\n",
       "Name: _merge, dtype: int64"
      ]
     },
     "execution_count": 280,
     "metadata": {},
     "output_type": "execute_result"
    }
   ],
   "source": [
    "# Check to see if we hava a full march or not\n",
    "car_gdp['_merge'].value_counts()"
   ]
  },
  {
   "cell_type": "code",
   "execution_count": 281,
   "id": "651301dd",
   "metadata": {},
   "outputs": [
    {
     "data": {
      "text/plain": [
       "(4947, 7)"
      ]
     },
     "execution_count": 281,
     "metadata": {},
     "output_type": "execute_result"
    }
   ],
   "source": [
    "car_gdp.shape"
   ]
  },
  {
   "cell_type": "markdown",
   "id": "bace803a",
   "metadata": {},
   "source": [
    "The newly merged dataframe contains 4'947 rows, 4'275 were found in both dataframes and 672 only in the left one. This means that for 672 rows we will not have data about the gdp. However, I choose this approach, as the data about the cars is the most important and we cannot use the inner join in this situation."
   ]
  },
  {
   "cell_type": "code",
   "execution_count": 282,
   "id": "a40b741a",
   "metadata": {},
   "outputs": [],
   "source": [
    "# Removing the \"_merge\" columm\n",
    "car_gdp = car_gdp.drop(columns = ['_merge'])"
   ]
  },
  {
   "cell_type": "code",
   "execution_count": 283,
   "id": "30e3d4a4",
   "metadata": {},
   "outputs": [
    {
     "data": {
      "text/html": [
       "<div>\n",
       "<style scoped>\n",
       "    .dataframe tbody tr th:only-of-type {\n",
       "        vertical-align: middle;\n",
       "    }\n",
       "\n",
       "    .dataframe tbody tr th {\n",
       "        vertical-align: top;\n",
       "    }\n",
       "\n",
       "    .dataframe thead th {\n",
       "        text-align: right;\n",
       "    }\n",
       "</style>\n",
       "<table border=\"1\" class=\"dataframe\">\n",
       "  <thead>\n",
       "    <tr style=\"text-align: right;\">\n",
       "      <th></th>\n",
       "      <th>engine_type</th>\n",
       "      <th>country</th>\n",
       "      <th>year</th>\n",
       "      <th>new_car</th>\n",
       "      <th>stock_car</th>\n",
       "      <th>gdp_eur</th>\n",
       "    </tr>\n",
       "  </thead>\n",
       "  <tbody>\n",
       "    <tr>\n",
       "      <th>0</th>\n",
       "      <td>ALT</td>\n",
       "      <td>AL</td>\n",
       "      <td>2019</td>\n",
       "      <td>3757.0</td>\n",
       "      <td>35881.0</td>\n",
       "      <td>13754.2</td>\n",
       "    </tr>\n",
       "    <tr>\n",
       "      <th>1</th>\n",
       "      <td>ALT</td>\n",
       "      <td>AL</td>\n",
       "      <td>2020</td>\n",
       "      <td>4935.0</td>\n",
       "      <td>43675.0</td>\n",
       "      <td>13310.4</td>\n",
       "    </tr>\n",
       "    <tr>\n",
       "      <th>2</th>\n",
       "      <td>ALT</td>\n",
       "      <td>AL</td>\n",
       "      <td>2021</td>\n",
       "      <td>5703.0</td>\n",
       "      <td>52846.0</td>\n",
       "      <td>15157.4</td>\n",
       "    </tr>\n",
       "    <tr>\n",
       "      <th>3</th>\n",
       "      <td>ALT</td>\n",
       "      <td>AT</td>\n",
       "      <td>2013</td>\n",
       "      <td>1285.0</td>\n",
       "      <td>5972.0</td>\n",
       "      <td>323910.2</td>\n",
       "    </tr>\n",
       "    <tr>\n",
       "      <th>4</th>\n",
       "      <td>ALT</td>\n",
       "      <td>AT</td>\n",
       "      <td>2014</td>\n",
       "      <td>2074.0</td>\n",
       "      <td>7931.0</td>\n",
       "      <td>333146.1</td>\n",
       "    </tr>\n",
       "  </tbody>\n",
       "</table>\n",
       "</div>"
      ],
      "text/plain": [
       "  engine_type country  year  new_car  stock_car   gdp_eur\n",
       "0         ALT      AL  2019   3757.0    35881.0   13754.2\n",
       "1         ALT      AL  2020   4935.0    43675.0   13310.4\n",
       "2         ALT      AL  2021   5703.0    52846.0   15157.4\n",
       "3         ALT      AT  2013   1285.0     5972.0  323910.2\n",
       "4         ALT      AT  2014   2074.0     7931.0  333146.1"
      ]
     },
     "execution_count": 283,
     "metadata": {},
     "output_type": "execute_result"
    }
   ],
   "source": [
    "car_gdp.head()"
   ]
  },
  {
   "cell_type": "markdown",
   "id": "b0de456d",
   "metadata": {},
   "source": [
    "## 6.3 Merging car_gdp and income dataframes"
   ]
  },
  {
   "cell_type": "code",
   "execution_count": 284,
   "id": "2c5a33d3",
   "metadata": {},
   "outputs": [
    {
     "data": {
      "text/html": [
       "<div>\n",
       "<style scoped>\n",
       "    .dataframe tbody tr th:only-of-type {\n",
       "        vertical-align: middle;\n",
       "    }\n",
       "\n",
       "    .dataframe tbody tr th {\n",
       "        vertical-align: top;\n",
       "    }\n",
       "\n",
       "    .dataframe thead th {\n",
       "        text-align: right;\n",
       "    }\n",
       "</style>\n",
       "<table border=\"1\" class=\"dataframe\">\n",
       "  <thead>\n",
       "    <tr style=\"text-align: right;\">\n",
       "      <th></th>\n",
       "      <th>age</th>\n",
       "      <th>sex</th>\n",
       "      <th>income_indicator</th>\n",
       "      <th>currency</th>\n",
       "      <th>country</th>\n",
       "      <th>year</th>\n",
       "      <th>income</th>\n",
       "    </tr>\n",
       "  </thead>\n",
       "  <tbody>\n",
       "    <tr>\n",
       "      <th>0</th>\n",
       "      <td>TOTAL</td>\n",
       "      <td>F</td>\n",
       "      <td>MED_E</td>\n",
       "      <td>EUR</td>\n",
       "      <td>AL</td>\n",
       "      <td>2017</td>\n",
       "      <td>1747</td>\n",
       "    </tr>\n",
       "    <tr>\n",
       "      <th>1</th>\n",
       "      <td>TOTAL</td>\n",
       "      <td>F</td>\n",
       "      <td>MED_E</td>\n",
       "      <td>EUR</td>\n",
       "      <td>AL</td>\n",
       "      <td>2018</td>\n",
       "      <td>1972</td>\n",
       "    </tr>\n",
       "    <tr>\n",
       "      <th>2</th>\n",
       "      <td>TOTAL</td>\n",
       "      <td>F</td>\n",
       "      <td>MED_E</td>\n",
       "      <td>EUR</td>\n",
       "      <td>AL</td>\n",
       "      <td>2019</td>\n",
       "      <td>2195</td>\n",
       "    </tr>\n",
       "    <tr>\n",
       "      <th>3</th>\n",
       "      <td>TOTAL</td>\n",
       "      <td>F</td>\n",
       "      <td>MED_E</td>\n",
       "      <td>EUR</td>\n",
       "      <td>AL</td>\n",
       "      <td>2020</td>\n",
       "      <td>2482</td>\n",
       "    </tr>\n",
       "    <tr>\n",
       "      <th>4</th>\n",
       "      <td>TOTAL</td>\n",
       "      <td>F</td>\n",
       "      <td>MED_E</td>\n",
       "      <td>EUR</td>\n",
       "      <td>AT</td>\n",
       "      <td>1995</td>\n",
       "      <td>13394</td>\n",
       "    </tr>\n",
       "  </tbody>\n",
       "</table>\n",
       "</div>"
      ],
      "text/plain": [
       "     age sex income_indicator currency country  year  income\n",
       "0  TOTAL   F            MED_E      EUR      AL  2017    1747\n",
       "1  TOTAL   F            MED_E      EUR      AL  2018    1972\n",
       "2  TOTAL   F            MED_E      EUR      AL  2019    2195\n",
       "3  TOTAL   F            MED_E      EUR      AL  2020    2482\n",
       "4  TOTAL   F            MED_E      EUR      AT  1995   13394"
      ]
     },
     "execution_count": 284,
     "metadata": {},
     "output_type": "execute_result"
    }
   ],
   "source": [
    "income.head()"
   ]
  },
  {
   "cell_type": "code",
   "execution_count": 285,
   "id": "e9c054b6",
   "metadata": {},
   "outputs": [],
   "source": [
    "car_gdp_inc = car_gdp.merge(income_curr, on = ['country', 'year'], indicator = True, how = 'left')"
   ]
  },
  {
   "cell_type": "code",
   "execution_count": 286,
   "id": "5750607d",
   "metadata": {},
   "outputs": [
    {
     "data": {
      "text/html": [
       "<div>\n",
       "<style scoped>\n",
       "    .dataframe tbody tr th:only-of-type {\n",
       "        vertical-align: middle;\n",
       "    }\n",
       "\n",
       "    .dataframe tbody tr th {\n",
       "        vertical-align: top;\n",
       "    }\n",
       "\n",
       "    .dataframe thead th {\n",
       "        text-align: right;\n",
       "    }\n",
       "</style>\n",
       "<table border=\"1\" class=\"dataframe\">\n",
       "  <thead>\n",
       "    <tr style=\"text-align: right;\">\n",
       "      <th></th>\n",
       "      <th>engine_type</th>\n",
       "      <th>country</th>\n",
       "      <th>year</th>\n",
       "      <th>new_car</th>\n",
       "      <th>stock_car</th>\n",
       "      <th>gdp_eur</th>\n",
       "      <th>age</th>\n",
       "      <th>sex</th>\n",
       "      <th>income_indicator</th>\n",
       "      <th>currency</th>\n",
       "      <th>income</th>\n",
       "      <th>_merge</th>\n",
       "    </tr>\n",
       "  </thead>\n",
       "  <tbody>\n",
       "    <tr>\n",
       "      <th>0</th>\n",
       "      <td>ALT</td>\n",
       "      <td>AL</td>\n",
       "      <td>2019</td>\n",
       "      <td>3757.0</td>\n",
       "      <td>35881.0</td>\n",
       "      <td>13754.2</td>\n",
       "      <td>TOTAL</td>\n",
       "      <td>T</td>\n",
       "      <td>MED_E</td>\n",
       "      <td>EUR</td>\n",
       "      <td>2231.0</td>\n",
       "      <td>both</td>\n",
       "    </tr>\n",
       "    <tr>\n",
       "      <th>1</th>\n",
       "      <td>ALT</td>\n",
       "      <td>AL</td>\n",
       "      <td>2019</td>\n",
       "      <td>3757.0</td>\n",
       "      <td>35881.0</td>\n",
       "      <td>13754.2</td>\n",
       "      <td>TOTAL</td>\n",
       "      <td>T</td>\n",
       "      <td>MED_E</td>\n",
       "      <td>PPS</td>\n",
       "      <td>4252.0</td>\n",
       "      <td>both</td>\n",
       "    </tr>\n",
       "    <tr>\n",
       "      <th>2</th>\n",
       "      <td>ALT</td>\n",
       "      <td>AL</td>\n",
       "      <td>2019</td>\n",
       "      <td>3757.0</td>\n",
       "      <td>35881.0</td>\n",
       "      <td>13754.2</td>\n",
       "      <td>TOTAL</td>\n",
       "      <td>T</td>\n",
       "      <td>MEI_E</td>\n",
       "      <td>EUR</td>\n",
       "      <td>2619.0</td>\n",
       "      <td>both</td>\n",
       "    </tr>\n",
       "    <tr>\n",
       "      <th>3</th>\n",
       "      <td>ALT</td>\n",
       "      <td>AL</td>\n",
       "      <td>2019</td>\n",
       "      <td>3757.0</td>\n",
       "      <td>35881.0</td>\n",
       "      <td>13754.2</td>\n",
       "      <td>TOTAL</td>\n",
       "      <td>T</td>\n",
       "      <td>MEI_E</td>\n",
       "      <td>PPS</td>\n",
       "      <td>4992.0</td>\n",
       "      <td>both</td>\n",
       "    </tr>\n",
       "    <tr>\n",
       "      <th>4</th>\n",
       "      <td>ALT</td>\n",
       "      <td>AL</td>\n",
       "      <td>2019</td>\n",
       "      <td>3757.0</td>\n",
       "      <td>35881.0</td>\n",
       "      <td>13754.2</td>\n",
       "      <td>Y18-64</td>\n",
       "      <td>T</td>\n",
       "      <td>MED_E</td>\n",
       "      <td>EUR</td>\n",
       "      <td>2319.0</td>\n",
       "      <td>both</td>\n",
       "    </tr>\n",
       "  </tbody>\n",
       "</table>\n",
       "</div>"
      ],
      "text/plain": [
       "  engine_type country  year  new_car  stock_car  gdp_eur     age sex  \\\n",
       "0         ALT      AL  2019   3757.0    35881.0  13754.2   TOTAL   T   \n",
       "1         ALT      AL  2019   3757.0    35881.0  13754.2   TOTAL   T   \n",
       "2         ALT      AL  2019   3757.0    35881.0  13754.2   TOTAL   T   \n",
       "3         ALT      AL  2019   3757.0    35881.0  13754.2   TOTAL   T   \n",
       "4         ALT      AL  2019   3757.0    35881.0  13754.2  Y18-64   T   \n",
       "\n",
       "  income_indicator currency  income _merge  \n",
       "0            MED_E      EUR  2231.0   both  \n",
       "1            MED_E      PPS  4252.0   both  \n",
       "2            MEI_E      EUR  2619.0   both  \n",
       "3            MEI_E      PPS  4992.0   both  \n",
       "4            MED_E      EUR  2319.0   both  "
      ]
     },
     "execution_count": 286,
     "metadata": {},
     "output_type": "execute_result"
    }
   ],
   "source": [
    "car_gdp_inc.head()"
   ]
  },
  {
   "cell_type": "code",
   "execution_count": 287,
   "id": "633a6105",
   "metadata": {},
   "outputs": [
    {
     "data": {
      "text/plain": [
       "both          89030\n",
       "left_only       489\n",
       "right_only        0\n",
       "Name: _merge, dtype: int64"
      ]
     },
     "execution_count": 287,
     "metadata": {},
     "output_type": "execute_result"
    }
   ],
   "source": [
    "# Check to see if we hava a full march or not\n",
    "car_gdp_inc['_merge'].value_counts()"
   ]
  },
  {
   "cell_type": "code",
   "execution_count": 288,
   "id": "01191da1",
   "metadata": {},
   "outputs": [
    {
     "data": {
      "text/plain": [
       "(89519, 12)"
      ]
     },
     "execution_count": 288,
     "metadata": {},
     "output_type": "execute_result"
    }
   ],
   "source": [
    "car_gdp_inc.shape"
   ]
  },
  {
   "cell_type": "markdown",
   "id": "58c39d92",
   "metadata": {},
   "source": [
    "The newly merged dataframe now contains 71'713 rows, which is a combination of 71'224 rows which exists in both dataframes and 489 which were only in the car_gdp dataframe."
   ]
  },
  {
   "cell_type": "code",
   "execution_count": 289,
   "id": "dc40f191",
   "metadata": {},
   "outputs": [],
   "source": [
    "# Removing the \"_merge\" columm\n",
    "car_gdp_inc = car_gdp_inc.drop(columns = ['_merge'])"
   ]
  },
  {
   "cell_type": "code",
   "execution_count": 290,
   "id": "519fe014",
   "metadata": {},
   "outputs": [
    {
     "data": {
      "text/html": [
       "<div>\n",
       "<style scoped>\n",
       "    .dataframe tbody tr th:only-of-type {\n",
       "        vertical-align: middle;\n",
       "    }\n",
       "\n",
       "    .dataframe tbody tr th {\n",
       "        vertical-align: top;\n",
       "    }\n",
       "\n",
       "    .dataframe thead th {\n",
       "        text-align: right;\n",
       "    }\n",
       "</style>\n",
       "<table border=\"1\" class=\"dataframe\">\n",
       "  <thead>\n",
       "    <tr style=\"text-align: right;\">\n",
       "      <th></th>\n",
       "      <th>engine_type</th>\n",
       "      <th>country</th>\n",
       "      <th>year</th>\n",
       "      <th>new_car</th>\n",
       "      <th>stock_car</th>\n",
       "      <th>gdp_eur</th>\n",
       "      <th>age</th>\n",
       "      <th>sex</th>\n",
       "      <th>income_indicator</th>\n",
       "      <th>currency</th>\n",
       "      <th>income</th>\n",
       "    </tr>\n",
       "  </thead>\n",
       "  <tbody>\n",
       "    <tr>\n",
       "      <th>0</th>\n",
       "      <td>ALT</td>\n",
       "      <td>AL</td>\n",
       "      <td>2019</td>\n",
       "      <td>3757.0</td>\n",
       "      <td>35881.0</td>\n",
       "      <td>13754.2</td>\n",
       "      <td>TOTAL</td>\n",
       "      <td>T</td>\n",
       "      <td>MED_E</td>\n",
       "      <td>EUR</td>\n",
       "      <td>2231.0</td>\n",
       "    </tr>\n",
       "    <tr>\n",
       "      <th>1</th>\n",
       "      <td>ALT</td>\n",
       "      <td>AL</td>\n",
       "      <td>2019</td>\n",
       "      <td>3757.0</td>\n",
       "      <td>35881.0</td>\n",
       "      <td>13754.2</td>\n",
       "      <td>TOTAL</td>\n",
       "      <td>T</td>\n",
       "      <td>MED_E</td>\n",
       "      <td>PPS</td>\n",
       "      <td>4252.0</td>\n",
       "    </tr>\n",
       "    <tr>\n",
       "      <th>2</th>\n",
       "      <td>ALT</td>\n",
       "      <td>AL</td>\n",
       "      <td>2019</td>\n",
       "      <td>3757.0</td>\n",
       "      <td>35881.0</td>\n",
       "      <td>13754.2</td>\n",
       "      <td>TOTAL</td>\n",
       "      <td>T</td>\n",
       "      <td>MEI_E</td>\n",
       "      <td>EUR</td>\n",
       "      <td>2619.0</td>\n",
       "    </tr>\n",
       "    <tr>\n",
       "      <th>3</th>\n",
       "      <td>ALT</td>\n",
       "      <td>AL</td>\n",
       "      <td>2019</td>\n",
       "      <td>3757.0</td>\n",
       "      <td>35881.0</td>\n",
       "      <td>13754.2</td>\n",
       "      <td>TOTAL</td>\n",
       "      <td>T</td>\n",
       "      <td>MEI_E</td>\n",
       "      <td>PPS</td>\n",
       "      <td>4992.0</td>\n",
       "    </tr>\n",
       "    <tr>\n",
       "      <th>4</th>\n",
       "      <td>ALT</td>\n",
       "      <td>AL</td>\n",
       "      <td>2019</td>\n",
       "      <td>3757.0</td>\n",
       "      <td>35881.0</td>\n",
       "      <td>13754.2</td>\n",
       "      <td>Y18-64</td>\n",
       "      <td>T</td>\n",
       "      <td>MED_E</td>\n",
       "      <td>EUR</td>\n",
       "      <td>2319.0</td>\n",
       "    </tr>\n",
       "  </tbody>\n",
       "</table>\n",
       "</div>"
      ],
      "text/plain": [
       "  engine_type country  year  new_car  stock_car  gdp_eur     age sex  \\\n",
       "0         ALT      AL  2019   3757.0    35881.0  13754.2   TOTAL   T   \n",
       "1         ALT      AL  2019   3757.0    35881.0  13754.2   TOTAL   T   \n",
       "2         ALT      AL  2019   3757.0    35881.0  13754.2   TOTAL   T   \n",
       "3         ALT      AL  2019   3757.0    35881.0  13754.2   TOTAL   T   \n",
       "4         ALT      AL  2019   3757.0    35881.0  13754.2  Y18-64   T   \n",
       "\n",
       "  income_indicator currency  income  \n",
       "0            MED_E      EUR  2231.0  \n",
       "1            MED_E      PPS  4252.0  \n",
       "2            MEI_E      EUR  2619.0  \n",
       "3            MEI_E      PPS  4992.0  \n",
       "4            MED_E      EUR  2319.0  "
      ]
     },
     "execution_count": 290,
     "metadata": {},
     "output_type": "execute_result"
    }
   ],
   "source": [
    "car_gdp_inc.head()"
   ]
  },
  {
   "cell_type": "markdown",
   "id": "182e99ec",
   "metadata": {},
   "source": [
    "## 6.4 Merging car_gdp_inc and pop_avg dataframes"
   ]
  },
  {
   "cell_type": "code",
   "execution_count": 291,
   "id": "7727fe53",
   "metadata": {},
   "outputs": [
    {
     "data": {
      "text/html": [
       "<div>\n",
       "<style scoped>\n",
       "    .dataframe tbody tr th:only-of-type {\n",
       "        vertical-align: middle;\n",
       "    }\n",
       "\n",
       "    .dataframe tbody tr th {\n",
       "        vertical-align: top;\n",
       "    }\n",
       "\n",
       "    .dataframe thead th {\n",
       "        text-align: right;\n",
       "    }\n",
       "</style>\n",
       "<table border=\"1\" class=\"dataframe\">\n",
       "  <thead>\n",
       "    <tr style=\"text-align: right;\">\n",
       "      <th></th>\n",
       "      <th>demographic_indicator</th>\n",
       "      <th>country</th>\n",
       "      <th>year</th>\n",
       "      <th>population</th>\n",
       "    </tr>\n",
       "  </thead>\n",
       "  <tbody>\n",
       "    <tr>\n",
       "      <th>0</th>\n",
       "      <td>AVG</td>\n",
       "      <td>AD</td>\n",
       "      <td>1986</td>\n",
       "      <td>45785</td>\n",
       "    </tr>\n",
       "    <tr>\n",
       "      <th>1</th>\n",
       "      <td>AVG</td>\n",
       "      <td>AD</td>\n",
       "      <td>1987</td>\n",
       "      <td>47714</td>\n",
       "    </tr>\n",
       "    <tr>\n",
       "      <th>2</th>\n",
       "      <td>AVG</td>\n",
       "      <td>AD</td>\n",
       "      <td>1988</td>\n",
       "      <td>49490</td>\n",
       "    </tr>\n",
       "    <tr>\n",
       "      <th>3</th>\n",
       "      <td>AVG</td>\n",
       "      <td>AD</td>\n",
       "      <td>1989</td>\n",
       "      <td>50708</td>\n",
       "    </tr>\n",
       "    <tr>\n",
       "      <th>4</th>\n",
       "      <td>AVG</td>\n",
       "      <td>AD</td>\n",
       "      <td>1990</td>\n",
       "      <td>52697</td>\n",
       "    </tr>\n",
       "  </tbody>\n",
       "</table>\n",
       "</div>"
      ],
      "text/plain": [
       "  demographic_indicator country  year  population\n",
       "0                   AVG      AD  1986       45785\n",
       "1                   AVG      AD  1987       47714\n",
       "2                   AVG      AD  1988       49490\n",
       "3                   AVG      AD  1989       50708\n",
       "4                   AVG      AD  1990       52697"
      ]
     },
     "execution_count": 291,
     "metadata": {},
     "output_type": "execute_result"
    }
   ],
   "source": [
    "pop_avg.head()"
   ]
  },
  {
   "cell_type": "code",
   "execution_count": 292,
   "id": "3321bdd7",
   "metadata": {},
   "outputs": [],
   "source": [
    "ev_df = car_gdp_inc.merge(pop_avg, on = ['country', 'year'], indicator = True, how = 'left')"
   ]
  },
  {
   "cell_type": "code",
   "execution_count": 293,
   "id": "5c7ca408",
   "metadata": {},
   "outputs": [
    {
     "data": {
      "text/html": [
       "<div>\n",
       "<style scoped>\n",
       "    .dataframe tbody tr th:only-of-type {\n",
       "        vertical-align: middle;\n",
       "    }\n",
       "\n",
       "    .dataframe tbody tr th {\n",
       "        vertical-align: top;\n",
       "    }\n",
       "\n",
       "    .dataframe thead th {\n",
       "        text-align: right;\n",
       "    }\n",
       "</style>\n",
       "<table border=\"1\" class=\"dataframe\">\n",
       "  <thead>\n",
       "    <tr style=\"text-align: right;\">\n",
       "      <th></th>\n",
       "      <th>engine_type</th>\n",
       "      <th>country</th>\n",
       "      <th>year</th>\n",
       "      <th>new_car</th>\n",
       "      <th>stock_car</th>\n",
       "      <th>gdp_eur</th>\n",
       "      <th>age</th>\n",
       "      <th>sex</th>\n",
       "      <th>income_indicator</th>\n",
       "      <th>currency</th>\n",
       "      <th>income</th>\n",
       "      <th>demographic_indicator</th>\n",
       "      <th>population</th>\n",
       "      <th>_merge</th>\n",
       "    </tr>\n",
       "  </thead>\n",
       "  <tbody>\n",
       "    <tr>\n",
       "      <th>0</th>\n",
       "      <td>ALT</td>\n",
       "      <td>AL</td>\n",
       "      <td>2019</td>\n",
       "      <td>3757.0</td>\n",
       "      <td>35881.0</td>\n",
       "      <td>13754.2</td>\n",
       "      <td>TOTAL</td>\n",
       "      <td>T</td>\n",
       "      <td>MED_E</td>\n",
       "      <td>EUR</td>\n",
       "      <td>2231.0</td>\n",
       "      <td>AVG</td>\n",
       "      <td>2854191.0</td>\n",
       "      <td>both</td>\n",
       "    </tr>\n",
       "    <tr>\n",
       "      <th>1</th>\n",
       "      <td>ALT</td>\n",
       "      <td>AL</td>\n",
       "      <td>2019</td>\n",
       "      <td>3757.0</td>\n",
       "      <td>35881.0</td>\n",
       "      <td>13754.2</td>\n",
       "      <td>TOTAL</td>\n",
       "      <td>T</td>\n",
       "      <td>MED_E</td>\n",
       "      <td>PPS</td>\n",
       "      <td>4252.0</td>\n",
       "      <td>AVG</td>\n",
       "      <td>2854191.0</td>\n",
       "      <td>both</td>\n",
       "    </tr>\n",
       "    <tr>\n",
       "      <th>2</th>\n",
       "      <td>ALT</td>\n",
       "      <td>AL</td>\n",
       "      <td>2019</td>\n",
       "      <td>3757.0</td>\n",
       "      <td>35881.0</td>\n",
       "      <td>13754.2</td>\n",
       "      <td>TOTAL</td>\n",
       "      <td>T</td>\n",
       "      <td>MEI_E</td>\n",
       "      <td>EUR</td>\n",
       "      <td>2619.0</td>\n",
       "      <td>AVG</td>\n",
       "      <td>2854191.0</td>\n",
       "      <td>both</td>\n",
       "    </tr>\n",
       "    <tr>\n",
       "      <th>3</th>\n",
       "      <td>ALT</td>\n",
       "      <td>AL</td>\n",
       "      <td>2019</td>\n",
       "      <td>3757.0</td>\n",
       "      <td>35881.0</td>\n",
       "      <td>13754.2</td>\n",
       "      <td>TOTAL</td>\n",
       "      <td>T</td>\n",
       "      <td>MEI_E</td>\n",
       "      <td>PPS</td>\n",
       "      <td>4992.0</td>\n",
       "      <td>AVG</td>\n",
       "      <td>2854191.0</td>\n",
       "      <td>both</td>\n",
       "    </tr>\n",
       "    <tr>\n",
       "      <th>4</th>\n",
       "      <td>ALT</td>\n",
       "      <td>AL</td>\n",
       "      <td>2019</td>\n",
       "      <td>3757.0</td>\n",
       "      <td>35881.0</td>\n",
       "      <td>13754.2</td>\n",
       "      <td>Y18-64</td>\n",
       "      <td>T</td>\n",
       "      <td>MED_E</td>\n",
       "      <td>EUR</td>\n",
       "      <td>2319.0</td>\n",
       "      <td>AVG</td>\n",
       "      <td>2854191.0</td>\n",
       "      <td>both</td>\n",
       "    </tr>\n",
       "  </tbody>\n",
       "</table>\n",
       "</div>"
      ],
      "text/plain": [
       "  engine_type country  year  new_car  stock_car  gdp_eur     age sex  \\\n",
       "0         ALT      AL  2019   3757.0    35881.0  13754.2   TOTAL   T   \n",
       "1         ALT      AL  2019   3757.0    35881.0  13754.2   TOTAL   T   \n",
       "2         ALT      AL  2019   3757.0    35881.0  13754.2   TOTAL   T   \n",
       "3         ALT      AL  2019   3757.0    35881.0  13754.2   TOTAL   T   \n",
       "4         ALT      AL  2019   3757.0    35881.0  13754.2  Y18-64   T   \n",
       "\n",
       "  income_indicator currency  income demographic_indicator  population _merge  \n",
       "0            MED_E      EUR  2231.0                   AVG   2854191.0   both  \n",
       "1            MED_E      PPS  4252.0                   AVG   2854191.0   both  \n",
       "2            MEI_E      EUR  2619.0                   AVG   2854191.0   both  \n",
       "3            MEI_E      PPS  4992.0                   AVG   2854191.0   both  \n",
       "4            MED_E      EUR  2319.0                   AVG   2854191.0   both  "
      ]
     },
     "execution_count": 293,
     "metadata": {},
     "output_type": "execute_result"
    }
   ],
   "source": [
    "ev_df.head()"
   ]
  },
  {
   "cell_type": "code",
   "execution_count": 294,
   "id": "25420cb9",
   "metadata": {},
   "outputs": [
    {
     "data": {
      "text/plain": [
       "both          89434\n",
       "left_only        85\n",
       "right_only        0\n",
       "Name: _merge, dtype: int64"
      ]
     },
     "execution_count": 294,
     "metadata": {},
     "output_type": "execute_result"
    }
   ],
   "source": [
    "# Check to see if we hava a full march or not\n",
    "ev_df['_merge'].value_counts()"
   ]
  },
  {
   "cell_type": "code",
   "execution_count": 295,
   "id": "59953f2c",
   "metadata": {},
   "outputs": [
    {
     "data": {
      "text/plain": [
       "(89519, 14)"
      ]
     },
     "execution_count": 295,
     "metadata": {},
     "output_type": "execute_result"
    }
   ],
   "source": [
    "ev_df.shape"
   ]
  },
  {
   "cell_type": "markdown",
   "id": "90a6913c",
   "metadata": {},
   "source": [
    "The final dataframe has 71'713 rows, 71'628 rows were included in both dataframes, 85 where only in the car_gdp_inc dataframe. "
   ]
  },
  {
   "cell_type": "code",
   "execution_count": 296,
   "id": "074acf4e",
   "metadata": {},
   "outputs": [],
   "source": [
    "# Removing the \"_merge\" columm\n",
    "ev_df = ev_df.drop(columns = ['_merge'])"
   ]
  },
  {
   "cell_type": "markdown",
   "id": "74c247e9",
   "metadata": {},
   "source": [
    "# 7. Deriving new variables"
   ]
  },
  {
   "cell_type": "markdown",
   "id": "1fb83313",
   "metadata": {},
   "source": [
    "The dataframe contains a lot of information which is coded and not easily understandable. Therefore, I will translate the codes into meaningful names and group some of them (e.g. engine_type).\n",
    "\n",
    "Before adding the names to the codes, I will change the codes column names so that we know which ones are codes and which ones are names."
   ]
  },
  {
   "cell_type": "code",
   "execution_count": 297,
   "id": "30d6f512",
   "metadata": {},
   "outputs": [],
   "source": [
    "# Changing column names:\n",
    "ev_df.rename(columns = {'engine_type' : 'engine_type_code'}, inplace = True)"
   ]
  },
  {
   "cell_type": "code",
   "execution_count": 298,
   "id": "6a37482b",
   "metadata": {},
   "outputs": [],
   "source": [
    "ev_df.rename(columns = {'country' : 'country_code'}, inplace = True)"
   ]
  },
  {
   "cell_type": "code",
   "execution_count": 299,
   "id": "e1cf536f",
   "metadata": {},
   "outputs": [],
   "source": [
    "ev_df.rename(columns = {'age' : 'age_code'}, inplace = True)"
   ]
  },
  {
   "cell_type": "code",
   "execution_count": 300,
   "id": "1c294c90",
   "metadata": {},
   "outputs": [],
   "source": [
    "ev_df.rename(columns = {'engine_type' : 'engine_type_code'}, inplace = True)"
   ]
  },
  {
   "cell_type": "code",
   "execution_count": 301,
   "id": "e9405fc7",
   "metadata": {},
   "outputs": [],
   "source": [
    "ev_df.rename(columns = {'income_indicator' : 'income_indicator_code'}, inplace = True)"
   ]
  },
  {
   "cell_type": "code",
   "execution_count": 302,
   "id": "a6d77024",
   "metadata": {},
   "outputs": [],
   "source": [
    "ev_df.rename(columns = {'demographic_indicator' : 'demographic_indicator_code'}, inplace = True)"
   ]
  },
  {
   "cell_type": "markdown",
   "id": "98a624b8",
   "metadata": {},
   "source": [
    "Currently the \"sex\" column contains only totals and there is no split between genders. Therefore, I will remove this column, as it is redundant."
   ]
  },
  {
   "cell_type": "code",
   "execution_count": 303,
   "id": "bef8496c",
   "metadata": {},
   "outputs": [],
   "source": [
    "# Removing the \"sex\" columm\n",
    "ev_df = ev_df.drop(columns = ['sex'])"
   ]
  },
  {
   "cell_type": "code",
   "execution_count": 304,
   "id": "c1e9bfae",
   "metadata": {},
   "outputs": [
    {
     "data": {
      "text/html": [
       "<div>\n",
       "<style scoped>\n",
       "    .dataframe tbody tr th:only-of-type {\n",
       "        vertical-align: middle;\n",
       "    }\n",
       "\n",
       "    .dataframe tbody tr th {\n",
       "        vertical-align: top;\n",
       "    }\n",
       "\n",
       "    .dataframe thead th {\n",
       "        text-align: right;\n",
       "    }\n",
       "</style>\n",
       "<table border=\"1\" class=\"dataframe\">\n",
       "  <thead>\n",
       "    <tr style=\"text-align: right;\">\n",
       "      <th></th>\n",
       "      <th>engine_type_code</th>\n",
       "      <th>country_code</th>\n",
       "      <th>year</th>\n",
       "      <th>new_car</th>\n",
       "      <th>stock_car</th>\n",
       "      <th>gdp_eur</th>\n",
       "      <th>age_code</th>\n",
       "      <th>income_indicator_code</th>\n",
       "      <th>currency</th>\n",
       "      <th>income</th>\n",
       "      <th>demographic_indicator_code</th>\n",
       "      <th>population</th>\n",
       "    </tr>\n",
       "  </thead>\n",
       "  <tbody>\n",
       "    <tr>\n",
       "      <th>0</th>\n",
       "      <td>ALT</td>\n",
       "      <td>AL</td>\n",
       "      <td>2019</td>\n",
       "      <td>3757.0</td>\n",
       "      <td>35881.0</td>\n",
       "      <td>13754.2</td>\n",
       "      <td>TOTAL</td>\n",
       "      <td>MED_E</td>\n",
       "      <td>EUR</td>\n",
       "      <td>2231.0</td>\n",
       "      <td>AVG</td>\n",
       "      <td>2854191.0</td>\n",
       "    </tr>\n",
       "    <tr>\n",
       "      <th>1</th>\n",
       "      <td>ALT</td>\n",
       "      <td>AL</td>\n",
       "      <td>2019</td>\n",
       "      <td>3757.0</td>\n",
       "      <td>35881.0</td>\n",
       "      <td>13754.2</td>\n",
       "      <td>TOTAL</td>\n",
       "      <td>MED_E</td>\n",
       "      <td>PPS</td>\n",
       "      <td>4252.0</td>\n",
       "      <td>AVG</td>\n",
       "      <td>2854191.0</td>\n",
       "    </tr>\n",
       "    <tr>\n",
       "      <th>2</th>\n",
       "      <td>ALT</td>\n",
       "      <td>AL</td>\n",
       "      <td>2019</td>\n",
       "      <td>3757.0</td>\n",
       "      <td>35881.0</td>\n",
       "      <td>13754.2</td>\n",
       "      <td>TOTAL</td>\n",
       "      <td>MEI_E</td>\n",
       "      <td>EUR</td>\n",
       "      <td>2619.0</td>\n",
       "      <td>AVG</td>\n",
       "      <td>2854191.0</td>\n",
       "    </tr>\n",
       "    <tr>\n",
       "      <th>3</th>\n",
       "      <td>ALT</td>\n",
       "      <td>AL</td>\n",
       "      <td>2019</td>\n",
       "      <td>3757.0</td>\n",
       "      <td>35881.0</td>\n",
       "      <td>13754.2</td>\n",
       "      <td>TOTAL</td>\n",
       "      <td>MEI_E</td>\n",
       "      <td>PPS</td>\n",
       "      <td>4992.0</td>\n",
       "      <td>AVG</td>\n",
       "      <td>2854191.0</td>\n",
       "    </tr>\n",
       "    <tr>\n",
       "      <th>4</th>\n",
       "      <td>ALT</td>\n",
       "      <td>AL</td>\n",
       "      <td>2019</td>\n",
       "      <td>3757.0</td>\n",
       "      <td>35881.0</td>\n",
       "      <td>13754.2</td>\n",
       "      <td>Y18-64</td>\n",
       "      <td>MED_E</td>\n",
       "      <td>EUR</td>\n",
       "      <td>2319.0</td>\n",
       "      <td>AVG</td>\n",
       "      <td>2854191.0</td>\n",
       "    </tr>\n",
       "  </tbody>\n",
       "</table>\n",
       "</div>"
      ],
      "text/plain": [
       "  engine_type_code country_code  year  new_car  stock_car  gdp_eur age_code  \\\n",
       "0              ALT           AL  2019   3757.0    35881.0  13754.2    TOTAL   \n",
       "1              ALT           AL  2019   3757.0    35881.0  13754.2    TOTAL   \n",
       "2              ALT           AL  2019   3757.0    35881.0  13754.2    TOTAL   \n",
       "3              ALT           AL  2019   3757.0    35881.0  13754.2    TOTAL   \n",
       "4              ALT           AL  2019   3757.0    35881.0  13754.2   Y18-64   \n",
       "\n",
       "  income_indicator_code currency  income demographic_indicator_code  \\\n",
       "0                 MED_E      EUR  2231.0                        AVG   \n",
       "1                 MED_E      PPS  4252.0                        AVG   \n",
       "2                 MEI_E      EUR  2619.0                        AVG   \n",
       "3                 MEI_E      PPS  4992.0                        AVG   \n",
       "4                 MED_E      EUR  2319.0                        AVG   \n",
       "\n",
       "   population  \n",
       "0   2854191.0  \n",
       "1   2854191.0  \n",
       "2   2854191.0  \n",
       "3   2854191.0  \n",
       "4   2854191.0  "
      ]
     },
     "execution_count": 304,
     "metadata": {},
     "output_type": "execute_result"
    }
   ],
   "source": [
    "# Checking the first five rows from the dataframe:\n",
    "ev_df.head()"
   ]
  },
  {
   "cell_type": "markdown",
   "id": "5ad45e0c",
   "metadata": {},
   "source": [
    "## 7.1 Engine_type"
   ]
  },
  {
   "cell_type": "markdown",
   "id": "db5331eb",
   "metadata": {},
   "source": [
    "In the dataset, there are 17 different engine types for passenger cars. To simplify the analysis and further visualization, I will group some engine_types into several categories."
   ]
  },
  {
   "cell_type": "code",
   "execution_count": 305,
   "id": "78261ade",
   "metadata": {},
   "outputs": [],
   "source": [
    "# Creating categories for the engine types:\n",
    "Biofuel = ['BIOETH', 'BIODIE']"
   ]
  },
  {
   "cell_type": "code",
   "execution_count": 306,
   "id": "fd4ae3e3",
   "metadata": {},
   "outputs": [],
   "source": [
    "Diesel = ['DIE', 'DIE_X_HYB']"
   ]
  },
  {
   "cell_type": "code",
   "execution_count": 307,
   "id": "b20c1a52",
   "metadata": {},
   "outputs": [],
   "source": [
    "Electric = ['ELC']"
   ]
  },
  {
   "cell_type": "code",
   "execution_count": 308,
   "id": "65f51ee1",
   "metadata": {},
   "outputs": [],
   "source": [
    "Hybrid = ['ELC_PET_HYB', 'ELC_DIE_HYB']"
   ]
  },
  {
   "cell_type": "code",
   "execution_count": 309,
   "id": "8220befc",
   "metadata": {},
   "outputs": [],
   "source": [
    "Hydrogen = ['HYD_FCELL']"
   ]
  },
  {
   "cell_type": "code",
   "execution_count": 310,
   "id": "c8fd4b2b",
   "metadata": {},
   "outputs": [],
   "source": [
    "LPG = ['LPG']"
   ]
  },
  {
   "cell_type": "code",
   "execution_count": 311,
   "id": "c6f7d4cf",
   "metadata": {},
   "outputs": [],
   "source": [
    "Other = ['ALT', 'BIFUEL', 'OTH', 'GAS']"
   ]
  },
  {
   "cell_type": "code",
   "execution_count": 312,
   "id": "87c7ce36",
   "metadata": {},
   "outputs": [],
   "source": [
    "Petrol = ['PET', 'PET_X_HYB']"
   ]
  },
  {
   "cell_type": "code",
   "execution_count": 313,
   "id": "3f359daa",
   "metadata": {},
   "outputs": [],
   "source": [
    "Plug_in_hybrid = ['ELC_PET_PI', 'ELC_DIE_PI']"
   ]
  },
  {
   "cell_type": "code",
   "execution_count": 314,
   "id": "89b26c0d",
   "metadata": {},
   "outputs": [],
   "source": [
    "# Creating a new “engine” column based on the “engine_type_code” column from the ev_df dataframe.\n",
    "ev_df.loc[ev_df['engine_type_code'].isin(Biofuel), 'engine'] = 'Biofuel'"
   ]
  },
  {
   "cell_type": "code",
   "execution_count": 315,
   "id": "8174f6b2",
   "metadata": {},
   "outputs": [],
   "source": [
    "ev_df.loc[ev_df['engine_type_code'].isin(Diesel), 'engine'] = 'Diesel'"
   ]
  },
  {
   "cell_type": "code",
   "execution_count": 316,
   "id": "6ec4bf86",
   "metadata": {},
   "outputs": [],
   "source": [
    "ev_df.loc[ev_df['engine_type_code'].isin(Electric), 'engine'] = 'Electric'"
   ]
  },
  {
   "cell_type": "code",
   "execution_count": 317,
   "id": "f9a099a4",
   "metadata": {},
   "outputs": [],
   "source": [
    "ev_df.loc[ev_df['engine_type_code'].isin(Hybrid), 'engine'] = 'Hybrid'"
   ]
  },
  {
   "cell_type": "code",
   "execution_count": 318,
   "id": "d6d91c94",
   "metadata": {},
   "outputs": [],
   "source": [
    "ev_df.loc[ev_df['engine_type_code'].isin(Hydrogen), 'engine'] = 'Hydrogen'"
   ]
  },
  {
   "cell_type": "code",
   "execution_count": 319,
   "id": "70c17aa7",
   "metadata": {},
   "outputs": [],
   "source": [
    "ev_df.loc[ev_df['engine_type_code'].isin(LPG), 'engine'] = 'LPG'"
   ]
  },
  {
   "cell_type": "code",
   "execution_count": 320,
   "id": "2162aaf4",
   "metadata": {},
   "outputs": [],
   "source": [
    "ev_df.loc[ev_df['engine_type_code'].isin(Other), 'engine'] = 'Other'"
   ]
  },
  {
   "cell_type": "code",
   "execution_count": 321,
   "id": "0fed7de0",
   "metadata": {},
   "outputs": [],
   "source": [
    "ev_df.loc[ev_df['engine_type_code'].isin(Petrol), 'engine'] = 'Petrol'"
   ]
  },
  {
   "cell_type": "code",
   "execution_count": 322,
   "id": "903926bc",
   "metadata": {},
   "outputs": [],
   "source": [
    "ev_df.loc[ev_df['engine_type_code'].isin(Plug_in_hybrid), 'engine'] = 'Plug-in hybrid'"
   ]
  },
  {
   "cell_type": "markdown",
   "id": "e243a560",
   "metadata": {},
   "source": [
    "## 7.2 Country"
   ]
  },
  {
   "cell_type": "code",
   "execution_count": 323,
   "id": "7e9bc21c",
   "metadata": {},
   "outputs": [
    {
     "data": {
      "text/plain": [
       "FR           3720\n",
       "SE           3720\n",
       "CH           3720\n",
       "CY           3720\n",
       "AT           3720\n",
       "PT           3580\n",
       "FI           3560\n",
       "MT           3520\n",
       "HU           3520\n",
       "NL           3460\n",
       "LV           3320\n",
       "PL           3140\n",
       "ES           3120\n",
       "LU           3080\n",
       "LT           2900\n",
       "TR           2820\n",
       "HR           2760\n",
       "BE           2720\n",
       "NO           2698\n",
       "RO           2680\n",
       "IT           2660\n",
       "DE           2620\n",
       "EE           2540\n",
       "DK           2460\n",
       "IE           2260\n",
       "SI           1960\n",
       "CZ           1840\n",
       "UK           1595\n",
       "MK           1581\n",
       "AL            946\n",
       "ME            801\n",
       "EL            580\n",
       "IS            556\n",
       "XK            410\n",
       "EU27_2020     290\n",
       "BG            280\n",
       "SK            221\n",
       "LI            168\n",
       "RS            148\n",
       "BA            125\n",
       "Name: country_code, dtype: int64"
      ]
     },
     "execution_count": 323,
     "metadata": {},
     "output_type": "execute_result"
    }
   ],
   "source": [
    "# Checking the country_code column to see how many entries there are:\n",
    "ev_df['country_code'].value_counts(dropna = False)"
   ]
  },
  {
   "cell_type": "code",
   "execution_count": 324,
   "id": "24594b45",
   "metadata": {},
   "outputs": [],
   "source": [
    "# Creating a dictionary of country codes and countries:\n",
    "countries = {\n",
    "'BE' : 'Belgium', \n",
    "'BG' : 'Bulgaria', \n",
    "'CZ' : 'Czech Republic', \n",
    "'DK' : 'Denmark', \n",
    "'DE' : 'Germany', \n",
    "'EE' : 'Estonia', \n",
    "'IE' : 'Ireland', \n",
    "'EL' : 'Greece', \n",
    "'ES' : 'Spain', \n",
    "'FR' : 'France', \n",
    "'HR' : 'Croatia', \n",
    "'IT' : 'Italy', \n",
    "'CY' : 'Cyprus', \n",
    "'LV' : 'Latvia', \n",
    "'LT' : 'Lithuania', \n",
    "'LU' : 'Luxembourg', \n",
    "'HU' : 'Hungary', \n",
    "'MT' : 'Malta', \n",
    "'NL' : 'Netherlands', \n",
    "'AT' : 'Austria', \n",
    "'PL' : 'Poland', \n",
    "'PT' : 'Portugal', \n",
    "'RO' : 'Romania', \n",
    "'SI' : 'Slovenia', \n",
    "'FI' : 'Finland', \n",
    "'SE' : 'Sweden', \n",
    "'SK' : 'Slovakia', \n",
    "'IS' : 'Iceland', \n",
    "'LI' : 'Liechtenstein', \n",
    "'NO' : 'Norway', \n",
    "'CH' : 'Switzerland', \n",
    "'UK' : 'United Kingdom', \n",
    "'BA' : 'Bosnia and Herzegovina', \n",
    "'ME' : 'Montenegro', \n",
    "'AL' : 'Albania', \n",
    "'RS' : 'Serbia', \n",
    "'TR' : 'Türkiye', \n",
    "'XK' : 'Kosovo', \n",
    "'MK' : 'North Macedonia', \n",
    "'EU27_2020' : 'European Union - 27 countries (from 2020)'\n",
    "}"
   ]
  },
  {
   "cell_type": "code",
   "execution_count": 325,
   "id": "74b405d7",
   "metadata": {},
   "outputs": [
    {
     "data": {
      "text/plain": [
       "{'BE': 'Belgium',\n",
       " 'BG': 'Bulgaria',\n",
       " 'CZ': 'Czech Republic',\n",
       " 'DK': 'Denmark',\n",
       " 'DE': 'Germany',\n",
       " 'EE': 'Estonia',\n",
       " 'IE': 'Ireland',\n",
       " 'EL': 'Greece',\n",
       " 'ES': 'Spain',\n",
       " 'FR': 'France',\n",
       " 'HR': 'Croatia',\n",
       " 'IT': 'Italy',\n",
       " 'CY': 'Cyprus',\n",
       " 'LV': 'Latvia',\n",
       " 'LT': 'Lithuania',\n",
       " 'LU': 'Luxembourg',\n",
       " 'HU': 'Hungary',\n",
       " 'MT': 'Malta',\n",
       " 'NL': 'Netherlands',\n",
       " 'AT': 'Austria',\n",
       " 'PL': 'Poland',\n",
       " 'PT': 'Portugal',\n",
       " 'RO': 'Romania',\n",
       " 'SI': 'Slovenia',\n",
       " 'FI': 'Finland',\n",
       " 'SE': 'Sweden',\n",
       " 'SK': 'Slovakia',\n",
       " 'IS': 'Iceland',\n",
       " 'LI': 'Liechtenstein',\n",
       " 'NO': 'Norway',\n",
       " 'CH': 'Switzerland',\n",
       " 'UK': 'United Kingdom',\n",
       " 'BA': 'Bosnia and Herzegovina',\n",
       " 'ME': 'Montenegro',\n",
       " 'AL': 'Albania',\n",
       " 'RS': 'Serbia',\n",
       " 'TR': 'Türkiye',\n",
       " 'XK': 'Kosovo',\n",
       " 'MK': 'North Macedonia',\n",
       " 'EU27_2020': 'European Union - 27 countries (from 2020)'}"
      ]
     },
     "execution_count": 325,
     "metadata": {},
     "output_type": "execute_result"
    }
   ],
   "source": [
    "countries"
   ]
  },
  {
   "cell_type": "code",
   "execution_count": 326,
   "id": "6170d8ea",
   "metadata": {},
   "outputs": [],
   "source": [
    "# Creating a for-loop to assign the country value to the country_code:\n",
    "result = []\n",
    "\n",
    "for code in ev_df['country_code']:\n",
    "    result.append(countries[code])"
   ]
  },
  {
   "cell_type": "code",
   "execution_count": 327,
   "id": "a483ee49",
   "metadata": {},
   "outputs": [
    {
     "data": {
      "text/plain": [
       "['Albania',\n",
       " 'Albania',\n",
       " 'Albania',\n",
       " 'Albania',\n",
       " 'Albania',\n",
       " 'Albania',\n",
       " 'Albania',\n",
       " 'Albania',\n",
       " 'Albania',\n",
       " 'Albania',\n",
       " 'Albania',\n",
       " 'Albania',\n",
       " 'Albania',\n",
       " 'Albania',\n",
       " 'Albania',\n",
       " 'Albania',\n",
       " 'Albania',\n",
       " 'Albania',\n",
       " 'Albania',\n",
       " 'Albania',\n",
       " 'Albania',\n",
       " 'Albania',\n",
       " 'Albania',\n",
       " 'Albania',\n",
       " 'Albania',\n",
       " 'Albania',\n",
       " 'Albania',\n",
       " 'Albania',\n",
       " 'Albania',\n",
       " 'Albania',\n",
       " 'Albania',\n",
       " 'Albania',\n",
       " 'Albania',\n",
       " 'Albania',\n",
       " 'Albania',\n",
       " 'Albania',\n",
       " 'Albania',\n",
       " 'Albania',\n",
       " 'Albania',\n",
       " 'Albania',\n",
       " 'Albania',\n",
       " 'Austria',\n",
       " 'Austria',\n",
       " 'Austria',\n",
       " 'Austria',\n",
       " 'Austria',\n",
       " 'Austria',\n",
       " 'Austria',\n",
       " 'Austria',\n",
       " 'Austria',\n",
       " 'Austria',\n",
       " 'Austria',\n",
       " 'Austria',\n",
       " 'Austria',\n",
       " 'Austria',\n",
       " 'Austria',\n",
       " 'Austria',\n",
       " 'Austria',\n",
       " 'Austria',\n",
       " 'Austria',\n",
       " 'Austria',\n",
       " 'Austria',\n",
       " 'Austria',\n",
       " 'Austria',\n",
       " 'Austria',\n",
       " 'Austria',\n",
       " 'Austria',\n",
       " 'Austria',\n",
       " 'Austria',\n",
       " 'Austria',\n",
       " 'Austria',\n",
       " 'Austria',\n",
       " 'Austria',\n",
       " 'Austria',\n",
       " 'Austria',\n",
       " 'Austria',\n",
       " 'Austria',\n",
       " 'Austria',\n",
       " 'Austria',\n",
       " 'Austria',\n",
       " 'Austria',\n",
       " 'Austria',\n",
       " 'Austria',\n",
       " 'Austria',\n",
       " 'Austria',\n",
       " 'Austria',\n",
       " 'Austria',\n",
       " 'Austria',\n",
       " 'Austria',\n",
       " 'Austria',\n",
       " 'Austria',\n",
       " 'Austria',\n",
       " 'Austria',\n",
       " 'Austria',\n",
       " 'Austria',\n",
       " 'Austria',\n",
       " 'Austria',\n",
       " 'Austria',\n",
       " 'Austria',\n",
       " 'Austria',\n",
       " 'Austria',\n",
       " 'Austria',\n",
       " 'Austria',\n",
       " 'Austria',\n",
       " 'Austria',\n",
       " 'Austria',\n",
       " 'Austria',\n",
       " 'Austria',\n",
       " 'Austria',\n",
       " 'Austria',\n",
       " 'Austria',\n",
       " 'Austria',\n",
       " 'Austria',\n",
       " 'Austria',\n",
       " 'Austria',\n",
       " 'Austria',\n",
       " 'Austria',\n",
       " 'Austria',\n",
       " 'Austria',\n",
       " 'Austria',\n",
       " 'Austria',\n",
       " 'Austria',\n",
       " 'Austria',\n",
       " 'Austria',\n",
       " 'Austria',\n",
       " 'Austria',\n",
       " 'Austria',\n",
       " 'Austria',\n",
       " 'Austria',\n",
       " 'Austria',\n",
       " 'Austria',\n",
       " 'Austria',\n",
       " 'Austria',\n",
       " 'Austria',\n",
       " 'Austria',\n",
       " 'Austria',\n",
       " 'Austria',\n",
       " 'Austria',\n",
       " 'Austria',\n",
       " 'Austria',\n",
       " 'Austria',\n",
       " 'Austria',\n",
       " 'Austria',\n",
       " 'Austria',\n",
       " 'Austria',\n",
       " 'Austria',\n",
       " 'Austria',\n",
       " 'Austria',\n",
       " 'Austria',\n",
       " 'Austria',\n",
       " 'Austria',\n",
       " 'Austria',\n",
       " 'Austria',\n",
       " 'Austria',\n",
       " 'Austria',\n",
       " 'Austria',\n",
       " 'Austria',\n",
       " 'Austria',\n",
       " 'Austria',\n",
       " 'Austria',\n",
       " 'Austria',\n",
       " 'Austria',\n",
       " 'Austria',\n",
       " 'Austria',\n",
       " 'Austria',\n",
       " 'Austria',\n",
       " 'Austria',\n",
       " 'Austria',\n",
       " 'Austria',\n",
       " 'Austria',\n",
       " 'Austria',\n",
       " 'Austria',\n",
       " 'Austria',\n",
       " 'Austria',\n",
       " 'Austria',\n",
       " 'Austria',\n",
       " 'Austria',\n",
       " 'Austria',\n",
       " 'Austria',\n",
       " 'Austria',\n",
       " 'Austria',\n",
       " 'Austria',\n",
       " 'Austria',\n",
       " 'Austria',\n",
       " 'Austria',\n",
       " 'Austria',\n",
       " 'Austria',\n",
       " 'Austria',\n",
       " 'Austria',\n",
       " 'Austria',\n",
       " 'Austria',\n",
       " 'Austria',\n",
       " 'Austria',\n",
       " 'Austria',\n",
       " 'Austria',\n",
       " 'Austria',\n",
       " 'Austria',\n",
       " 'Austria',\n",
       " 'Austria',\n",
       " 'Austria',\n",
       " 'Austria',\n",
       " 'Austria',\n",
       " 'Austria',\n",
       " 'Austria',\n",
       " 'Austria',\n",
       " 'Austria',\n",
       " 'Austria',\n",
       " 'Austria',\n",
       " 'Austria',\n",
       " 'Austria',\n",
       " 'Austria',\n",
       " 'Austria',\n",
       " 'Austria',\n",
       " 'Austria',\n",
       " 'Austria',\n",
       " 'Austria',\n",
       " 'Austria',\n",
       " 'Austria',\n",
       " 'Austria',\n",
       " 'Austria',\n",
       " 'Austria',\n",
       " 'Bosnia and Herzegovina',\n",
       " 'Bosnia and Herzegovina',\n",
       " 'Bosnia and Herzegovina',\n",
       " 'Bosnia and Herzegovina',\n",
       " 'Bosnia and Herzegovina',\n",
       " 'Bosnia and Herzegovina',\n",
       " 'Belgium',\n",
       " 'Belgium',\n",
       " 'Belgium',\n",
       " 'Belgium',\n",
       " 'Belgium',\n",
       " 'Belgium',\n",
       " 'Belgium',\n",
       " 'Belgium',\n",
       " 'Belgium',\n",
       " 'Belgium',\n",
       " 'Belgium',\n",
       " 'Belgium',\n",
       " 'Belgium',\n",
       " 'Belgium',\n",
       " 'Belgium',\n",
       " 'Belgium',\n",
       " 'Belgium',\n",
       " 'Belgium',\n",
       " 'Belgium',\n",
       " 'Belgium',\n",
       " 'Belgium',\n",
       " 'Belgium',\n",
       " 'Belgium',\n",
       " 'Belgium',\n",
       " 'Belgium',\n",
       " 'Belgium',\n",
       " 'Belgium',\n",
       " 'Belgium',\n",
       " 'Belgium',\n",
       " 'Belgium',\n",
       " 'Belgium',\n",
       " 'Belgium',\n",
       " 'Belgium',\n",
       " 'Belgium',\n",
       " 'Belgium',\n",
       " 'Belgium',\n",
       " 'Belgium',\n",
       " 'Belgium',\n",
       " 'Belgium',\n",
       " 'Belgium',\n",
       " 'Belgium',\n",
       " 'Belgium',\n",
       " 'Belgium',\n",
       " 'Belgium',\n",
       " 'Belgium',\n",
       " 'Belgium',\n",
       " 'Belgium',\n",
       " 'Belgium',\n",
       " 'Belgium',\n",
       " 'Belgium',\n",
       " 'Belgium',\n",
       " 'Belgium',\n",
       " 'Belgium',\n",
       " 'Belgium',\n",
       " 'Belgium',\n",
       " 'Belgium',\n",
       " 'Belgium',\n",
       " 'Belgium',\n",
       " 'Belgium',\n",
       " 'Belgium',\n",
       " 'Belgium',\n",
       " 'Belgium',\n",
       " 'Belgium',\n",
       " 'Belgium',\n",
       " 'Belgium',\n",
       " 'Belgium',\n",
       " 'Belgium',\n",
       " 'Belgium',\n",
       " 'Belgium',\n",
       " 'Belgium',\n",
       " 'Belgium',\n",
       " 'Belgium',\n",
       " 'Belgium',\n",
       " 'Belgium',\n",
       " 'Belgium',\n",
       " 'Belgium',\n",
       " 'Belgium',\n",
       " 'Belgium',\n",
       " 'Belgium',\n",
       " 'Belgium',\n",
       " 'Belgium',\n",
       " 'Belgium',\n",
       " 'Belgium',\n",
       " 'Belgium',\n",
       " 'Belgium',\n",
       " 'Belgium',\n",
       " 'Belgium',\n",
       " 'Belgium',\n",
       " 'Belgium',\n",
       " 'Belgium',\n",
       " 'Belgium',\n",
       " 'Belgium',\n",
       " 'Belgium',\n",
       " 'Belgium',\n",
       " 'Belgium',\n",
       " 'Belgium',\n",
       " 'Belgium',\n",
       " 'Belgium',\n",
       " 'Belgium',\n",
       " 'Belgium',\n",
       " 'Belgium',\n",
       " 'Belgium',\n",
       " 'Belgium',\n",
       " 'Belgium',\n",
       " 'Belgium',\n",
       " 'Belgium',\n",
       " 'Belgium',\n",
       " 'Belgium',\n",
       " 'Belgium',\n",
       " 'Belgium',\n",
       " 'Belgium',\n",
       " 'Belgium',\n",
       " 'Belgium',\n",
       " 'Belgium',\n",
       " 'Belgium',\n",
       " 'Belgium',\n",
       " 'Belgium',\n",
       " 'Belgium',\n",
       " 'Belgium',\n",
       " 'Belgium',\n",
       " 'Belgium',\n",
       " 'Belgium',\n",
       " 'Belgium',\n",
       " 'Belgium',\n",
       " 'Belgium',\n",
       " 'Belgium',\n",
       " 'Belgium',\n",
       " 'Belgium',\n",
       " 'Belgium',\n",
       " 'Belgium',\n",
       " 'Belgium',\n",
       " 'Belgium',\n",
       " 'Belgium',\n",
       " 'Belgium',\n",
       " 'Belgium',\n",
       " 'Belgium',\n",
       " 'Belgium',\n",
       " 'Belgium',\n",
       " 'Belgium',\n",
       " 'Belgium',\n",
       " 'Belgium',\n",
       " 'Belgium',\n",
       " 'Belgium',\n",
       " 'Belgium',\n",
       " 'Belgium',\n",
       " 'Belgium',\n",
       " 'Belgium',\n",
       " 'Belgium',\n",
       " 'Belgium',\n",
       " 'Belgium',\n",
       " 'Belgium',\n",
       " 'Belgium',\n",
       " 'Belgium',\n",
       " 'Belgium',\n",
       " 'Belgium',\n",
       " 'Belgium',\n",
       " 'Belgium',\n",
       " 'Belgium',\n",
       " 'Belgium',\n",
       " 'Belgium',\n",
       " 'Belgium',\n",
       " 'Belgium',\n",
       " 'Belgium',\n",
       " 'Belgium',\n",
       " 'Belgium',\n",
       " 'Belgium',\n",
       " 'Belgium',\n",
       " 'Belgium',\n",
       " 'Belgium',\n",
       " 'Belgium',\n",
       " 'Belgium',\n",
       " 'Belgium',\n",
       " 'Belgium',\n",
       " 'Belgium',\n",
       " 'Belgium',\n",
       " 'Belgium',\n",
       " 'Belgium',\n",
       " 'Belgium',\n",
       " 'Belgium',\n",
       " 'Belgium',\n",
       " 'Bulgaria',\n",
       " 'Bulgaria',\n",
       " 'Bulgaria',\n",
       " 'Bulgaria',\n",
       " 'Bulgaria',\n",
       " 'Bulgaria',\n",
       " 'Bulgaria',\n",
       " 'Bulgaria',\n",
       " 'Bulgaria',\n",
       " 'Bulgaria',\n",
       " 'Bulgaria',\n",
       " 'Bulgaria',\n",
       " 'Bulgaria',\n",
       " 'Bulgaria',\n",
       " 'Bulgaria',\n",
       " 'Bulgaria',\n",
       " 'Bulgaria',\n",
       " 'Bulgaria',\n",
       " 'Bulgaria',\n",
       " 'Bulgaria',\n",
       " 'Switzerland',\n",
       " 'Switzerland',\n",
       " 'Switzerland',\n",
       " 'Switzerland',\n",
       " 'Switzerland',\n",
       " 'Switzerland',\n",
       " 'Switzerland',\n",
       " 'Switzerland',\n",
       " 'Switzerland',\n",
       " 'Switzerland',\n",
       " 'Switzerland',\n",
       " 'Switzerland',\n",
       " 'Switzerland',\n",
       " 'Switzerland',\n",
       " 'Switzerland',\n",
       " 'Switzerland',\n",
       " 'Switzerland',\n",
       " 'Switzerland',\n",
       " 'Switzerland',\n",
       " 'Switzerland',\n",
       " 'Switzerland',\n",
       " 'Switzerland',\n",
       " 'Switzerland',\n",
       " 'Switzerland',\n",
       " 'Switzerland',\n",
       " 'Switzerland',\n",
       " 'Switzerland',\n",
       " 'Switzerland',\n",
       " 'Switzerland',\n",
       " 'Switzerland',\n",
       " 'Switzerland',\n",
       " 'Switzerland',\n",
       " 'Switzerland',\n",
       " 'Switzerland',\n",
       " 'Switzerland',\n",
       " 'Switzerland',\n",
       " 'Switzerland',\n",
       " 'Switzerland',\n",
       " 'Switzerland',\n",
       " 'Switzerland',\n",
       " 'Switzerland',\n",
       " 'Switzerland',\n",
       " 'Switzerland',\n",
       " 'Switzerland',\n",
       " 'Switzerland',\n",
       " 'Switzerland',\n",
       " 'Switzerland',\n",
       " 'Switzerland',\n",
       " 'Switzerland',\n",
       " 'Switzerland',\n",
       " 'Switzerland',\n",
       " 'Switzerland',\n",
       " 'Switzerland',\n",
       " 'Switzerland',\n",
       " 'Switzerland',\n",
       " 'Switzerland',\n",
       " 'Switzerland',\n",
       " 'Switzerland',\n",
       " 'Switzerland',\n",
       " 'Switzerland',\n",
       " 'Switzerland',\n",
       " 'Switzerland',\n",
       " 'Switzerland',\n",
       " 'Switzerland',\n",
       " 'Switzerland',\n",
       " 'Switzerland',\n",
       " 'Switzerland',\n",
       " 'Switzerland',\n",
       " 'Switzerland',\n",
       " 'Switzerland',\n",
       " 'Switzerland',\n",
       " 'Switzerland',\n",
       " 'Switzerland',\n",
       " 'Switzerland',\n",
       " 'Switzerland',\n",
       " 'Switzerland',\n",
       " 'Switzerland',\n",
       " 'Switzerland',\n",
       " 'Switzerland',\n",
       " 'Switzerland',\n",
       " 'Switzerland',\n",
       " 'Switzerland',\n",
       " 'Switzerland',\n",
       " 'Switzerland',\n",
       " 'Switzerland',\n",
       " 'Switzerland',\n",
       " 'Switzerland',\n",
       " 'Switzerland',\n",
       " 'Switzerland',\n",
       " 'Switzerland',\n",
       " 'Switzerland',\n",
       " 'Switzerland',\n",
       " 'Switzerland',\n",
       " 'Switzerland',\n",
       " 'Switzerland',\n",
       " 'Switzerland',\n",
       " 'Switzerland',\n",
       " 'Switzerland',\n",
       " 'Switzerland',\n",
       " 'Switzerland',\n",
       " 'Switzerland',\n",
       " 'Switzerland',\n",
       " 'Switzerland',\n",
       " 'Switzerland',\n",
       " 'Switzerland',\n",
       " 'Switzerland',\n",
       " 'Switzerland',\n",
       " 'Switzerland',\n",
       " 'Switzerland',\n",
       " 'Switzerland',\n",
       " 'Switzerland',\n",
       " 'Switzerland',\n",
       " 'Switzerland',\n",
       " 'Switzerland',\n",
       " 'Switzerland',\n",
       " 'Switzerland',\n",
       " 'Switzerland',\n",
       " 'Switzerland',\n",
       " 'Switzerland',\n",
       " 'Switzerland',\n",
       " 'Switzerland',\n",
       " 'Switzerland',\n",
       " 'Switzerland',\n",
       " 'Switzerland',\n",
       " 'Switzerland',\n",
       " 'Switzerland',\n",
       " 'Switzerland',\n",
       " 'Switzerland',\n",
       " 'Switzerland',\n",
       " 'Switzerland',\n",
       " 'Switzerland',\n",
       " 'Switzerland',\n",
       " 'Switzerland',\n",
       " 'Switzerland',\n",
       " 'Switzerland',\n",
       " 'Switzerland',\n",
       " 'Switzerland',\n",
       " 'Switzerland',\n",
       " 'Switzerland',\n",
       " 'Switzerland',\n",
       " 'Switzerland',\n",
       " 'Switzerland',\n",
       " 'Switzerland',\n",
       " 'Switzerland',\n",
       " 'Switzerland',\n",
       " 'Switzerland',\n",
       " 'Switzerland',\n",
       " 'Switzerland',\n",
       " 'Switzerland',\n",
       " 'Switzerland',\n",
       " 'Switzerland',\n",
       " 'Switzerland',\n",
       " 'Switzerland',\n",
       " 'Switzerland',\n",
       " 'Switzerland',\n",
       " 'Switzerland',\n",
       " 'Switzerland',\n",
       " 'Switzerland',\n",
       " 'Switzerland',\n",
       " 'Switzerland',\n",
       " 'Switzerland',\n",
       " 'Switzerland',\n",
       " 'Switzerland',\n",
       " 'Switzerland',\n",
       " 'Switzerland',\n",
       " 'Switzerland',\n",
       " 'Switzerland',\n",
       " 'Switzerland',\n",
       " 'Switzerland',\n",
       " 'Switzerland',\n",
       " 'Switzerland',\n",
       " 'Switzerland',\n",
       " 'Switzerland',\n",
       " 'Switzerland',\n",
       " 'Switzerland',\n",
       " 'Switzerland',\n",
       " 'Switzerland',\n",
       " 'Switzerland',\n",
       " 'Switzerland',\n",
       " 'Switzerland',\n",
       " 'Cyprus',\n",
       " 'Cyprus',\n",
       " 'Cyprus',\n",
       " 'Cyprus',\n",
       " 'Cyprus',\n",
       " 'Cyprus',\n",
       " 'Cyprus',\n",
       " 'Cyprus',\n",
       " 'Cyprus',\n",
       " 'Cyprus',\n",
       " 'Cyprus',\n",
       " 'Cyprus',\n",
       " 'Cyprus',\n",
       " 'Cyprus',\n",
       " 'Cyprus',\n",
       " 'Cyprus',\n",
       " 'Cyprus',\n",
       " 'Cyprus',\n",
       " 'Cyprus',\n",
       " 'Cyprus',\n",
       " 'Cyprus',\n",
       " 'Cyprus',\n",
       " 'Cyprus',\n",
       " 'Cyprus',\n",
       " 'Cyprus',\n",
       " 'Cyprus',\n",
       " 'Cyprus',\n",
       " 'Cyprus',\n",
       " 'Cyprus',\n",
       " 'Cyprus',\n",
       " 'Cyprus',\n",
       " 'Cyprus',\n",
       " 'Cyprus',\n",
       " 'Cyprus',\n",
       " 'Cyprus',\n",
       " 'Cyprus',\n",
       " 'Cyprus',\n",
       " 'Cyprus',\n",
       " 'Cyprus',\n",
       " 'Cyprus',\n",
       " 'Cyprus',\n",
       " 'Cyprus',\n",
       " 'Cyprus',\n",
       " 'Cyprus',\n",
       " 'Cyprus',\n",
       " 'Cyprus',\n",
       " 'Cyprus',\n",
       " 'Cyprus',\n",
       " 'Cyprus',\n",
       " 'Cyprus',\n",
       " 'Cyprus',\n",
       " 'Cyprus',\n",
       " 'Cyprus',\n",
       " 'Cyprus',\n",
       " 'Cyprus',\n",
       " 'Cyprus',\n",
       " 'Cyprus',\n",
       " 'Cyprus',\n",
       " 'Cyprus',\n",
       " 'Cyprus',\n",
       " 'Cyprus',\n",
       " 'Cyprus',\n",
       " 'Cyprus',\n",
       " 'Cyprus',\n",
       " 'Cyprus',\n",
       " 'Cyprus',\n",
       " 'Cyprus',\n",
       " 'Cyprus',\n",
       " 'Cyprus',\n",
       " 'Cyprus',\n",
       " 'Cyprus',\n",
       " 'Cyprus',\n",
       " 'Cyprus',\n",
       " 'Cyprus',\n",
       " 'Cyprus',\n",
       " 'Cyprus',\n",
       " 'Cyprus',\n",
       " 'Cyprus',\n",
       " 'Cyprus',\n",
       " 'Cyprus',\n",
       " 'Cyprus',\n",
       " 'Cyprus',\n",
       " 'Cyprus',\n",
       " 'Cyprus',\n",
       " 'Cyprus',\n",
       " 'Cyprus',\n",
       " 'Cyprus',\n",
       " 'Cyprus',\n",
       " 'Cyprus',\n",
       " 'Cyprus',\n",
       " 'Cyprus',\n",
       " 'Cyprus',\n",
       " 'Cyprus',\n",
       " 'Cyprus',\n",
       " 'Cyprus',\n",
       " 'Cyprus',\n",
       " 'Cyprus',\n",
       " 'Cyprus',\n",
       " 'Cyprus',\n",
       " 'Cyprus',\n",
       " 'Cyprus',\n",
       " 'Cyprus',\n",
       " 'Cyprus',\n",
       " 'Cyprus',\n",
       " 'Cyprus',\n",
       " 'Cyprus',\n",
       " 'Cyprus',\n",
       " 'Cyprus',\n",
       " 'Cyprus',\n",
       " 'Cyprus',\n",
       " 'Cyprus',\n",
       " 'Cyprus',\n",
       " 'Cyprus',\n",
       " 'Cyprus',\n",
       " 'Cyprus',\n",
       " 'Cyprus',\n",
       " 'Cyprus',\n",
       " 'Cyprus',\n",
       " 'Cyprus',\n",
       " 'Cyprus',\n",
       " 'Cyprus',\n",
       " 'Cyprus',\n",
       " 'Cyprus',\n",
       " 'Cyprus',\n",
       " 'Cyprus',\n",
       " 'Cyprus',\n",
       " 'Cyprus',\n",
       " 'Cyprus',\n",
       " 'Cyprus',\n",
       " 'Cyprus',\n",
       " 'Cyprus',\n",
       " 'Cyprus',\n",
       " 'Cyprus',\n",
       " 'Cyprus',\n",
       " 'Cyprus',\n",
       " 'Cyprus',\n",
       " 'Cyprus',\n",
       " 'Cyprus',\n",
       " 'Cyprus',\n",
       " 'Cyprus',\n",
       " 'Cyprus',\n",
       " 'Cyprus',\n",
       " 'Cyprus',\n",
       " 'Cyprus',\n",
       " 'Cyprus',\n",
       " 'Cyprus',\n",
       " 'Cyprus',\n",
       " 'Cyprus',\n",
       " 'Cyprus',\n",
       " 'Cyprus',\n",
       " 'Cyprus',\n",
       " 'Cyprus',\n",
       " 'Cyprus',\n",
       " 'Cyprus',\n",
       " 'Cyprus',\n",
       " 'Cyprus',\n",
       " 'Cyprus',\n",
       " 'Cyprus',\n",
       " 'Cyprus',\n",
       " 'Cyprus',\n",
       " 'Cyprus',\n",
       " 'Cyprus',\n",
       " 'Cyprus',\n",
       " 'Cyprus',\n",
       " 'Cyprus',\n",
       " 'Cyprus',\n",
       " 'Cyprus',\n",
       " 'Cyprus',\n",
       " 'Cyprus',\n",
       " 'Cyprus',\n",
       " 'Cyprus',\n",
       " 'Cyprus',\n",
       " 'Cyprus',\n",
       " 'Cyprus',\n",
       " 'Cyprus',\n",
       " 'Cyprus',\n",
       " 'Cyprus',\n",
       " 'Cyprus',\n",
       " 'Cyprus',\n",
       " 'Cyprus',\n",
       " 'Czech Republic',\n",
       " 'Czech Republic',\n",
       " 'Czech Republic',\n",
       " 'Czech Republic',\n",
       " 'Czech Republic',\n",
       " 'Czech Republic',\n",
       " 'Czech Republic',\n",
       " 'Czech Republic',\n",
       " 'Czech Republic',\n",
       " 'Czech Republic',\n",
       " 'Czech Republic',\n",
       " 'Czech Republic',\n",
       " 'Czech Republic',\n",
       " 'Czech Republic',\n",
       " 'Czech Republic',\n",
       " 'Czech Republic',\n",
       " 'Czech Republic',\n",
       " 'Czech Republic',\n",
       " 'Czech Republic',\n",
       " 'Czech Republic',\n",
       " 'Germany',\n",
       " 'Germany',\n",
       " 'Germany',\n",
       " 'Germany',\n",
       " 'Germany',\n",
       " 'Germany',\n",
       " 'Germany',\n",
       " 'Germany',\n",
       " 'Germany',\n",
       " 'Germany',\n",
       " 'Germany',\n",
       " 'Germany',\n",
       " 'Germany',\n",
       " 'Germany',\n",
       " 'Germany',\n",
       " 'Germany',\n",
       " 'Germany',\n",
       " 'Germany',\n",
       " 'Germany',\n",
       " 'Germany',\n",
       " 'Germany',\n",
       " 'Germany',\n",
       " 'Germany',\n",
       " 'Germany',\n",
       " 'Germany',\n",
       " 'Germany',\n",
       " 'Germany',\n",
       " 'Germany',\n",
       " 'Germany',\n",
       " 'Germany',\n",
       " 'Germany',\n",
       " 'Germany',\n",
       " 'Germany',\n",
       " 'Germany',\n",
       " 'Germany',\n",
       " 'Germany',\n",
       " 'Germany',\n",
       " 'Germany',\n",
       " 'Germany',\n",
       " 'Germany',\n",
       " 'Germany',\n",
       " 'Germany',\n",
       " 'Germany',\n",
       " 'Germany',\n",
       " 'Germany',\n",
       " 'Germany',\n",
       " 'Germany',\n",
       " 'Germany',\n",
       " 'Germany',\n",
       " 'Germany',\n",
       " 'Germany',\n",
       " 'Germany',\n",
       " 'Germany',\n",
       " 'Germany',\n",
       " 'Germany',\n",
       " 'Germany',\n",
       " 'Germany',\n",
       " 'Germany',\n",
       " 'Germany',\n",
       " 'Germany',\n",
       " 'Germany',\n",
       " 'Germany',\n",
       " 'Germany',\n",
       " 'Germany',\n",
       " 'Germany',\n",
       " 'Germany',\n",
       " 'Germany',\n",
       " 'Germany',\n",
       " 'Germany',\n",
       " 'Germany',\n",
       " 'Germany',\n",
       " 'Germany',\n",
       " 'Germany',\n",
       " 'Germany',\n",
       " 'Germany',\n",
       " 'Germany',\n",
       " 'Germany',\n",
       " 'Germany',\n",
       " 'Germany',\n",
       " 'Germany',\n",
       " 'Germany',\n",
       " 'Germany',\n",
       " 'Germany',\n",
       " 'Germany',\n",
       " 'Germany',\n",
       " 'Germany',\n",
       " 'Germany',\n",
       " 'Germany',\n",
       " 'Germany',\n",
       " 'Germany',\n",
       " 'Germany',\n",
       " 'Germany',\n",
       " 'Germany',\n",
       " 'Germany',\n",
       " 'Germany',\n",
       " 'Germany',\n",
       " 'Germany',\n",
       " 'Germany',\n",
       " 'Germany',\n",
       " 'Germany',\n",
       " 'Germany',\n",
       " 'Germany',\n",
       " 'Germany',\n",
       " 'Germany',\n",
       " 'Germany',\n",
       " 'Germany',\n",
       " 'Germany',\n",
       " 'Germany',\n",
       " 'Germany',\n",
       " 'Germany',\n",
       " 'Germany',\n",
       " 'Germany',\n",
       " 'Germany',\n",
       " 'Germany',\n",
       " 'Germany',\n",
       " 'Germany',\n",
       " 'Germany',\n",
       " 'Germany',\n",
       " 'Germany',\n",
       " 'Germany',\n",
       " 'Germany',\n",
       " 'Germany',\n",
       " 'Germany',\n",
       " 'Germany',\n",
       " 'Germany',\n",
       " 'Germany',\n",
       " 'Germany',\n",
       " 'Germany',\n",
       " 'Germany',\n",
       " 'Germany',\n",
       " 'Germany',\n",
       " 'Germany',\n",
       " 'Germany',\n",
       " 'Germany',\n",
       " 'Germany',\n",
       " 'Germany',\n",
       " 'Germany',\n",
       " 'Germany',\n",
       " 'Germany',\n",
       " 'Germany',\n",
       " 'Germany',\n",
       " 'Germany',\n",
       " 'Germany',\n",
       " 'Germany',\n",
       " 'Germany',\n",
       " 'Germany',\n",
       " 'Germany',\n",
       " 'Germany',\n",
       " 'Germany',\n",
       " 'Germany',\n",
       " 'Germany',\n",
       " 'Germany',\n",
       " 'Germany',\n",
       " 'Germany',\n",
       " 'Germany',\n",
       " 'Germany',\n",
       " 'Germany',\n",
       " 'Germany',\n",
       " 'Germany',\n",
       " 'Germany',\n",
       " 'Germany',\n",
       " 'Germany',\n",
       " 'Germany',\n",
       " 'Germany',\n",
       " 'Germany',\n",
       " 'Germany',\n",
       " 'Germany',\n",
       " 'Germany',\n",
       " 'Germany',\n",
       " 'Germany',\n",
       " 'Germany',\n",
       " 'Germany',\n",
       " 'Germany',\n",
       " 'Germany',\n",
       " 'Germany',\n",
       " 'Germany',\n",
       " 'Germany',\n",
       " 'Germany',\n",
       " 'Germany',\n",
       " 'Germany',\n",
       " 'Denmark',\n",
       " 'Denmark',\n",
       " 'Denmark',\n",
       " 'Denmark',\n",
       " 'Denmark',\n",
       " 'Denmark',\n",
       " 'Denmark',\n",
       " 'Denmark',\n",
       " 'Denmark',\n",
       " 'Denmark',\n",
       " 'Denmark',\n",
       " 'Denmark',\n",
       " 'Denmark',\n",
       " ...]"
      ]
     },
     "execution_count": 327,
     "metadata": {},
     "output_type": "execute_result"
    }
   ],
   "source": [
    "# Checking the result list\n",
    "result"
   ]
  },
  {
   "cell_type": "code",
   "execution_count": 328,
   "id": "394a5c1a",
   "metadata": {},
   "outputs": [],
   "source": [
    "# Adding the \"result\" list to the dataframe:\n",
    "ev_df['country'] = result"
   ]
  },
  {
   "cell_type": "code",
   "execution_count": 329,
   "id": "75d1be5b",
   "metadata": {},
   "outputs": [
    {
     "data": {
      "text/plain": [
       "France                                       3720\n",
       "Sweden                                       3720\n",
       "Switzerland                                  3720\n",
       "Cyprus                                       3720\n",
       "Austria                                      3720\n",
       "Portugal                                     3580\n",
       "Finland                                      3560\n",
       "Malta                                        3520\n",
       "Hungary                                      3520\n",
       "Netherlands                                  3460\n",
       "Latvia                                       3320\n",
       "Poland                                       3140\n",
       "Spain                                        3120\n",
       "Luxembourg                                   3080\n",
       "Lithuania                                    2900\n",
       "Türkiye                                      2820\n",
       "Croatia                                      2760\n",
       "Belgium                                      2720\n",
       "Norway                                       2698\n",
       "Romania                                      2680\n",
       "Italy                                        2660\n",
       "Germany                                      2620\n",
       "Estonia                                      2540\n",
       "Denmark                                      2460\n",
       "Ireland                                      2260\n",
       "Slovenia                                     1960\n",
       "Czech Republic                               1840\n",
       "United Kingdom                               1595\n",
       "North Macedonia                              1581\n",
       "Albania                                       946\n",
       "Montenegro                                    801\n",
       "Greece                                        580\n",
       "Iceland                                       556\n",
       "Kosovo                                        410\n",
       "European Union - 27 countries (from 2020)     290\n",
       "Bulgaria                                      280\n",
       "Slovakia                                      221\n",
       "Liechtenstein                                 168\n",
       "Serbia                                        148\n",
       "Bosnia and Herzegovina                        125\n",
       "Name: country, dtype: int64"
      ]
     },
     "execution_count": 329,
     "metadata": {},
     "output_type": "execute_result"
    }
   ],
   "source": [
    "ev_df['country'].value_counts(dropna = False)"
   ]
  },
  {
   "cell_type": "markdown",
   "id": "cb5dadae",
   "metadata": {},
   "source": [
    "The assignment of the country names went correctly."
   ]
  },
  {
   "cell_type": "markdown",
   "id": "f7626e8e",
   "metadata": {},
   "source": [
    "The \"European Union - 27 countries (from 2020)\" value can be removed from the dataframe, as it does not bring anything."
   ]
  },
  {
   "cell_type": "code",
   "execution_count": 330,
   "id": "1a572f5a",
   "metadata": {},
   "outputs": [],
   "source": [
    "# Removing \"European Union - 27 countries (from 2020)\" values by creating a subset excluding this value: \n",
    "ev_df = ev_df.loc[ev_df['country'] != 'European Union - 27 countries (from 2020)']"
   ]
  },
  {
   "cell_type": "code",
   "execution_count": 331,
   "id": "c570f08c",
   "metadata": {},
   "outputs": [
    {
     "data": {
      "text/plain": [
       "France                    3720\n",
       "Switzerland               3720\n",
       "Cyprus                    3720\n",
       "Sweden                    3720\n",
       "Austria                   3720\n",
       "Portugal                  3580\n",
       "Finland                   3560\n",
       "Malta                     3520\n",
       "Hungary                   3520\n",
       "Netherlands               3460\n",
       "Latvia                    3320\n",
       "Poland                    3140\n",
       "Spain                     3120\n",
       "Luxembourg                3080\n",
       "Lithuania                 2900\n",
       "Türkiye                   2820\n",
       "Croatia                   2760\n",
       "Belgium                   2720\n",
       "Norway                    2698\n",
       "Romania                   2680\n",
       "Italy                     2660\n",
       "Germany                   2620\n",
       "Estonia                   2540\n",
       "Denmark                   2460\n",
       "Ireland                   2260\n",
       "Slovenia                  1960\n",
       "Czech Republic            1840\n",
       "United Kingdom            1595\n",
       "North Macedonia           1581\n",
       "Albania                    946\n",
       "Montenegro                 801\n",
       "Greece                     580\n",
       "Iceland                    556\n",
       "Kosovo                     410\n",
       "Bulgaria                   280\n",
       "Slovakia                   221\n",
       "Liechtenstein              168\n",
       "Serbia                     148\n",
       "Bosnia and Herzegovina     125\n",
       "Name: country, dtype: int64"
      ]
     },
     "execution_count": 331,
     "metadata": {},
     "output_type": "execute_result"
    }
   ],
   "source": [
    "# Checking if the values were removed:\n",
    "ev_df['country'].value_counts(dropna = False)"
   ]
  },
  {
   "cell_type": "markdown",
   "id": "be4439e7",
   "metadata": {},
   "source": [
    "## 7.3 Age"
   ]
  },
  {
   "cell_type": "code",
   "execution_count": 332,
   "id": "2d531a31",
   "metadata": {},
   "outputs": [
    {
     "data": {
      "text/plain": [
       "TOTAL     17748\n",
       "Y18-64    17748\n",
       "Y_GE18    17748\n",
       "Y_GE65    17748\n",
       "Y_LT18    17748\n",
       "NaN         489\n",
       "Name: age_code, dtype: int64"
      ]
     },
     "execution_count": 332,
     "metadata": {},
     "output_type": "execute_result"
    }
   ],
   "source": [
    "# Checking the age_code column to see how many entries there are:\n",
    "ev_df['age_code'].value_counts(dropna = False)"
   ]
  },
  {
   "cell_type": "markdown",
   "id": "481e0489",
   "metadata": {},
   "source": [
    "The null values in the age column should be left, as the age is only a supplementary information to the car resistration and car stock."
   ]
  },
  {
   "cell_type": "markdown",
   "id": "3f7b6ad8",
   "metadata": {},
   "source": [
    "The age_code should be changed to be more undestandable:\n",
    "\n",
    "    TOTAL - total\n",
    "    Y18-64 - 18-64\n",
    "    Y_GE18 - 18+\n",
    "    Y_LT18 - 18-\n",
    "    Y_GE65 - 65+"
   ]
  },
  {
   "cell_type": "code",
   "execution_count": 333,
   "id": "0d216405",
   "metadata": {},
   "outputs": [],
   "source": [
    "# Creating new column using the loc() function\n",
    "ev_df.loc[ev_df['age_code'] == 'TOTAL', 'age_group'] = 'Total'"
   ]
  },
  {
   "cell_type": "code",
   "execution_count": 334,
   "id": "1ee7c7ea",
   "metadata": {},
   "outputs": [],
   "source": [
    "ev_df.loc[ev_df['age_code'] == 'Y18-64', 'age_group'] = '18-64'"
   ]
  },
  {
   "cell_type": "code",
   "execution_count": 335,
   "id": "ad306528",
   "metadata": {},
   "outputs": [],
   "source": [
    "ev_df.loc[ev_df['age_code'] == 'Y_GE18', 'age_group'] = '18+'"
   ]
  },
  {
   "cell_type": "code",
   "execution_count": 336,
   "id": "bf6e0013",
   "metadata": {},
   "outputs": [],
   "source": [
    "ev_df.loc[ev_df['age_code'] == 'Y_LT18', 'age_group'] = '18-'"
   ]
  },
  {
   "cell_type": "code",
   "execution_count": 337,
   "id": "0bceca43",
   "metadata": {},
   "outputs": [],
   "source": [
    "ev_df.loc[ev_df['age_code'] == 'Y_GE65', 'age_group'] = '65+'"
   ]
  },
  {
   "cell_type": "code",
   "execution_count": 338,
   "id": "df6c3178",
   "metadata": {},
   "outputs": [
    {
     "data": {
      "text/plain": [
       "Total    17748\n",
       "18-64    17748\n",
       "18+      17748\n",
       "65+      17748\n",
       "18-      17748\n",
       "NaN        489\n",
       "Name: age_group, dtype: int64"
      ]
     },
     "execution_count": 338,
     "metadata": {},
     "output_type": "execute_result"
    }
   ],
   "source": [
    "# Checking the result\n",
    "ev_df['age_group'].value_counts(dropna=False)"
   ]
  },
  {
   "cell_type": "markdown",
   "id": "90de38bc",
   "metadata": {},
   "source": [
    "The results are as expected."
   ]
  },
  {
   "cell_type": "markdown",
   "id": "94131fe7",
   "metadata": {},
   "source": [
    "## 7.4 Income indicator"
   ]
  },
  {
   "cell_type": "markdown",
   "id": "4a747c43",
   "metadata": {},
   "source": [
    "MED_E stands for Median equivalise net income. MEI_E stands for mean equivalised net income. I will rename both variables to median and mean for simplification."
   ]
  },
  {
   "cell_type": "code",
   "execution_count": 339,
   "id": "c68a490b",
   "metadata": {},
   "outputs": [
    {
     "data": {
      "text/plain": [
       "MED_E    44370\n",
       "MEI_E    44370\n",
       "NaN        489\n",
       "Name: income_indicator_code, dtype: int64"
      ]
     },
     "execution_count": 339,
     "metadata": {},
     "output_type": "execute_result"
    }
   ],
   "source": [
    "# Frequency before the change\n",
    "ev_df['income_indicator_code'].value_counts(dropna=False)"
   ]
  },
  {
   "cell_type": "code",
   "execution_count": 340,
   "id": "4b733935",
   "metadata": {},
   "outputs": [],
   "source": [
    "# Changing the values\n",
    "ev_df.loc[ev_df['income_indicator_code'] == 'MED_E', 'income_indicator_code'] = 'Median'"
   ]
  },
  {
   "cell_type": "code",
   "execution_count": 341,
   "id": "5a94624b",
   "metadata": {},
   "outputs": [],
   "source": [
    "ev_df.loc[ev_df['income_indicator_code'] == 'MEI_E', 'income_indicator_code'] = 'Mean'"
   ]
  },
  {
   "cell_type": "code",
   "execution_count": 342,
   "id": "3b33cc18",
   "metadata": {},
   "outputs": [
    {
     "data": {
      "text/plain": [
       "Median    44370\n",
       "Mean      44370\n",
       "NaN         489\n",
       "Name: income_indicator_code, dtype: int64"
      ]
     },
     "execution_count": 342,
     "metadata": {},
     "output_type": "execute_result"
    }
   ],
   "source": [
    "# Checking the results\n",
    "ev_df['income_indicator_code'].value_counts(dropna=False)"
   ]
  },
  {
   "cell_type": "markdown",
   "id": "60185af2",
   "metadata": {},
   "source": [
    "The change was done sucessfully. I will now change back the name of the column, since it is not a code anymore."
   ]
  },
  {
   "cell_type": "code",
   "execution_count": 343,
   "id": "c10fc0cb",
   "metadata": {},
   "outputs": [],
   "source": [
    "ev_df.rename(columns = {'income_indicator_code' : 'income_indicator'}, inplace = True)"
   ]
  },
  {
   "cell_type": "code",
   "execution_count": 344,
   "id": "c2ed3e98",
   "metadata": {},
   "outputs": [
    {
     "data": {
      "text/html": [
       "<div>\n",
       "<style scoped>\n",
       "    .dataframe tbody tr th:only-of-type {\n",
       "        vertical-align: middle;\n",
       "    }\n",
       "\n",
       "    .dataframe tbody tr th {\n",
       "        vertical-align: top;\n",
       "    }\n",
       "\n",
       "    .dataframe thead th {\n",
       "        text-align: right;\n",
       "    }\n",
       "</style>\n",
       "<table border=\"1\" class=\"dataframe\">\n",
       "  <thead>\n",
       "    <tr style=\"text-align: right;\">\n",
       "      <th></th>\n",
       "      <th>engine_type_code</th>\n",
       "      <th>country_code</th>\n",
       "      <th>year</th>\n",
       "      <th>new_car</th>\n",
       "      <th>stock_car</th>\n",
       "      <th>gdp_eur</th>\n",
       "      <th>age_code</th>\n",
       "      <th>income_indicator</th>\n",
       "      <th>currency</th>\n",
       "      <th>income</th>\n",
       "      <th>demographic_indicator_code</th>\n",
       "      <th>population</th>\n",
       "      <th>engine</th>\n",
       "      <th>country</th>\n",
       "      <th>age_group</th>\n",
       "    </tr>\n",
       "  </thead>\n",
       "  <tbody>\n",
       "    <tr>\n",
       "      <th>0</th>\n",
       "      <td>ALT</td>\n",
       "      <td>AL</td>\n",
       "      <td>2019</td>\n",
       "      <td>3757.0</td>\n",
       "      <td>35881.0</td>\n",
       "      <td>13754.2</td>\n",
       "      <td>TOTAL</td>\n",
       "      <td>Median</td>\n",
       "      <td>EUR</td>\n",
       "      <td>2231.0</td>\n",
       "      <td>AVG</td>\n",
       "      <td>2854191.0</td>\n",
       "      <td>Other</td>\n",
       "      <td>Albania</td>\n",
       "      <td>Total</td>\n",
       "    </tr>\n",
       "    <tr>\n",
       "      <th>1</th>\n",
       "      <td>ALT</td>\n",
       "      <td>AL</td>\n",
       "      <td>2019</td>\n",
       "      <td>3757.0</td>\n",
       "      <td>35881.0</td>\n",
       "      <td>13754.2</td>\n",
       "      <td>TOTAL</td>\n",
       "      <td>Median</td>\n",
       "      <td>PPS</td>\n",
       "      <td>4252.0</td>\n",
       "      <td>AVG</td>\n",
       "      <td>2854191.0</td>\n",
       "      <td>Other</td>\n",
       "      <td>Albania</td>\n",
       "      <td>Total</td>\n",
       "    </tr>\n",
       "    <tr>\n",
       "      <th>2</th>\n",
       "      <td>ALT</td>\n",
       "      <td>AL</td>\n",
       "      <td>2019</td>\n",
       "      <td>3757.0</td>\n",
       "      <td>35881.0</td>\n",
       "      <td>13754.2</td>\n",
       "      <td>TOTAL</td>\n",
       "      <td>Mean</td>\n",
       "      <td>EUR</td>\n",
       "      <td>2619.0</td>\n",
       "      <td>AVG</td>\n",
       "      <td>2854191.0</td>\n",
       "      <td>Other</td>\n",
       "      <td>Albania</td>\n",
       "      <td>Total</td>\n",
       "    </tr>\n",
       "    <tr>\n",
       "      <th>3</th>\n",
       "      <td>ALT</td>\n",
       "      <td>AL</td>\n",
       "      <td>2019</td>\n",
       "      <td>3757.0</td>\n",
       "      <td>35881.0</td>\n",
       "      <td>13754.2</td>\n",
       "      <td>TOTAL</td>\n",
       "      <td>Mean</td>\n",
       "      <td>PPS</td>\n",
       "      <td>4992.0</td>\n",
       "      <td>AVG</td>\n",
       "      <td>2854191.0</td>\n",
       "      <td>Other</td>\n",
       "      <td>Albania</td>\n",
       "      <td>Total</td>\n",
       "    </tr>\n",
       "    <tr>\n",
       "      <th>4</th>\n",
       "      <td>ALT</td>\n",
       "      <td>AL</td>\n",
       "      <td>2019</td>\n",
       "      <td>3757.0</td>\n",
       "      <td>35881.0</td>\n",
       "      <td>13754.2</td>\n",
       "      <td>Y18-64</td>\n",
       "      <td>Median</td>\n",
       "      <td>EUR</td>\n",
       "      <td>2319.0</td>\n",
       "      <td>AVG</td>\n",
       "      <td>2854191.0</td>\n",
       "      <td>Other</td>\n",
       "      <td>Albania</td>\n",
       "      <td>18-64</td>\n",
       "    </tr>\n",
       "  </tbody>\n",
       "</table>\n",
       "</div>"
      ],
      "text/plain": [
       "  engine_type_code country_code  year  new_car  stock_car  gdp_eur age_code  \\\n",
       "0              ALT           AL  2019   3757.0    35881.0  13754.2    TOTAL   \n",
       "1              ALT           AL  2019   3757.0    35881.0  13754.2    TOTAL   \n",
       "2              ALT           AL  2019   3757.0    35881.0  13754.2    TOTAL   \n",
       "3              ALT           AL  2019   3757.0    35881.0  13754.2    TOTAL   \n",
       "4              ALT           AL  2019   3757.0    35881.0  13754.2   Y18-64   \n",
       "\n",
       "  income_indicator currency  income demographic_indicator_code  population  \\\n",
       "0           Median      EUR  2231.0                        AVG   2854191.0   \n",
       "1           Median      PPS  4252.0                        AVG   2854191.0   \n",
       "2             Mean      EUR  2619.0                        AVG   2854191.0   \n",
       "3             Mean      PPS  4992.0                        AVG   2854191.0   \n",
       "4           Median      EUR  2319.0                        AVG   2854191.0   \n",
       "\n",
       "  engine  country age_group  \n",
       "0  Other  Albania     Total  \n",
       "1  Other  Albania     Total  \n",
       "2  Other  Albania     Total  \n",
       "3  Other  Albania     Total  \n",
       "4  Other  Albania     18-64  "
      ]
     },
     "execution_count": 344,
     "metadata": {},
     "output_type": "execute_result"
    }
   ],
   "source": [
    "# Checking the result\n",
    "ev_df.head()"
   ]
  },
  {
   "cell_type": "markdown",
   "id": "9ffee0bf",
   "metadata": {},
   "source": [
    "## 7.5 Coutry grouping"
   ]
  },
  {
   "cell_type": "markdown",
   "id": "03dfb07e",
   "metadata": {},
   "source": [
    "Even though the data comes from European statistical office, there is data for countries outside EU. I will add an additional flag to group the countries into: EU, EFTA, other European countries."
   ]
  },
  {
   "cell_type": "code",
   "execution_count": 345,
   "id": "b2b11880",
   "metadata": {},
   "outputs": [],
   "source": [
    "# Creating categories for the country group:\n",
    "EU = ['Belgium', 'Bulgaria', 'Czech Republic', 'Denmark', 'Germany', 'Estonia', 'Ireland', 'Greece', 'Spain', 'France', 'Croatia', 'Italy', 'Cyprus', 'Latvia', 'Lithuania', 'Luxembourg', 'Hungary', 'Malta', 'Netherlands', 'Austria', 'Poland', 'Portugal', 'Romania', 'Slovenia', 'Finland', 'Sweden', 'Slovakia']"
   ]
  },
  {
   "cell_type": "code",
   "execution_count": 346,
   "id": "fef52e53",
   "metadata": {},
   "outputs": [],
   "source": [
    "EFTA = ['Iceland', 'Liechtenstein', 'Norway', 'Switzerland']"
   ]
  },
  {
   "cell_type": "code",
   "execution_count": 347,
   "id": "b926afba",
   "metadata": {},
   "outputs": [],
   "source": [
    "other = ['United Kingdom', 'Bosnia and Herzegovina', 'Montenegro', 'Albania', 'Serbia', 'Türkiye', 'Kosovo', 'North Macedonia']"
   ]
  },
  {
   "cell_type": "code",
   "execution_count": 348,
   "id": "06fb4e27",
   "metadata": {},
   "outputs": [],
   "source": [
    "# Creating a new “country_group” column based on the “country” column from the ev_df dataframe.\n",
    "ev_df.loc[ev_df['country'].isin(EU), 'country_group'] = 'EU'"
   ]
  },
  {
   "cell_type": "code",
   "execution_count": 349,
   "id": "cb299879",
   "metadata": {},
   "outputs": [],
   "source": [
    "ev_df.loc[ev_df['country'].isin(EFTA), 'country_group'] = 'EFTA'"
   ]
  },
  {
   "cell_type": "code",
   "execution_count": 350,
   "id": "3e66d647",
   "metadata": {},
   "outputs": [],
   "source": [
    "ev_df.loc[ev_df['country'].isin(other), 'country_group'] = 'other'"
   ]
  },
  {
   "cell_type": "markdown",
   "id": "e33c7ff3",
   "metadata": {},
   "source": [
    "# 8. Exporting dataframe"
   ]
  },
  {
   "cell_type": "code",
   "execution_count": 351,
   "id": "e08ee3af",
   "metadata": {},
   "outputs": [],
   "source": [
    "# Exporting the final dataframe to pickle\n",
    "ev_df.to_pickle(os.path.join(path_data, 'Prepared Data', 'ev_clean.pkl'))"
   ]
  },
  {
   "cell_type": "code",
   "execution_count": 352,
   "id": "4403eb25",
   "metadata": {},
   "outputs": [
    {
     "data": {
      "text/html": [
       "<div>\n",
       "<style scoped>\n",
       "    .dataframe tbody tr th:only-of-type {\n",
       "        vertical-align: middle;\n",
       "    }\n",
       "\n",
       "    .dataframe tbody tr th {\n",
       "        vertical-align: top;\n",
       "    }\n",
       "\n",
       "    .dataframe thead th {\n",
       "        text-align: right;\n",
       "    }\n",
       "</style>\n",
       "<table border=\"1\" class=\"dataframe\">\n",
       "  <thead>\n",
       "    <tr style=\"text-align: right;\">\n",
       "      <th></th>\n",
       "      <th>engine_type_code</th>\n",
       "      <th>country_code</th>\n",
       "      <th>year</th>\n",
       "      <th>new_car</th>\n",
       "      <th>stock_car</th>\n",
       "      <th>gdp_eur</th>\n",
       "      <th>age_code</th>\n",
       "      <th>income_indicator</th>\n",
       "      <th>currency</th>\n",
       "      <th>income</th>\n",
       "      <th>demographic_indicator_code</th>\n",
       "      <th>population</th>\n",
       "      <th>engine</th>\n",
       "      <th>country</th>\n",
       "      <th>age_group</th>\n",
       "      <th>country_group</th>\n",
       "    </tr>\n",
       "  </thead>\n",
       "  <tbody>\n",
       "    <tr>\n",
       "      <th>0</th>\n",
       "      <td>ALT</td>\n",
       "      <td>AL</td>\n",
       "      <td>2019</td>\n",
       "      <td>3757.0</td>\n",
       "      <td>35881.0</td>\n",
       "      <td>13754.2</td>\n",
       "      <td>TOTAL</td>\n",
       "      <td>Median</td>\n",
       "      <td>EUR</td>\n",
       "      <td>2231.0</td>\n",
       "      <td>AVG</td>\n",
       "      <td>2854191.0</td>\n",
       "      <td>Other</td>\n",
       "      <td>Albania</td>\n",
       "      <td>Total</td>\n",
       "      <td>other</td>\n",
       "    </tr>\n",
       "    <tr>\n",
       "      <th>1</th>\n",
       "      <td>ALT</td>\n",
       "      <td>AL</td>\n",
       "      <td>2019</td>\n",
       "      <td>3757.0</td>\n",
       "      <td>35881.0</td>\n",
       "      <td>13754.2</td>\n",
       "      <td>TOTAL</td>\n",
       "      <td>Median</td>\n",
       "      <td>PPS</td>\n",
       "      <td>4252.0</td>\n",
       "      <td>AVG</td>\n",
       "      <td>2854191.0</td>\n",
       "      <td>Other</td>\n",
       "      <td>Albania</td>\n",
       "      <td>Total</td>\n",
       "      <td>other</td>\n",
       "    </tr>\n",
       "    <tr>\n",
       "      <th>2</th>\n",
       "      <td>ALT</td>\n",
       "      <td>AL</td>\n",
       "      <td>2019</td>\n",
       "      <td>3757.0</td>\n",
       "      <td>35881.0</td>\n",
       "      <td>13754.2</td>\n",
       "      <td>TOTAL</td>\n",
       "      <td>Mean</td>\n",
       "      <td>EUR</td>\n",
       "      <td>2619.0</td>\n",
       "      <td>AVG</td>\n",
       "      <td>2854191.0</td>\n",
       "      <td>Other</td>\n",
       "      <td>Albania</td>\n",
       "      <td>Total</td>\n",
       "      <td>other</td>\n",
       "    </tr>\n",
       "    <tr>\n",
       "      <th>3</th>\n",
       "      <td>ALT</td>\n",
       "      <td>AL</td>\n",
       "      <td>2019</td>\n",
       "      <td>3757.0</td>\n",
       "      <td>35881.0</td>\n",
       "      <td>13754.2</td>\n",
       "      <td>TOTAL</td>\n",
       "      <td>Mean</td>\n",
       "      <td>PPS</td>\n",
       "      <td>4992.0</td>\n",
       "      <td>AVG</td>\n",
       "      <td>2854191.0</td>\n",
       "      <td>Other</td>\n",
       "      <td>Albania</td>\n",
       "      <td>Total</td>\n",
       "      <td>other</td>\n",
       "    </tr>\n",
       "    <tr>\n",
       "      <th>4</th>\n",
       "      <td>ALT</td>\n",
       "      <td>AL</td>\n",
       "      <td>2019</td>\n",
       "      <td>3757.0</td>\n",
       "      <td>35881.0</td>\n",
       "      <td>13754.2</td>\n",
       "      <td>Y18-64</td>\n",
       "      <td>Median</td>\n",
       "      <td>EUR</td>\n",
       "      <td>2319.0</td>\n",
       "      <td>AVG</td>\n",
       "      <td>2854191.0</td>\n",
       "      <td>Other</td>\n",
       "      <td>Albania</td>\n",
       "      <td>18-64</td>\n",
       "      <td>other</td>\n",
       "    </tr>\n",
       "  </tbody>\n",
       "</table>\n",
       "</div>"
      ],
      "text/plain": [
       "  engine_type_code country_code  year  new_car  stock_car  gdp_eur age_code  \\\n",
       "0              ALT           AL  2019   3757.0    35881.0  13754.2    TOTAL   \n",
       "1              ALT           AL  2019   3757.0    35881.0  13754.2    TOTAL   \n",
       "2              ALT           AL  2019   3757.0    35881.0  13754.2    TOTAL   \n",
       "3              ALT           AL  2019   3757.0    35881.0  13754.2    TOTAL   \n",
       "4              ALT           AL  2019   3757.0    35881.0  13754.2   Y18-64   \n",
       "\n",
       "  income_indicator currency  income demographic_indicator_code  population  \\\n",
       "0           Median      EUR  2231.0                        AVG   2854191.0   \n",
       "1           Median      PPS  4252.0                        AVG   2854191.0   \n",
       "2             Mean      EUR  2619.0                        AVG   2854191.0   \n",
       "3             Mean      PPS  4992.0                        AVG   2854191.0   \n",
       "4           Median      EUR  2319.0                        AVG   2854191.0   \n",
       "\n",
       "  engine  country age_group country_group  \n",
       "0  Other  Albania     Total         other  \n",
       "1  Other  Albania     Total         other  \n",
       "2  Other  Albania     Total         other  \n",
       "3  Other  Albania     Total         other  \n",
       "4  Other  Albania     18-64         other  "
      ]
     },
     "execution_count": 352,
     "metadata": {},
     "output_type": "execute_result"
    }
   ],
   "source": [
    "ev_df.head()"
   ]
  },
  {
   "cell_type": "code",
   "execution_count": 353,
   "id": "c16f06b7",
   "metadata": {},
   "outputs": [
    {
     "data": {
      "text/plain": [
       "(89229, 16)"
      ]
     },
     "execution_count": 353,
     "metadata": {},
     "output_type": "execute_result"
    }
   ],
   "source": [
    "ev_df.shape"
   ]
  },
  {
   "cell_type": "code",
   "execution_count": 354,
   "id": "001ec623",
   "metadata": {},
   "outputs": [
    {
     "data": {
      "text/plain": [
       "AVG    89144\n",
       "NaN       85\n",
       "Name: demographic_indicator_code, dtype: int64"
      ]
     },
     "execution_count": 354,
     "metadata": {},
     "output_type": "execute_result"
    }
   ],
   "source": [
    "ev_df['demographic_indicator_code'].value_counts(dropna=False)"
   ]
  },
  {
   "cell_type": "code",
   "execution_count": null,
   "id": "a150fa6b",
   "metadata": {},
   "outputs": [],
   "source": []
  }
 ],
 "metadata": {
  "kernelspec": {
   "display_name": "Python 3 (ipykernel)",
   "language": "python",
   "name": "python3"
  },
  "language_info": {
   "codemirror_mode": {
    "name": "ipython",
    "version": 3
   },
   "file_extension": ".py",
   "mimetype": "text/x-python",
   "name": "python",
   "nbconvert_exporter": "python",
   "pygments_lexer": "ipython3",
   "version": "3.10.9"
  }
 },
 "nbformat": 4,
 "nbformat_minor": 5
}
