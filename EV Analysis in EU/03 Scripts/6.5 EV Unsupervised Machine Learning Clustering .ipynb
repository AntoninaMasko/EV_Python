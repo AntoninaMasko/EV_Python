{
 "cells": [
  {
   "cell_type": "markdown",
   "id": "418154a9",
   "metadata": {},
   "source": [
    "# EV Unsupervised Machine Learning: Clustering"
   ]
  },
  {
   "cell_type": "markdown",
   "id": "7fc59a21",
   "metadata": {},
   "source": [
    "## Table of content"
   ]
  },
  {
   "cell_type": "markdown",
   "id": "23c75045",
   "metadata": {},
   "source": [
    "1. Importing libraties and dataframe"
   ]
  },
  {
   "cell_type": "markdown",
   "id": "26b92bf8",
   "metadata": {},
   "source": [
    "2. Data preparation"
   ]
  },
  {
   "cell_type": "markdown",
   "id": "4b13a384",
   "metadata": {},
   "source": [
    "3. The elbow technique"
   ]
  },
  {
   "cell_type": "markdown",
   "id": "4012a6fd",
   "metadata": {},
   "source": [
    "4. K-means clustering"
   ]
  },
  {
   "cell_type": "markdown",
   "id": "b0f87f34",
   "metadata": {},
   "source": [
    "5. Descriptive statistics of the clusters"
   ]
  },
  {
   "cell_type": "markdown",
   "id": "2c6f7835",
   "metadata": {},
   "source": [
    "# 1. Importing libraries and dataframe"
   ]
  },
  {
   "cell_type": "code",
   "execution_count": 1,
   "id": "05e629c7",
   "metadata": {},
   "outputs": [],
   "source": [
    "import pandas as pd\n",
    "import numpy as np\n",
    "import seaborn as sns\n",
    "import matplotlib\n",
    "import matplotlib.pyplot as plt\n",
    "import os\n",
    "import sklearn\n",
    "from sklearn.cluster import KMeans # Here is where you import the k-means algorithm from scikit-learn.\n",
    "import pylab as pl # PyLab is a convenience module that bulk imports matplotlib."
   ]
  },
  {
   "cell_type": "code",
   "execution_count": 2,
   "id": "2dc66e20",
   "metadata": {},
   "outputs": [],
   "source": [
    "# This option ensures the graphs you create are displayed in your notebook without the need to \"call\" them specifically.\n",
    "\n",
    "%matplotlib inline"
   ]
  },
  {
   "cell_type": "markdown",
   "id": "00402385",
   "metadata": {},
   "source": [
    "#### Importing the car dataframe"
   ]
  },
  {
   "cell_type": "code",
   "execution_count": 3,
   "id": "2e4e2257",
   "metadata": {},
   "outputs": [],
   "source": [
    "# Creating shortcut path to data\n",
    "path_data = r'C:\\Users\\henri\\Documents\\Tonia\\Learning\\CarrrerFoundry\\Data Immersion\\Achievement 6\\EV Analysis in EU\\02 Data'"
   ]
  },
  {
   "cell_type": "code",
   "execution_count": 4,
   "id": "dc04df78",
   "metadata": {},
   "outputs": [
    {
     "data": {
      "text/plain": [
       "'C:\\\\Users\\\\henri\\\\Documents\\\\Tonia\\\\Learning\\\\CarrrerFoundry\\\\Data Immersion\\\\Achievement 6\\\\EV Analysis in EU\\\\02 Data'"
      ]
     },
     "execution_count": 4,
     "metadata": {},
     "output_type": "execute_result"
    }
   ],
   "source": [
    "path_data"
   ]
  },
  {
   "cell_type": "code",
   "execution_count": 5,
   "id": "f1bc6482",
   "metadata": {},
   "outputs": [],
   "source": [
    "# Importing ev_new_variable.pkl\n",
    "car_df = pd.read_pickle(os.path.join(path_data, 'Prepared Data', 'ev_new_variable.pkl'))"
   ]
  },
  {
   "cell_type": "code",
   "execution_count": 6,
   "id": "a0b4ab5c",
   "metadata": {},
   "outputs": [
    {
     "data": {
      "text/html": [
       "<div>\n",
       "<style scoped>\n",
       "    .dataframe tbody tr th:only-of-type {\n",
       "        vertical-align: middle;\n",
       "    }\n",
       "\n",
       "    .dataframe tbody tr th {\n",
       "        vertical-align: top;\n",
       "    }\n",
       "\n",
       "    .dataframe thead th {\n",
       "        text-align: right;\n",
       "    }\n",
       "</style>\n",
       "<table border=\"1\" class=\"dataframe\">\n",
       "  <thead>\n",
       "    <tr style=\"text-align: right;\">\n",
       "      <th></th>\n",
       "      <th>engine_type_code</th>\n",
       "      <th>country_code</th>\n",
       "      <th>year</th>\n",
       "      <th>new_car</th>\n",
       "      <th>stock_car</th>\n",
       "      <th>gdp_eur</th>\n",
       "      <th>age_code</th>\n",
       "      <th>income_indicator</th>\n",
       "      <th>currency</th>\n",
       "      <th>income</th>\n",
       "      <th>demographic_indicator_code</th>\n",
       "      <th>population</th>\n",
       "      <th>engine</th>\n",
       "      <th>country</th>\n",
       "      <th>age_group</th>\n",
       "      <th>country_group</th>\n",
       "      <th>gdp_per_capita</th>\n",
       "      <th>new_car_per_1000</th>\n",
       "      <th>stock_car_per_1000</th>\n",
       "    </tr>\n",
       "  </thead>\n",
       "  <tbody>\n",
       "    <tr>\n",
       "      <th>0</th>\n",
       "      <td>ALT</td>\n",
       "      <td>AL</td>\n",
       "      <td>2019</td>\n",
       "      <td>3757.0</td>\n",
       "      <td>35881.0</td>\n",
       "      <td>13754.2</td>\n",
       "      <td>TOTAL</td>\n",
       "      <td>Median</td>\n",
       "      <td>EUR</td>\n",
       "      <td>2231.0</td>\n",
       "      <td>AVG</td>\n",
       "      <td>2854191.0</td>\n",
       "      <td>Other</td>\n",
       "      <td>Albania</td>\n",
       "      <td>Total</td>\n",
       "      <td>other</td>\n",
       "      <td>4.818949e-09</td>\n",
       "      <td>1.31631</td>\n",
       "      <td>12.571338</td>\n",
       "    </tr>\n",
       "    <tr>\n",
       "      <th>1</th>\n",
       "      <td>ALT</td>\n",
       "      <td>AL</td>\n",
       "      <td>2019</td>\n",
       "      <td>3757.0</td>\n",
       "      <td>35881.0</td>\n",
       "      <td>13754.2</td>\n",
       "      <td>TOTAL</td>\n",
       "      <td>Median</td>\n",
       "      <td>PPS</td>\n",
       "      <td>4252.0</td>\n",
       "      <td>AVG</td>\n",
       "      <td>2854191.0</td>\n",
       "      <td>Other</td>\n",
       "      <td>Albania</td>\n",
       "      <td>Total</td>\n",
       "      <td>other</td>\n",
       "      <td>4.818949e-09</td>\n",
       "      <td>1.31631</td>\n",
       "      <td>12.571338</td>\n",
       "    </tr>\n",
       "    <tr>\n",
       "      <th>2</th>\n",
       "      <td>ALT</td>\n",
       "      <td>AL</td>\n",
       "      <td>2019</td>\n",
       "      <td>3757.0</td>\n",
       "      <td>35881.0</td>\n",
       "      <td>13754.2</td>\n",
       "      <td>TOTAL</td>\n",
       "      <td>Mean</td>\n",
       "      <td>EUR</td>\n",
       "      <td>2619.0</td>\n",
       "      <td>AVG</td>\n",
       "      <td>2854191.0</td>\n",
       "      <td>Other</td>\n",
       "      <td>Albania</td>\n",
       "      <td>Total</td>\n",
       "      <td>other</td>\n",
       "      <td>4.818949e-09</td>\n",
       "      <td>1.31631</td>\n",
       "      <td>12.571338</td>\n",
       "    </tr>\n",
       "    <tr>\n",
       "      <th>3</th>\n",
       "      <td>ALT</td>\n",
       "      <td>AL</td>\n",
       "      <td>2019</td>\n",
       "      <td>3757.0</td>\n",
       "      <td>35881.0</td>\n",
       "      <td>13754.2</td>\n",
       "      <td>TOTAL</td>\n",
       "      <td>Mean</td>\n",
       "      <td>PPS</td>\n",
       "      <td>4992.0</td>\n",
       "      <td>AVG</td>\n",
       "      <td>2854191.0</td>\n",
       "      <td>Other</td>\n",
       "      <td>Albania</td>\n",
       "      <td>Total</td>\n",
       "      <td>other</td>\n",
       "      <td>4.818949e-09</td>\n",
       "      <td>1.31631</td>\n",
       "      <td>12.571338</td>\n",
       "    </tr>\n",
       "    <tr>\n",
       "      <th>4</th>\n",
       "      <td>ALT</td>\n",
       "      <td>AL</td>\n",
       "      <td>2019</td>\n",
       "      <td>3757.0</td>\n",
       "      <td>35881.0</td>\n",
       "      <td>13754.2</td>\n",
       "      <td>Y18-64</td>\n",
       "      <td>Median</td>\n",
       "      <td>EUR</td>\n",
       "      <td>2319.0</td>\n",
       "      <td>AVG</td>\n",
       "      <td>2854191.0</td>\n",
       "      <td>Other</td>\n",
       "      <td>Albania</td>\n",
       "      <td>18-64</td>\n",
       "      <td>other</td>\n",
       "      <td>4.818949e-09</td>\n",
       "      <td>1.31631</td>\n",
       "      <td>12.571338</td>\n",
       "    </tr>\n",
       "  </tbody>\n",
       "</table>\n",
       "</div>"
      ],
      "text/plain": [
       "  engine_type_code country_code  year  new_car  stock_car  gdp_eur age_code  \\\n",
       "0              ALT           AL  2019   3757.0    35881.0  13754.2    TOTAL   \n",
       "1              ALT           AL  2019   3757.0    35881.0  13754.2    TOTAL   \n",
       "2              ALT           AL  2019   3757.0    35881.0  13754.2    TOTAL   \n",
       "3              ALT           AL  2019   3757.0    35881.0  13754.2    TOTAL   \n",
       "4              ALT           AL  2019   3757.0    35881.0  13754.2   Y18-64   \n",
       "\n",
       "  income_indicator currency  income demographic_indicator_code  population  \\\n",
       "0           Median      EUR  2231.0                        AVG   2854191.0   \n",
       "1           Median      PPS  4252.0                        AVG   2854191.0   \n",
       "2             Mean      EUR  2619.0                        AVG   2854191.0   \n",
       "3             Mean      PPS  4992.0                        AVG   2854191.0   \n",
       "4           Median      EUR  2319.0                        AVG   2854191.0   \n",
       "\n",
       "  engine  country age_group country_group  gdp_per_capita  new_car_per_1000  \\\n",
       "0  Other  Albania     Total         other    4.818949e-09           1.31631   \n",
       "1  Other  Albania     Total         other    4.818949e-09           1.31631   \n",
       "2  Other  Albania     Total         other    4.818949e-09           1.31631   \n",
       "3  Other  Albania     Total         other    4.818949e-09           1.31631   \n",
       "4  Other  Albania     18-64         other    4.818949e-09           1.31631   \n",
       "\n",
       "   stock_car_per_1000  \n",
       "0           12.571338  \n",
       "1           12.571338  \n",
       "2           12.571338  \n",
       "3           12.571338  \n",
       "4           12.571338  "
      ]
     },
     "execution_count": 6,
     "metadata": {},
     "output_type": "execute_result"
    }
   ],
   "source": [
    "car_df.head()"
   ]
  },
  {
   "cell_type": "code",
   "execution_count": 7,
   "id": "0166d807",
   "metadata": {},
   "outputs": [
    {
     "data": {
      "text/plain": [
       "(89229, 19)"
      ]
     },
     "execution_count": 7,
     "metadata": {},
     "output_type": "execute_result"
    }
   ],
   "source": [
    "car_df.shape"
   ]
  },
  {
   "cell_type": "markdown",
   "id": "d3bc8106",
   "metadata": {},
   "source": [
    "# 2. Data preparation"
   ]
  },
  {
   "cell_type": "markdown",
   "id": "2ff99b0f",
   "metadata": {},
   "source": [
    "We need to prepare the data, so that there is no unnecessary information."
   ]
  },
  {
   "cell_type": "markdown",
   "id": "ec426cb9",
   "metadata": {},
   "source": [
    "##### Age"
   ]
  },
  {
   "cell_type": "code",
   "execution_count": 8,
   "id": "f637489d",
   "metadata": {},
   "outputs": [
    {
     "data": {
      "text/plain": [
       "TOTAL     17748\n",
       "Y18-64    17748\n",
       "Y_GE18    17748\n",
       "Y_GE65    17748\n",
       "Y_LT18    17748\n",
       "NaN         489\n",
       "Name: age_code, dtype: int64"
      ]
     },
     "execution_count": 8,
     "metadata": {},
     "output_type": "execute_result"
    }
   ],
   "source": [
    "car_df['age_code'].value_counts(dropna=False)"
   ]
  },
  {
   "cell_type": "code",
   "execution_count": 9,
   "id": "47965314",
   "metadata": {},
   "outputs": [],
   "source": [
    "car_df = car_df[car_df['age_code'] == 'TOTAL']"
   ]
  },
  {
   "cell_type": "markdown",
   "id": "742dde0c",
   "metadata": {},
   "source": [
    "##### Income indicator"
   ]
  },
  {
   "cell_type": "code",
   "execution_count": 10,
   "id": "03c99f7c",
   "metadata": {},
   "outputs": [
    {
     "data": {
      "text/plain": [
       "Median    8874\n",
       "Mean      8874\n",
       "Name: income_indicator, dtype: int64"
      ]
     },
     "execution_count": 10,
     "metadata": {},
     "output_type": "execute_result"
    }
   ],
   "source": [
    "car_df['income_indicator'].value_counts(dropna=False)"
   ]
  },
  {
   "cell_type": "code",
   "execution_count": 11,
   "id": "f5620132",
   "metadata": {},
   "outputs": [],
   "source": [
    "car_df = car_df[car_df['income_indicator'] == 'Median']"
   ]
  },
  {
   "cell_type": "markdown",
   "id": "9940414c",
   "metadata": {},
   "source": [
    "##### Currency"
   ]
  },
  {
   "cell_type": "code",
   "execution_count": 12,
   "id": "c20246bd",
   "metadata": {},
   "outputs": [
    {
     "data": {
      "text/plain": [
       "EUR    4437\n",
       "PPS    4437\n",
       "Name: currency, dtype: int64"
      ]
     },
     "execution_count": 12,
     "metadata": {},
     "output_type": "execute_result"
    }
   ],
   "source": [
    "car_df['currency'].value_counts(dropna=False)"
   ]
  },
  {
   "cell_type": "code",
   "execution_count": 13,
   "id": "d6b565ca",
   "metadata": {},
   "outputs": [],
   "source": [
    "car_df = car_df[car_df['currency'] == 'EUR']"
   ]
  },
  {
   "cell_type": "markdown",
   "id": "0a7f3b36",
   "metadata": {},
   "source": [
    "##### demographic_indicator_code"
   ]
  },
  {
   "cell_type": "code",
   "execution_count": 14,
   "id": "318bc5d6",
   "metadata": {},
   "outputs": [
    {
     "data": {
      "text/plain": [
       "AVG    4437\n",
       "Name: demographic_indicator_code, dtype: int64"
      ]
     },
     "execution_count": 14,
     "metadata": {},
     "output_type": "execute_result"
    }
   ],
   "source": [
    "car_df['demographic_indicator_code'].value_counts(dropna=False)"
   ]
  },
  {
   "cell_type": "markdown",
   "id": "8e40b477",
   "metadata": {},
   "source": [
    "##### engine"
   ]
  },
  {
   "cell_type": "code",
   "execution_count": 15,
   "id": "a13a4b75",
   "metadata": {},
   "outputs": [
    {
     "data": {
      "text/plain": [
       "Other             1112\n",
       "Petrol             588\n",
       "Diesel             581\n",
       "Hybrid             412\n",
       "NaN                387\n",
       "Electric           330\n",
       "LPG                303\n",
       "Biofuel            292\n",
       "Plug-in hybrid     259\n",
       "Hydrogen           173\n",
       "Name: engine, dtype: int64"
      ]
     },
     "execution_count": 15,
     "metadata": {},
     "output_type": "execute_result"
    }
   ],
   "source": [
    "car_df['engine'].value_counts(dropna=False)"
   ]
  },
  {
   "cell_type": "code",
   "execution_count": 16,
   "id": "002296d8",
   "metadata": {},
   "outputs": [],
   "source": [
    "car_df = car_df[car_df['engine'] == 'Electric']"
   ]
  },
  {
   "cell_type": "markdown",
   "id": "6033938c",
   "metadata": {},
   "source": [
    "### Removing categorical variables "
   ]
  },
  {
   "cell_type": "code",
   "execution_count": 17,
   "id": "1da27704",
   "metadata": {},
   "outputs": [
    {
     "name": "stdout",
     "output_type": "stream",
     "text": [
      "<class 'pandas.core.frame.DataFrame'>\n",
      "Int64Index: 330 entries, 21266 to 69402\n",
      "Data columns (total 19 columns):\n",
      " #   Column                      Non-Null Count  Dtype  \n",
      "---  ------                      --------------  -----  \n",
      " 0   engine_type_code            330 non-null    object \n",
      " 1   country_code                330 non-null    object \n",
      " 2   year                        330 non-null    int64  \n",
      " 3   new_car                     233 non-null    float64\n",
      " 4   stock_car                   311 non-null    float64\n",
      " 5   gdp_eur                     269 non-null    float64\n",
      " 6   age_code                    330 non-null    object \n",
      " 7   income_indicator            330 non-null    object \n",
      " 8   currency                    330 non-null    object \n",
      " 9   income                      330 non-null    float64\n",
      " 10  demographic_indicator_code  330 non-null    object \n",
      " 11  population                  330 non-null    float64\n",
      " 12  engine                      330 non-null    object \n",
      " 13  country                     330 non-null    object \n",
      " 14  age_group                   330 non-null    object \n",
      " 15  country_group               330 non-null    object \n",
      " 16  gdp_per_capita              269 non-null    float64\n",
      " 17  new_car_per_1000            233 non-null    float64\n",
      " 18  stock_car_per_1000          311 non-null    float64\n",
      "dtypes: float64(8), int64(1), object(10)\n",
      "memory usage: 51.6+ KB\n"
     ]
    }
   ],
   "source": [
    "car_df.info()"
   ]
  },
  {
   "cell_type": "markdown",
   "id": "f84e6ef9",
   "metadata": {},
   "source": [
    "To perform the k-means analysis, we need to remove all columns, which are not either int64 or float64. Year in our case is considered a categorical value, so it needs to be also removed."
   ]
  },
  {
   "cell_type": "code",
   "execution_count": 18,
   "id": "593ceb29",
   "metadata": {},
   "outputs": [],
   "source": [
    "car_df = car_df.drop(columns = ['engine_type_code', 'country_code', 'age_code', 'income_indicator', 'currency', \n",
    "                                'demographic_indicator_code', 'engine', 'country', 'age_group', 'country_group','year'])"
   ]
  },
  {
   "cell_type": "code",
   "execution_count": 19,
   "id": "504b3e5d",
   "metadata": {},
   "outputs": [
    {
     "name": "stdout",
     "output_type": "stream",
     "text": [
      "<class 'pandas.core.frame.DataFrame'>\n",
      "Int64Index: 330 entries, 21266 to 69402\n",
      "Data columns (total 8 columns):\n",
      " #   Column              Non-Null Count  Dtype  \n",
      "---  ------              --------------  -----  \n",
      " 0   new_car             233 non-null    float64\n",
      " 1   stock_car           311 non-null    float64\n",
      " 2   gdp_eur             269 non-null    float64\n",
      " 3   income              330 non-null    float64\n",
      " 4   population          330 non-null    float64\n",
      " 5   gdp_per_capita      269 non-null    float64\n",
      " 6   new_car_per_1000    233 non-null    float64\n",
      " 7   stock_car_per_1000  311 non-null    float64\n",
      "dtypes: float64(8)\n",
      "memory usage: 23.2 KB\n"
     ]
    }
   ],
   "source": [
    "# Check\n",
    "car_df.info()"
   ]
  },
  {
   "cell_type": "code",
   "execution_count": 20,
   "id": "6f2aa7c5",
   "metadata": {},
   "outputs": [
    {
     "data": {
      "text/html": [
       "<div>\n",
       "<style scoped>\n",
       "    .dataframe tbody tr th:only-of-type {\n",
       "        vertical-align: middle;\n",
       "    }\n",
       "\n",
       "    .dataframe tbody tr th {\n",
       "        vertical-align: top;\n",
       "    }\n",
       "\n",
       "    .dataframe thead th {\n",
       "        text-align: right;\n",
       "    }\n",
       "</style>\n",
       "<table border=\"1\" class=\"dataframe\">\n",
       "  <thead>\n",
       "    <tr style=\"text-align: right;\">\n",
       "      <th></th>\n",
       "      <th>new_car</th>\n",
       "      <th>stock_car</th>\n",
       "      <th>gdp_eur</th>\n",
       "      <th>income</th>\n",
       "      <th>population</th>\n",
       "      <th>gdp_per_capita</th>\n",
       "      <th>new_car_per_1000</th>\n",
       "      <th>stock_car_per_1000</th>\n",
       "    </tr>\n",
       "  </thead>\n",
       "  <tbody>\n",
       "    <tr>\n",
       "      <th>21266</th>\n",
       "      <td>24.0</td>\n",
       "      <td>124.0</td>\n",
       "      <td>13754.2</td>\n",
       "      <td>2231.0</td>\n",
       "      <td>2854191.0</td>\n",
       "      <td>4.818949e-09</td>\n",
       "      <td>0.008409</td>\n",
       "      <td>0.043445</td>\n",
       "    </tr>\n",
       "    <tr>\n",
       "      <th>21286</th>\n",
       "      <td>239.0</td>\n",
       "      <td>362.0</td>\n",
       "      <td>13310.4</td>\n",
       "      <td>2523.0</td>\n",
       "      <td>2837848.0</td>\n",
       "      <td>4.690315e-09</td>\n",
       "      <td>0.084219</td>\n",
       "      <td>0.127561</td>\n",
       "    </tr>\n",
       "    <tr>\n",
       "      <th>21307</th>\n",
       "      <td>654.0</td>\n",
       "      <td>2070.0</td>\n",
       "      <td>323910.2</td>\n",
       "      <td>22073.0</td>\n",
       "      <td>8479823.0</td>\n",
       "      <td>3.819775e-08</td>\n",
       "      <td>0.077124</td>\n",
       "      <td>0.244109</td>\n",
       "    </tr>\n",
       "    <tr>\n",
       "      <th>21327</th>\n",
       "      <td>1281.0</td>\n",
       "      <td>3386.0</td>\n",
       "      <td>333146.1</td>\n",
       "      <td>23211.0</td>\n",
       "      <td>8546356.0</td>\n",
       "      <td>3.898107e-08</td>\n",
       "      <td>0.149888</td>\n",
       "      <td>0.396192</td>\n",
       "    </tr>\n",
       "    <tr>\n",
       "      <th>21347</th>\n",
       "      <td>1677.0</td>\n",
       "      <td>5032.0</td>\n",
       "      <td>344269.2</td>\n",
       "      <td>23260.0</td>\n",
       "      <td>8642699.0</td>\n",
       "      <td>3.983353e-08</td>\n",
       "      <td>0.194037</td>\n",
       "      <td>0.582226</td>\n",
       "    </tr>\n",
       "  </tbody>\n",
       "</table>\n",
       "</div>"
      ],
      "text/plain": [
       "       new_car  stock_car   gdp_eur   income  population  gdp_per_capita  \\\n",
       "21266     24.0      124.0   13754.2   2231.0   2854191.0    4.818949e-09   \n",
       "21286    239.0      362.0   13310.4   2523.0   2837848.0    4.690315e-09   \n",
       "21307    654.0     2070.0  323910.2  22073.0   8479823.0    3.819775e-08   \n",
       "21327   1281.0     3386.0  333146.1  23211.0   8546356.0    3.898107e-08   \n",
       "21347   1677.0     5032.0  344269.2  23260.0   8642699.0    3.983353e-08   \n",
       "\n",
       "       new_car_per_1000  stock_car_per_1000  \n",
       "21266          0.008409            0.043445  \n",
       "21286          0.084219            0.127561  \n",
       "21307          0.077124            0.244109  \n",
       "21327          0.149888            0.396192  \n",
       "21347          0.194037            0.582226  "
      ]
     },
     "execution_count": 20,
     "metadata": {},
     "output_type": "execute_result"
    }
   ],
   "source": [
    "car_df.head()"
   ]
  },
  {
   "cell_type": "markdown",
   "id": "e5f0a348",
   "metadata": {},
   "source": [
    "### Removing missing values"
   ]
  },
  {
   "cell_type": "code",
   "execution_count": 21,
   "id": "59e77f37",
   "metadata": {},
   "outputs": [
    {
     "data": {
      "text/plain": [
       "new_car               97\n",
       "stock_car             19\n",
       "gdp_eur               61\n",
       "income                 0\n",
       "population             0\n",
       "gdp_per_capita        61\n",
       "new_car_per_1000      97\n",
       "stock_car_per_1000    19\n",
       "dtype: int64"
      ]
     },
     "execution_count": 21,
     "metadata": {},
     "output_type": "execute_result"
    }
   ],
   "source": [
    "# Check for missing values\n",
    "car_df.isnull().sum()"
   ]
  },
  {
   "cell_type": "code",
   "execution_count": 22,
   "id": "b04ac152",
   "metadata": {},
   "outputs": [
    {
     "data": {
      "text/plain": [
       "(330, 8)"
      ]
     },
     "execution_count": 22,
     "metadata": {},
     "output_type": "execute_result"
    }
   ],
   "source": [
    "# Checking number of rows and columns of car df\n",
    "car_df.shape"
   ]
  },
  {
   "cell_type": "code",
   "execution_count": 23,
   "id": "a6b65590",
   "metadata": {},
   "outputs": [],
   "source": [
    "# Removing missing values for \"new_car\" column\n",
    "car_df = car_df[car_df['new_car'].isnull() == False]"
   ]
  },
  {
   "cell_type": "code",
   "execution_count": 24,
   "id": "2a70dde8",
   "metadata": {},
   "outputs": [
    {
     "data": {
      "text/plain": [
       "new_car                0\n",
       "stock_car             16\n",
       "gdp_eur                0\n",
       "income                 0\n",
       "population             0\n",
       "gdp_per_capita         0\n",
       "new_car_per_1000       0\n",
       "stock_car_per_1000    16\n",
       "dtype: int64"
      ]
     },
     "execution_count": 24,
     "metadata": {},
     "output_type": "execute_result"
    }
   ],
   "source": [
    "# Check for missing values\n",
    "car_df.isnull().sum()"
   ]
  },
  {
   "cell_type": "code",
   "execution_count": 25,
   "id": "6dc8c2cb",
   "metadata": {},
   "outputs": [
    {
     "data": {
      "text/plain": [
       "(233, 8)"
      ]
     },
     "execution_count": 25,
     "metadata": {},
     "output_type": "execute_result"
    }
   ],
   "source": [
    "# Checking number of rows and columns of car df\n",
    "car_df.shape"
   ]
  },
  {
   "cell_type": "code",
   "execution_count": 26,
   "id": "23433f44",
   "metadata": {},
   "outputs": [],
   "source": [
    "# Removing missing values for \"stock_car\" column\n",
    "car_df = car_df[car_df['stock_car'].isnull() == False]"
   ]
  },
  {
   "cell_type": "code",
   "execution_count": 27,
   "id": "dcb8d0ab",
   "metadata": {},
   "outputs": [
    {
     "data": {
      "text/plain": [
       "new_car               0\n",
       "stock_car             0\n",
       "gdp_eur               0\n",
       "income                0\n",
       "population            0\n",
       "gdp_per_capita        0\n",
       "new_car_per_1000      0\n",
       "stock_car_per_1000    0\n",
       "dtype: int64"
      ]
     },
     "execution_count": 27,
     "metadata": {},
     "output_type": "execute_result"
    }
   ],
   "source": [
    "# Check for missing values\n",
    "car_df.isnull().sum()"
   ]
  },
  {
   "cell_type": "markdown",
   "id": "15962909",
   "metadata": {},
   "source": [
    "### Standardizing values"
   ]
  },
  {
   "cell_type": "code",
   "execution_count": 28,
   "id": "645c932f",
   "metadata": {},
   "outputs": [
    {
     "data": {
      "text/html": [
       "<div>\n",
       "<style scoped>\n",
       "    .dataframe tbody tr th:only-of-type {\n",
       "        vertical-align: middle;\n",
       "    }\n",
       "\n",
       "    .dataframe tbody tr th {\n",
       "        vertical-align: top;\n",
       "    }\n",
       "\n",
       "    .dataframe thead th {\n",
       "        text-align: right;\n",
       "    }\n",
       "</style>\n",
       "<table border=\"1\" class=\"dataframe\">\n",
       "  <thead>\n",
       "    <tr style=\"text-align: right;\">\n",
       "      <th></th>\n",
       "      <th>new_car</th>\n",
       "      <th>stock_car</th>\n",
       "      <th>gdp_eur</th>\n",
       "      <th>income</th>\n",
       "      <th>population</th>\n",
       "      <th>gdp_per_capita</th>\n",
       "      <th>new_car_per_1000</th>\n",
       "      <th>stock_car_per_1000</th>\n",
       "    </tr>\n",
       "  </thead>\n",
       "  <tbody>\n",
       "    <tr>\n",
       "      <th>count</th>\n",
       "      <td>217.000000</td>\n",
       "      <td>217.000000</td>\n",
       "      <td>2.170000e+02</td>\n",
       "      <td>217.000000</td>\n",
       "      <td>2.170000e+02</td>\n",
       "      <td>2.170000e+02</td>\n",
       "      <td>217.000000</td>\n",
       "      <td>217.000000</td>\n",
       "    </tr>\n",
       "    <tr>\n",
       "      <th>mean</th>\n",
       "      <td>11402.423963</td>\n",
       "      <td>28315.769585</td>\n",
       "      <td>5.653853e+05</td>\n",
       "      <td>17764.525346</td>\n",
       "      <td>1.955588e+07</td>\n",
       "      <td>3.247751e-08</td>\n",
       "      <td>0.781923</td>\n",
       "      <td>2.324215</td>\n",
       "    </tr>\n",
       "    <tr>\n",
       "      <th>std</th>\n",
       "      <td>32763.557308</td>\n",
       "      <td>69722.200515</td>\n",
       "      <td>8.015667e+05</td>\n",
       "      <td>11036.127857</td>\n",
       "      <td>2.541234e+07</td>\n",
       "      <td>2.025877e-08</td>\n",
       "      <td>1.786176</td>\n",
       "      <td>6.592668</td>\n",
       "    </tr>\n",
       "    <tr>\n",
       "      <th>min</th>\n",
       "      <td>1.000000</td>\n",
       "      <td>6.000000</td>\n",
       "      <td>6.671500e+03</td>\n",
       "      <td>2016.000000</td>\n",
       "      <td>3.527210e+05</td>\n",
       "      <td>3.712399e-09</td>\n",
       "      <td>0.000556</td>\n",
       "      <td>0.004636</td>\n",
       "    </tr>\n",
       "    <tr>\n",
       "      <th>25%</th>\n",
       "      <td>183.000000</td>\n",
       "      <td>952.000000</td>\n",
       "      <td>4.982930e+04</td>\n",
       "      <td>7586.000000</td>\n",
       "      <td>2.868231e+06</td>\n",
       "      <td>1.525106e-08</td>\n",
       "      <td>0.047085</td>\n",
       "      <td>0.161775</td>\n",
       "    </tr>\n",
       "    <tr>\n",
       "      <th>50%</th>\n",
       "      <td>1544.000000</td>\n",
       "      <td>4610.000000</td>\n",
       "      <td>3.023287e+05</td>\n",
       "      <td>16686.000000</td>\n",
       "      <td>8.575280e+06</td>\n",
       "      <td>2.672946e-08</td>\n",
       "      <td>0.173020</td>\n",
       "      <td>0.557356</td>\n",
       "    </tr>\n",
       "    <tr>\n",
       "      <th>75%</th>\n",
       "      <td>8892.000000</td>\n",
       "      <td>21842.000000</td>\n",
       "      <td>6.143044e+05</td>\n",
       "      <td>24700.000000</td>\n",
       "      <td>1.958872e+07</td>\n",
       "      <td>4.337240e-08</td>\n",
       "      <td>0.557471</td>\n",
       "      <td>1.720690</td>\n",
       "    </tr>\n",
       "    <tr>\n",
       "      <th>max</th>\n",
       "      <td>355961.000000</td>\n",
       "      <td>618460.000000</td>\n",
       "      <td>3.601750e+06</td>\n",
       "      <td>44753.000000</td>\n",
       "      <td>8.338468e+07</td>\n",
       "      <td>1.129496e-07</td>\n",
       "      <td>15.282532</td>\n",
       "      <td>63.892294</td>\n",
       "    </tr>\n",
       "  </tbody>\n",
       "</table>\n",
       "</div>"
      ],
      "text/plain": [
       "             new_car      stock_car       gdp_eur        income    population  \\\n",
       "count     217.000000     217.000000  2.170000e+02    217.000000  2.170000e+02   \n",
       "mean    11402.423963   28315.769585  5.653853e+05  17764.525346  1.955588e+07   \n",
       "std     32763.557308   69722.200515  8.015667e+05  11036.127857  2.541234e+07   \n",
       "min         1.000000       6.000000  6.671500e+03   2016.000000  3.527210e+05   \n",
       "25%       183.000000     952.000000  4.982930e+04   7586.000000  2.868231e+06   \n",
       "50%      1544.000000    4610.000000  3.023287e+05  16686.000000  8.575280e+06   \n",
       "75%      8892.000000   21842.000000  6.143044e+05  24700.000000  1.958872e+07   \n",
       "max    355961.000000  618460.000000  3.601750e+06  44753.000000  8.338468e+07   \n",
       "\n",
       "       gdp_per_capita  new_car_per_1000  stock_car_per_1000  \n",
       "count    2.170000e+02        217.000000          217.000000  \n",
       "mean     3.247751e-08          0.781923            2.324215  \n",
       "std      2.025877e-08          1.786176            6.592668  \n",
       "min      3.712399e-09          0.000556            0.004636  \n",
       "25%      1.525106e-08          0.047085            0.161775  \n",
       "50%      2.672946e-08          0.173020            0.557356  \n",
       "75%      4.337240e-08          0.557471            1.720690  \n",
       "max      1.129496e-07         15.282532           63.892294  "
      ]
     },
     "execution_count": 28,
     "metadata": {},
     "output_type": "execute_result"
    }
   ],
   "source": [
    "car_df.describe()"
   ]
  },
  {
   "cell_type": "markdown",
   "id": "4b2cd57b",
   "metadata": {},
   "source": [
    "To standardize the values, i will remove all the columns with are calculated per capita or per 1000 inhabitants. I will also show GDP and populations in milions."
   ]
  },
  {
   "cell_type": "code",
   "execution_count": 29,
   "id": "7259be0c",
   "metadata": {},
   "outputs": [],
   "source": [
    "# Removing gdp_per_capita, new_car_per_1000 and stock_car_per_1000\n",
    "car_df = car_df.drop(columns = ['gdp_per_capita', 'new_car_per_1000', 'stock_car_per_1000'])"
   ]
  },
  {
   "cell_type": "code",
   "execution_count": 30,
   "id": "f29ac6bb",
   "metadata": {},
   "outputs": [
    {
     "data": {
      "text/html": [
       "<div>\n",
       "<style scoped>\n",
       "    .dataframe tbody tr th:only-of-type {\n",
       "        vertical-align: middle;\n",
       "    }\n",
       "\n",
       "    .dataframe tbody tr th {\n",
       "        vertical-align: top;\n",
       "    }\n",
       "\n",
       "    .dataframe thead th {\n",
       "        text-align: right;\n",
       "    }\n",
       "</style>\n",
       "<table border=\"1\" class=\"dataframe\">\n",
       "  <thead>\n",
       "    <tr style=\"text-align: right;\">\n",
       "      <th></th>\n",
       "      <th>new_car</th>\n",
       "      <th>stock_car</th>\n",
       "      <th>gdp_eur</th>\n",
       "      <th>income</th>\n",
       "      <th>population</th>\n",
       "    </tr>\n",
       "  </thead>\n",
       "  <tbody>\n",
       "    <tr>\n",
       "      <th>count</th>\n",
       "      <td>217.000000</td>\n",
       "      <td>217.000000</td>\n",
       "      <td>2.170000e+02</td>\n",
       "      <td>217.000000</td>\n",
       "      <td>2.170000e+02</td>\n",
       "    </tr>\n",
       "    <tr>\n",
       "      <th>mean</th>\n",
       "      <td>11402.423963</td>\n",
       "      <td>28315.769585</td>\n",
       "      <td>5.653853e+05</td>\n",
       "      <td>17764.525346</td>\n",
       "      <td>1.955588e+07</td>\n",
       "    </tr>\n",
       "    <tr>\n",
       "      <th>std</th>\n",
       "      <td>32763.557308</td>\n",
       "      <td>69722.200515</td>\n",
       "      <td>8.015667e+05</td>\n",
       "      <td>11036.127857</td>\n",
       "      <td>2.541234e+07</td>\n",
       "    </tr>\n",
       "    <tr>\n",
       "      <th>min</th>\n",
       "      <td>1.000000</td>\n",
       "      <td>6.000000</td>\n",
       "      <td>6.671500e+03</td>\n",
       "      <td>2016.000000</td>\n",
       "      <td>3.527210e+05</td>\n",
       "    </tr>\n",
       "    <tr>\n",
       "      <th>25%</th>\n",
       "      <td>183.000000</td>\n",
       "      <td>952.000000</td>\n",
       "      <td>4.982930e+04</td>\n",
       "      <td>7586.000000</td>\n",
       "      <td>2.868231e+06</td>\n",
       "    </tr>\n",
       "    <tr>\n",
       "      <th>50%</th>\n",
       "      <td>1544.000000</td>\n",
       "      <td>4610.000000</td>\n",
       "      <td>3.023287e+05</td>\n",
       "      <td>16686.000000</td>\n",
       "      <td>8.575280e+06</td>\n",
       "    </tr>\n",
       "    <tr>\n",
       "      <th>75%</th>\n",
       "      <td>8892.000000</td>\n",
       "      <td>21842.000000</td>\n",
       "      <td>6.143044e+05</td>\n",
       "      <td>24700.000000</td>\n",
       "      <td>1.958872e+07</td>\n",
       "    </tr>\n",
       "    <tr>\n",
       "      <th>max</th>\n",
       "      <td>355961.000000</td>\n",
       "      <td>618460.000000</td>\n",
       "      <td>3.601750e+06</td>\n",
       "      <td>44753.000000</td>\n",
       "      <td>8.338468e+07</td>\n",
       "    </tr>\n",
       "  </tbody>\n",
       "</table>\n",
       "</div>"
      ],
      "text/plain": [
       "             new_car      stock_car       gdp_eur        income    population\n",
       "count     217.000000     217.000000  2.170000e+02    217.000000  2.170000e+02\n",
       "mean    11402.423963   28315.769585  5.653853e+05  17764.525346  1.955588e+07\n",
       "std     32763.557308   69722.200515  8.015667e+05  11036.127857  2.541234e+07\n",
       "min         1.000000       6.000000  6.671500e+03   2016.000000  3.527210e+05\n",
       "25%       183.000000     952.000000  4.982930e+04   7586.000000  2.868231e+06\n",
       "50%      1544.000000    4610.000000  3.023287e+05  16686.000000  8.575280e+06\n",
       "75%      8892.000000   21842.000000  6.143044e+05  24700.000000  1.958872e+07\n",
       "max    355961.000000  618460.000000  3.601750e+06  44753.000000  8.338468e+07"
      ]
     },
     "execution_count": 30,
     "metadata": {},
     "output_type": "execute_result"
    }
   ],
   "source": [
    "car_df.describe()"
   ]
  },
  {
   "cell_type": "code",
   "execution_count": 31,
   "id": "c561baf3",
   "metadata": {},
   "outputs": [],
   "source": [
    "# Creating a new column GDP in 1000 EUR\n",
    "car_df.loc[car_df['gdp_eur'] > 0, 'gdp_1000_eur'] = car_df['gdp_eur']/1000"
   ]
  },
  {
   "cell_type": "code",
   "execution_count": 32,
   "id": "f8a831d6",
   "metadata": {},
   "outputs": [
    {
     "data": {
      "text/html": [
       "<div>\n",
       "<style scoped>\n",
       "    .dataframe tbody tr th:only-of-type {\n",
       "        vertical-align: middle;\n",
       "    }\n",
       "\n",
       "    .dataframe tbody tr th {\n",
       "        vertical-align: top;\n",
       "    }\n",
       "\n",
       "    .dataframe thead th {\n",
       "        text-align: right;\n",
       "    }\n",
       "</style>\n",
       "<table border=\"1\" class=\"dataframe\">\n",
       "  <thead>\n",
       "    <tr style=\"text-align: right;\">\n",
       "      <th></th>\n",
       "      <th>new_car</th>\n",
       "      <th>stock_car</th>\n",
       "      <th>gdp_eur</th>\n",
       "      <th>income</th>\n",
       "      <th>population</th>\n",
       "      <th>gdp_1000_eur</th>\n",
       "    </tr>\n",
       "  </thead>\n",
       "  <tbody>\n",
       "    <tr>\n",
       "      <th>count</th>\n",
       "      <td>217.000000</td>\n",
       "      <td>217.000000</td>\n",
       "      <td>2.170000e+02</td>\n",
       "      <td>217.000000</td>\n",
       "      <td>2.170000e+02</td>\n",
       "      <td>217.000000</td>\n",
       "    </tr>\n",
       "    <tr>\n",
       "      <th>mean</th>\n",
       "      <td>11402.423963</td>\n",
       "      <td>28315.769585</td>\n",
       "      <td>5.653853e+05</td>\n",
       "      <td>17764.525346</td>\n",
       "      <td>1.955588e+07</td>\n",
       "      <td>565.385282</td>\n",
       "    </tr>\n",
       "    <tr>\n",
       "      <th>std</th>\n",
       "      <td>32763.557308</td>\n",
       "      <td>69722.200515</td>\n",
       "      <td>8.015667e+05</td>\n",
       "      <td>11036.127857</td>\n",
       "      <td>2.541234e+07</td>\n",
       "      <td>801.566659</td>\n",
       "    </tr>\n",
       "    <tr>\n",
       "      <th>min</th>\n",
       "      <td>1.000000</td>\n",
       "      <td>6.000000</td>\n",
       "      <td>6.671500e+03</td>\n",
       "      <td>2016.000000</td>\n",
       "      <td>3.527210e+05</td>\n",
       "      <td>6.671500</td>\n",
       "    </tr>\n",
       "    <tr>\n",
       "      <th>25%</th>\n",
       "      <td>183.000000</td>\n",
       "      <td>952.000000</td>\n",
       "      <td>4.982930e+04</td>\n",
       "      <td>7586.000000</td>\n",
       "      <td>2.868231e+06</td>\n",
       "      <td>49.829300</td>\n",
       "    </tr>\n",
       "    <tr>\n",
       "      <th>50%</th>\n",
       "      <td>1544.000000</td>\n",
       "      <td>4610.000000</td>\n",
       "      <td>3.023287e+05</td>\n",
       "      <td>16686.000000</td>\n",
       "      <td>8.575280e+06</td>\n",
       "      <td>302.328700</td>\n",
       "    </tr>\n",
       "    <tr>\n",
       "      <th>75%</th>\n",
       "      <td>8892.000000</td>\n",
       "      <td>21842.000000</td>\n",
       "      <td>6.143044e+05</td>\n",
       "      <td>24700.000000</td>\n",
       "      <td>1.958872e+07</td>\n",
       "      <td>614.304400</td>\n",
       "    </tr>\n",
       "    <tr>\n",
       "      <th>max</th>\n",
       "      <td>355961.000000</td>\n",
       "      <td>618460.000000</td>\n",
       "      <td>3.601750e+06</td>\n",
       "      <td>44753.000000</td>\n",
       "      <td>8.338468e+07</td>\n",
       "      <td>3601.750000</td>\n",
       "    </tr>\n",
       "  </tbody>\n",
       "</table>\n",
       "</div>"
      ],
      "text/plain": [
       "             new_car      stock_car       gdp_eur        income    population  \\\n",
       "count     217.000000     217.000000  2.170000e+02    217.000000  2.170000e+02   \n",
       "mean    11402.423963   28315.769585  5.653853e+05  17764.525346  1.955588e+07   \n",
       "std     32763.557308   69722.200515  8.015667e+05  11036.127857  2.541234e+07   \n",
       "min         1.000000       6.000000  6.671500e+03   2016.000000  3.527210e+05   \n",
       "25%       183.000000     952.000000  4.982930e+04   7586.000000  2.868231e+06   \n",
       "50%      1544.000000    4610.000000  3.023287e+05  16686.000000  8.575280e+06   \n",
       "75%      8892.000000   21842.000000  6.143044e+05  24700.000000  1.958872e+07   \n",
       "max    355961.000000  618460.000000  3.601750e+06  44753.000000  8.338468e+07   \n",
       "\n",
       "       gdp_1000_eur  \n",
       "count    217.000000  \n",
       "mean     565.385282  \n",
       "std      801.566659  \n",
       "min        6.671500  \n",
       "25%       49.829300  \n",
       "50%      302.328700  \n",
       "75%      614.304400  \n",
       "max     3601.750000  "
      ]
     },
     "execution_count": 32,
     "metadata": {},
     "output_type": "execute_result"
    }
   ],
   "source": [
    "car_df.describe()"
   ]
  },
  {
   "cell_type": "code",
   "execution_count": 33,
   "id": "621412a2",
   "metadata": {},
   "outputs": [],
   "source": [
    "# Creating a new column Population in 1000 inhabitants\n",
    "car_df.loc[car_df['population'] > 0, 'population_1000'] = car_df['population']/1000"
   ]
  },
  {
   "cell_type": "code",
   "execution_count": 34,
   "id": "ac9c37a7",
   "metadata": {},
   "outputs": [
    {
     "data": {
      "text/html": [
       "<div>\n",
       "<style scoped>\n",
       "    .dataframe tbody tr th:only-of-type {\n",
       "        vertical-align: middle;\n",
       "    }\n",
       "\n",
       "    .dataframe tbody tr th {\n",
       "        vertical-align: top;\n",
       "    }\n",
       "\n",
       "    .dataframe thead th {\n",
       "        text-align: right;\n",
       "    }\n",
       "</style>\n",
       "<table border=\"1\" class=\"dataframe\">\n",
       "  <thead>\n",
       "    <tr style=\"text-align: right;\">\n",
       "      <th></th>\n",
       "      <th>new_car</th>\n",
       "      <th>stock_car</th>\n",
       "      <th>gdp_eur</th>\n",
       "      <th>income</th>\n",
       "      <th>population</th>\n",
       "      <th>gdp_1000_eur</th>\n",
       "      <th>population_1000</th>\n",
       "    </tr>\n",
       "  </thead>\n",
       "  <tbody>\n",
       "    <tr>\n",
       "      <th>count</th>\n",
       "      <td>217.000000</td>\n",
       "      <td>217.000000</td>\n",
       "      <td>2.170000e+02</td>\n",
       "      <td>217.000000</td>\n",
       "      <td>2.170000e+02</td>\n",
       "      <td>217.000000</td>\n",
       "      <td>217.000000</td>\n",
       "    </tr>\n",
       "    <tr>\n",
       "      <th>mean</th>\n",
       "      <td>11402.423963</td>\n",
       "      <td>28315.769585</td>\n",
       "      <td>5.653853e+05</td>\n",
       "      <td>17764.525346</td>\n",
       "      <td>1.955588e+07</td>\n",
       "      <td>565.385282</td>\n",
       "      <td>19555.876249</td>\n",
       "    </tr>\n",
       "    <tr>\n",
       "      <th>std</th>\n",
       "      <td>32763.557308</td>\n",
       "      <td>69722.200515</td>\n",
       "      <td>8.015667e+05</td>\n",
       "      <td>11036.127857</td>\n",
       "      <td>2.541234e+07</td>\n",
       "      <td>801.566659</td>\n",
       "      <td>25412.338742</td>\n",
       "    </tr>\n",
       "    <tr>\n",
       "      <th>min</th>\n",
       "      <td>1.000000</td>\n",
       "      <td>6.000000</td>\n",
       "      <td>6.671500e+03</td>\n",
       "      <td>2016.000000</td>\n",
       "      <td>3.527210e+05</td>\n",
       "      <td>6.671500</td>\n",
       "      <td>352.721000</td>\n",
       "    </tr>\n",
       "    <tr>\n",
       "      <th>25%</th>\n",
       "      <td>183.000000</td>\n",
       "      <td>952.000000</td>\n",
       "      <td>4.982930e+04</td>\n",
       "      <td>7586.000000</td>\n",
       "      <td>2.868231e+06</td>\n",
       "      <td>49.829300</td>\n",
       "      <td>2868.231000</td>\n",
       "    </tr>\n",
       "    <tr>\n",
       "      <th>50%</th>\n",
       "      <td>1544.000000</td>\n",
       "      <td>4610.000000</td>\n",
       "      <td>3.023287e+05</td>\n",
       "      <td>16686.000000</td>\n",
       "      <td>8.575280e+06</td>\n",
       "      <td>302.328700</td>\n",
       "      <td>8575.280000</td>\n",
       "    </tr>\n",
       "    <tr>\n",
       "      <th>75%</th>\n",
       "      <td>8892.000000</td>\n",
       "      <td>21842.000000</td>\n",
       "      <td>6.143044e+05</td>\n",
       "      <td>24700.000000</td>\n",
       "      <td>1.958872e+07</td>\n",
       "      <td>614.304400</td>\n",
       "      <td>19588.715000</td>\n",
       "    </tr>\n",
       "    <tr>\n",
       "      <th>max</th>\n",
       "      <td>355961.000000</td>\n",
       "      <td>618460.000000</td>\n",
       "      <td>3.601750e+06</td>\n",
       "      <td>44753.000000</td>\n",
       "      <td>8.338468e+07</td>\n",
       "      <td>3601.750000</td>\n",
       "      <td>83384.680000</td>\n",
       "    </tr>\n",
       "  </tbody>\n",
       "</table>\n",
       "</div>"
      ],
      "text/plain": [
       "             new_car      stock_car       gdp_eur        income    population  \\\n",
       "count     217.000000     217.000000  2.170000e+02    217.000000  2.170000e+02   \n",
       "mean    11402.423963   28315.769585  5.653853e+05  17764.525346  1.955588e+07   \n",
       "std     32763.557308   69722.200515  8.015667e+05  11036.127857  2.541234e+07   \n",
       "min         1.000000       6.000000  6.671500e+03   2016.000000  3.527210e+05   \n",
       "25%       183.000000     952.000000  4.982930e+04   7586.000000  2.868231e+06   \n",
       "50%      1544.000000    4610.000000  3.023287e+05  16686.000000  8.575280e+06   \n",
       "75%      8892.000000   21842.000000  6.143044e+05  24700.000000  1.958872e+07   \n",
       "max    355961.000000  618460.000000  3.601750e+06  44753.000000  8.338468e+07   \n",
       "\n",
       "       gdp_1000_eur  population_1000  \n",
       "count    217.000000       217.000000  \n",
       "mean     565.385282     19555.876249  \n",
       "std      801.566659     25412.338742  \n",
       "min        6.671500       352.721000  \n",
       "25%       49.829300      2868.231000  \n",
       "50%      302.328700      8575.280000  \n",
       "75%      614.304400     19588.715000  \n",
       "max     3601.750000     83384.680000  "
      ]
     },
     "execution_count": 34,
     "metadata": {},
     "output_type": "execute_result"
    }
   ],
   "source": [
    "car_df.describe()"
   ]
  },
  {
   "cell_type": "code",
   "execution_count": 35,
   "id": "05fd6ba6",
   "metadata": {},
   "outputs": [],
   "source": [
    "# Dropping columns gdp_eur and population\n",
    "car_df = car_df.drop(columns = ['gdp_eur', 'population'])"
   ]
  },
  {
   "cell_type": "markdown",
   "id": "f7c2ccb8",
   "metadata": {},
   "source": [
    "# 3. The elbow technique"
   ]
  },
  {
   "cell_type": "code",
   "execution_count": 36,
   "id": "48a60de8",
   "metadata": {},
   "outputs": [],
   "source": [
    "# Defines the range of potential clusters in the data.\n",
    "num_cl = range(1, 10) \n",
    "\n",
    "# Defines k-means clusters in the range assigned above.\n",
    "kmeans = [KMeans(n_clusters=i) for i in num_cl] "
   ]
  },
  {
   "cell_type": "code",
   "execution_count": 37,
   "id": "d422a5e8",
   "metadata": {},
   "outputs": [
    {
     "name": "stderr",
     "output_type": "stream",
     "text": [
      "C:\\Users\\henri\\anaconda3\\lib\\site-packages\\sklearn\\cluster\\_kmeans.py:870: FutureWarning: The default value of `n_init` will change from 10 to 'auto' in 1.4. Set the value of `n_init` explicitly to suppress the warning\n",
      "  warnings.warn(\n",
      "C:\\Users\\henri\\anaconda3\\lib\\site-packages\\sklearn\\cluster\\_kmeans.py:1382: UserWarning: KMeans is known to have a memory leak on Windows with MKL, when there are less chunks than available threads. You can avoid it by setting the environment variable OMP_NUM_THREADS=1.\n",
      "  warnings.warn(\n",
      "C:\\Users\\henri\\anaconda3\\lib\\site-packages\\sklearn\\cluster\\_kmeans.py:870: FutureWarning: The default value of `n_init` will change from 10 to 'auto' in 1.4. Set the value of `n_init` explicitly to suppress the warning\n",
      "  warnings.warn(\n",
      "C:\\Users\\henri\\anaconda3\\lib\\site-packages\\sklearn\\cluster\\_kmeans.py:1382: UserWarning: KMeans is known to have a memory leak on Windows with MKL, when there are less chunks than available threads. You can avoid it by setting the environment variable OMP_NUM_THREADS=1.\n",
      "  warnings.warn(\n",
      "C:\\Users\\henri\\anaconda3\\lib\\site-packages\\sklearn\\cluster\\_kmeans.py:870: FutureWarning: The default value of `n_init` will change from 10 to 'auto' in 1.4. Set the value of `n_init` explicitly to suppress the warning\n",
      "  warnings.warn(\n",
      "C:\\Users\\henri\\anaconda3\\lib\\site-packages\\sklearn\\cluster\\_kmeans.py:1382: UserWarning: KMeans is known to have a memory leak on Windows with MKL, when there are less chunks than available threads. You can avoid it by setting the environment variable OMP_NUM_THREADS=1.\n",
      "  warnings.warn(\n",
      "C:\\Users\\henri\\anaconda3\\lib\\site-packages\\sklearn\\cluster\\_kmeans.py:870: FutureWarning: The default value of `n_init` will change from 10 to 'auto' in 1.4. Set the value of `n_init` explicitly to suppress the warning\n",
      "  warnings.warn(\n",
      "C:\\Users\\henri\\anaconda3\\lib\\site-packages\\sklearn\\cluster\\_kmeans.py:1382: UserWarning: KMeans is known to have a memory leak on Windows with MKL, when there are less chunks than available threads. You can avoid it by setting the environment variable OMP_NUM_THREADS=1.\n",
      "  warnings.warn(\n",
      "C:\\Users\\henri\\anaconda3\\lib\\site-packages\\sklearn\\cluster\\_kmeans.py:870: FutureWarning: The default value of `n_init` will change from 10 to 'auto' in 1.4. Set the value of `n_init` explicitly to suppress the warning\n",
      "  warnings.warn(\n",
      "C:\\Users\\henri\\anaconda3\\lib\\site-packages\\sklearn\\cluster\\_kmeans.py:1382: UserWarning: KMeans is known to have a memory leak on Windows with MKL, when there are less chunks than available threads. You can avoid it by setting the environment variable OMP_NUM_THREADS=1.\n",
      "  warnings.warn(\n",
      "C:\\Users\\henri\\anaconda3\\lib\\site-packages\\sklearn\\cluster\\_kmeans.py:870: FutureWarning: The default value of `n_init` will change from 10 to 'auto' in 1.4. Set the value of `n_init` explicitly to suppress the warning\n",
      "  warnings.warn(\n",
      "C:\\Users\\henri\\anaconda3\\lib\\site-packages\\sklearn\\cluster\\_kmeans.py:1382: UserWarning: KMeans is known to have a memory leak on Windows with MKL, when there are less chunks than available threads. You can avoid it by setting the environment variable OMP_NUM_THREADS=1.\n",
      "  warnings.warn(\n",
      "C:\\Users\\henri\\anaconda3\\lib\\site-packages\\sklearn\\cluster\\_kmeans.py:870: FutureWarning: The default value of `n_init` will change from 10 to 'auto' in 1.4. Set the value of `n_init` explicitly to suppress the warning\n",
      "  warnings.warn(\n",
      "C:\\Users\\henri\\anaconda3\\lib\\site-packages\\sklearn\\cluster\\_kmeans.py:1382: UserWarning: KMeans is known to have a memory leak on Windows with MKL, when there are less chunks than available threads. You can avoid it by setting the environment variable OMP_NUM_THREADS=1.\n",
      "  warnings.warn(\n",
      "C:\\Users\\henri\\anaconda3\\lib\\site-packages\\sklearn\\cluster\\_kmeans.py:870: FutureWarning: The default value of `n_init` will change from 10 to 'auto' in 1.4. Set the value of `n_init` explicitly to suppress the warning\n",
      "  warnings.warn(\n",
      "C:\\Users\\henri\\anaconda3\\lib\\site-packages\\sklearn\\cluster\\_kmeans.py:1382: UserWarning: KMeans is known to have a memory leak on Windows with MKL, when there are less chunks than available threads. You can avoid it by setting the environment variable OMP_NUM_THREADS=1.\n",
      "  warnings.warn(\n",
      "C:\\Users\\henri\\anaconda3\\lib\\site-packages\\sklearn\\cluster\\_kmeans.py:870: FutureWarning: The default value of `n_init` will change from 10 to 'auto' in 1.4. Set the value of `n_init` explicitly to suppress the warning\n",
      "  warnings.warn(\n",
      "C:\\Users\\henri\\anaconda3\\lib\\site-packages\\sklearn\\cluster\\_kmeans.py:1382: UserWarning: KMeans is known to have a memory leak on Windows with MKL, when there are less chunks than available threads. You can avoid it by setting the environment variable OMP_NUM_THREADS=1.\n",
      "  warnings.warn(\n"
     ]
    }
   ],
   "source": [
    "# Creates a score that represents a rate of variation for the given cluster option.\n",
    "score = [kmeans[i].fit(car_df).score(car_df) for i in range(len(kmeans))]  "
   ]
  },
  {
   "cell_type": "code",
   "execution_count": 38,
   "id": "9bc7cfb1",
   "metadata": {},
   "outputs": [
    {
     "data": {
      "text/plain": [
       "[-1447818088249.7522,\n",
       " -569375622948.1494,\n",
       " -371063828899.1057,\n",
       " -246165624195.89124,\n",
       " -160712599614.01498,\n",
       " -128318253852.09528,\n",
       " -105886150929.35912,\n",
       " -88798756755.53455,\n",
       " -75974085637.13199]"
      ]
     },
     "execution_count": 38,
     "metadata": {},
     "output_type": "execute_result"
    }
   ],
   "source": [
    "score"
   ]
  },
  {
   "cell_type": "code",
   "execution_count": 39,
   "id": "1bda377e",
   "metadata": {},
   "outputs": [
    {
     "data": {
      "image/png": "[encoded data removed]",
      "text/plain": [
       "<Figure size 640x480 with 1 Axes>"
      ]
     },
     "metadata": {},
     "output_type": "display_data"
    }
   ],
   "source": [
    "# Plot the elbow curve using PyLab.\n",
    "\n",
    "pl.plot(num_cl,score)\n",
    "pl.xlabel('Number of Clusters')\n",
    "pl.ylabel('Score')\n",
    "pl.title('Elbow Curve')\n",
    "pl.show()"
   ]
  },
  {
   "cell_type": "markdown",
   "id": "d484765b",
   "metadata": {},
   "source": [
    "In our dataframe, there's a large jump from one to two, but after that, the curve straightens out. This means that the optimal count for the clusters is two."
   ]
  },
  {
   "cell_type": "markdown",
   "id": "a15cdc03",
   "metadata": {},
   "source": [
    "# 4. K-means clustering"
   ]
  },
  {
   "cell_type": "code",
   "execution_count": 40,
   "id": "4946a476",
   "metadata": {},
   "outputs": [],
   "source": [
    "# Create the k-means object.\n",
    "\n",
    "kmeans = KMeans(n_clusters = 2) \n"
   ]
  },
  {
   "cell_type": "code",
   "execution_count": 41,
   "id": "af784107",
   "metadata": {},
   "outputs": [
    {
     "name": "stderr",
     "output_type": "stream",
     "text": [
      "C:\\Users\\henri\\anaconda3\\lib\\site-packages\\sklearn\\cluster\\_kmeans.py:870: FutureWarning: The default value of `n_init` will change from 10 to 'auto' in 1.4. Set the value of `n_init` explicitly to suppress the warning\n",
      "  warnings.warn(\n",
      "C:\\Users\\henri\\anaconda3\\lib\\site-packages\\sklearn\\cluster\\_kmeans.py:1382: UserWarning: KMeans is known to have a memory leak on Windows with MKL, when there are less chunks than available threads. You can avoid it by setting the environment variable OMP_NUM_THREADS=1.\n",
      "  warnings.warn(\n"
     ]
    },
    {
     "data": {
      "text/html": [
       "<style>#sk-container-id-1 {color: black;background-color: white;}#sk-container-id-1 pre{padding: 0;}#sk-container-id-1 div.sk-toggleable {background-color: white;}#sk-container-id-1 label.sk-toggleable__label {cursor: pointer;display: block;width: 100%;margin-bottom: 0;padding: 0.3em;box-sizing: border-box;text-align: center;}#sk-container-id-1 label.sk-toggleable__label-arrow:before {content: \"▸\";float: left;margin-right: 0.25em;color: #696969;}#sk-container-id-1 label.sk-toggleable__label-arrow:hover:before {color: black;}#sk-container-id-1 div.sk-estimator:hover label.sk-toggleable__label-arrow:before {color: black;}#sk-container-id-1 div.sk-toggleable__content {max-height: 0;max-width: 0;overflow: hidden;text-align: left;background-color: #f0f8ff;}#sk-container-id-1 div.sk-toggleable__content pre {margin: 0.2em;color: black;border-radius: 0.25em;background-color: #f0f8ff;}#sk-container-id-1 input.sk-toggleable__control:checked~div.sk-toggleable__content {max-height: 200px;max-width: 100%;overflow: auto;}#sk-container-id-1 input.sk-toggleable__control:checked~label.sk-toggleable__label-arrow:before {content: \"▾\";}#sk-container-id-1 div.sk-estimator input.sk-toggleable__control:checked~label.sk-toggleable__label {background-color: #d4ebff;}#sk-container-id-1 div.sk-label input.sk-toggleable__control:checked~label.sk-toggleable__label {background-color: #d4ebff;}#sk-container-id-1 input.sk-hidden--visually {border: 0;clip: rect(1px 1px 1px 1px);clip: rect(1px, 1px, 1px, 1px);height: 1px;margin: -1px;overflow: hidden;padding: 0;position: absolute;width: 1px;}#sk-container-id-1 div.sk-estimator {font-family: monospace;background-color: #f0f8ff;border: 1px dotted black;border-radius: 0.25em;box-sizing: border-box;margin-bottom: 0.5em;}#sk-container-id-1 div.sk-estimator:hover {background-color: #d4ebff;}#sk-container-id-1 div.sk-parallel-item::after {content: \"\";width: 100%;border-bottom: 1px solid gray;flex-grow: 1;}#sk-container-id-1 div.sk-label:hover label.sk-toggleable__label {background-color: #d4ebff;}#sk-container-id-1 div.sk-serial::before {content: \"\";position: absolute;border-left: 1px solid gray;box-sizing: border-box;top: 0;bottom: 0;left: 50%;z-index: 0;}#sk-container-id-1 div.sk-serial {display: flex;flex-direction: column;align-items: center;background-color: white;padding-right: 0.2em;padding-left: 0.2em;position: relative;}#sk-container-id-1 div.sk-item {position: relative;z-index: 1;}#sk-container-id-1 div.sk-parallel {display: flex;align-items: stretch;justify-content: center;background-color: white;position: relative;}#sk-container-id-1 div.sk-item::before, #sk-container-id-1 div.sk-parallel-item::before {content: \"\";position: absolute;border-left: 1px solid gray;box-sizing: border-box;top: 0;bottom: 0;left: 50%;z-index: -1;}#sk-container-id-1 div.sk-parallel-item {display: flex;flex-direction: column;z-index: 1;position: relative;background-color: white;}#sk-container-id-1 div.sk-parallel-item:first-child::after {align-self: flex-end;width: 50%;}#sk-container-id-1 div.sk-parallel-item:last-child::after {align-self: flex-start;width: 50%;}#sk-container-id-1 div.sk-parallel-item:only-child::after {width: 0;}#sk-container-id-1 div.sk-dashed-wrapped {border: 1px dashed gray;margin: 0 0.4em 0.5em 0.4em;box-sizing: border-box;padding-bottom: 0.4em;background-color: white;}#sk-container-id-1 div.sk-label label {font-family: monospace;font-weight: bold;display: inline-block;line-height: 1.2em;}#sk-container-id-1 div.sk-label-container {text-align: center;}#sk-container-id-1 div.sk-container {/* jupyter's `normalize.less` sets `[hidden] { display: none; }` but bootstrap.min.css set `[hidden] { display: none !important; }` so we also need the `!important` here to be able to override the default hidden behavior on the sphinx rendered scikit-learn.org. See: https://github.com/scikit-learn/scikit-learn/issues/21755 */display: inline-block !important;position: relative;}#sk-container-id-1 div.sk-text-repr-fallback {display: none;}</style><div id=\"sk-container-id-1\" class=\"sk-top-container\"><div class=\"sk-text-repr-fallback\"><pre>KMeans(n_clusters=2)</pre><b>In a Jupyter environment, please rerun this cell to show the HTML representation or trust the notebook. <br />On GitHub, the HTML representation is unable to render, please try loading this page with nbviewer.org.</b></div><div class=\"sk-container\" hidden><div class=\"sk-item\"><div class=\"sk-estimator sk-toggleable\"><input class=\"sk-toggleable__control sk-hidden--visually\" id=\"sk-estimator-id-1\" type=\"checkbox\" checked><label for=\"sk-estimator-id-1\" class=\"sk-toggleable__label sk-toggleable__label-arrow\">KMeans</label><div class=\"sk-toggleable__content\"><pre>KMeans(n_clusters=2)</pre></div></div></div></div></div>"
      ],
      "text/plain": [
       "KMeans(n_clusters=2)"
      ]
     },
     "execution_count": 41,
     "metadata": {},
     "output_type": "execute_result"
    }
   ],
   "source": [
    "# Fit the k-means object to the data.\n",
    "\n",
    "kmeans.fit(car_df)"
   ]
  },
  {
   "cell_type": "code",
   "execution_count": 42,
   "id": "0585dfd6",
   "metadata": {},
   "outputs": [
    {
     "name": "stderr",
     "output_type": "stream",
     "text": [
      "C:\\Users\\henri\\anaconda3\\lib\\site-packages\\sklearn\\cluster\\_kmeans.py:870: FutureWarning: The default value of `n_init` will change from 10 to 'auto' in 1.4. Set the value of `n_init` explicitly to suppress the warning\n",
      "  warnings.warn(\n",
      "C:\\Users\\henri\\anaconda3\\lib\\site-packages\\sklearn\\cluster\\_kmeans.py:1382: UserWarning: KMeans is known to have a memory leak on Windows with MKL, when there are less chunks than available threads. You can avoid it by setting the environment variable OMP_NUM_THREADS=1.\n",
      "  warnings.warn(\n"
     ]
    }
   ],
   "source": [
    "car_df['clusters'] = kmeans.fit_predict(car_df)"
   ]
  },
  {
   "cell_type": "code",
   "execution_count": 43,
   "id": "6ec4dc0d",
   "metadata": {},
   "outputs": [
    {
     "data": {
      "text/html": [
       "<div>\n",
       "<style scoped>\n",
       "    .dataframe tbody tr th:only-of-type {\n",
       "        vertical-align: middle;\n",
       "    }\n",
       "\n",
       "    .dataframe tbody tr th {\n",
       "        vertical-align: top;\n",
       "    }\n",
       "\n",
       "    .dataframe thead th {\n",
       "        text-align: right;\n",
       "    }\n",
       "</style>\n",
       "<table border=\"1\" class=\"dataframe\">\n",
       "  <thead>\n",
       "    <tr style=\"text-align: right;\">\n",
       "      <th></th>\n",
       "      <th>new_car</th>\n",
       "      <th>stock_car</th>\n",
       "      <th>income</th>\n",
       "      <th>gdp_1000_eur</th>\n",
       "      <th>population_1000</th>\n",
       "      <th>clusters</th>\n",
       "    </tr>\n",
       "  </thead>\n",
       "  <tbody>\n",
       "    <tr>\n",
       "      <th>21266</th>\n",
       "      <td>24.0</td>\n",
       "      <td>124.0</td>\n",
       "      <td>2231.0</td>\n",
       "      <td>13.7542</td>\n",
       "      <td>2854.191</td>\n",
       "      <td>1</td>\n",
       "    </tr>\n",
       "    <tr>\n",
       "      <th>21286</th>\n",
       "      <td>239.0</td>\n",
       "      <td>362.0</td>\n",
       "      <td>2523.0</td>\n",
       "      <td>13.3104</td>\n",
       "      <td>2837.848</td>\n",
       "      <td>1</td>\n",
       "    </tr>\n",
       "    <tr>\n",
       "      <th>21307</th>\n",
       "      <td>654.0</td>\n",
       "      <td>2070.0</td>\n",
       "      <td>22073.0</td>\n",
       "      <td>323.9102</td>\n",
       "      <td>8479.823</td>\n",
       "      <td>1</td>\n",
       "    </tr>\n",
       "    <tr>\n",
       "      <th>21327</th>\n",
       "      <td>1281.0</td>\n",
       "      <td>3386.0</td>\n",
       "      <td>23211.0</td>\n",
       "      <td>333.1461</td>\n",
       "      <td>8546.356</td>\n",
       "      <td>1</td>\n",
       "    </tr>\n",
       "    <tr>\n",
       "      <th>21347</th>\n",
       "      <td>1677.0</td>\n",
       "      <td>5032.0</td>\n",
       "      <td>23260.0</td>\n",
       "      <td>344.2692</td>\n",
       "      <td>8642.699</td>\n",
       "      <td>1</td>\n",
       "    </tr>\n",
       "  </tbody>\n",
       "</table>\n",
       "</div>"
      ],
      "text/plain": [
       "       new_car  stock_car   income  gdp_1000_eur  population_1000  clusters\n",
       "21266     24.0      124.0   2231.0       13.7542         2854.191         1\n",
       "21286    239.0      362.0   2523.0       13.3104         2837.848         1\n",
       "21307    654.0     2070.0  22073.0      323.9102         8479.823         1\n",
       "21327   1281.0     3386.0  23211.0      333.1461         8546.356         1\n",
       "21347   1677.0     5032.0  23260.0      344.2692         8642.699         1"
      ]
     },
     "execution_count": 43,
     "metadata": {},
     "output_type": "execute_result"
    }
   ],
   "source": [
    "car_df.head()"
   ]
  },
  {
   "cell_type": "code",
   "execution_count": 45,
   "id": "4d63b65b",
   "metadata": {},
   "outputs": [],
   "source": [
    "# Exporting the clustered dataframe to csv\n",
    "car_df.to_csv(os.path.join(path_data, 'Prepared Data', 'ev_cluster.csv'))"
   ]
  },
  {
   "cell_type": "code",
   "execution_count": 44,
   "id": "cac74f61",
   "metadata": {},
   "outputs": [
    {
     "data": {
      "text/plain": [
       "0    208\n",
       "1      9\n",
       "Name: clusters, dtype: int64"
      ]
     },
     "execution_count": 44,
     "metadata": {},
     "output_type": "execute_result"
    }
   ],
   "source": [
    "car_df['clusters'].value_counts()"
   ]
  },
  {
   "cell_type": "code",
   "execution_count": 45,
   "id": "9c310784",
   "metadata": {},
   "outputs": [
    {
     "data": {
      "image/png": "[encoded data removed]",
      "text/plain": [
       "<Figure size 1200x800 with 1 Axes>"
      ]
     },
     "metadata": {},
     "output_type": "display_data"
    }
   ],
   "source": [
    "# Plot the clusters for the \"GDP per capita\" and \"New car per 1000\" variables.\n",
    "\n",
    "plt.figure(figsize=(12,8))\n",
    "ax = sns.scatterplot(x=car_df['new_car'], y=car_df['gdp_1000_eur'], hue=kmeans.labels_, s=100, palette='muted')\n",
    "\n",
    "# Here, you're subsetting `X` for the x and y arguments to avoid using their labels. \n",
    "# `hue` takes the value of the attribute `kmeans.labels_`, which is the result of running the k-means algorithm.\n",
    "# `s` represents the size of the points you want to see in the plot.\n",
    "\n",
    "ax.grid(False) # This removes the grid from the background.\n",
    "plt.xlabel('New EV sales') # Label x-axis.\n",
    "plt.ylabel('GDP (in 1000 EUR)') # Label y-axis.\n",
    "plt.show()"
   ]
  },
  {
   "cell_type": "markdown",
   "id": "a1d41ef0",
   "metadata": {},
   "source": [
    "From the above plot, we see two clusters. \n",
    "\n",
    "Cluster 0 (blue) contains new EV car sales up to ca 75k per year, while the GDP ranges from almost 0 to up 3.5 mio EUR.\n",
    "\n",
    "Cluster 1 (orange) contains 9 observations, with medium to high level of new EV car sales and the GDP spereading from low to high."
   ]
  },
  {
   "cell_type": "code",
   "execution_count": 46,
   "id": "1e502fb4",
   "metadata": {},
   "outputs": [
    {
     "data": {
      "image/png": "[encoded data removed]",
      "text/plain": [
       "<Figure size 1200x800 with 1 Axes>"
      ]
     },
     "metadata": {},
     "output_type": "display_data"
    }
   ],
   "source": [
    "# Plot the clusters for the \"Population\" and \"New car per 1000\" variables.\n",
    "\n",
    "plt.figure(figsize=(12,8))\n",
    "ax = sns.scatterplot(x=car_df['population_1000'], y=car_df['new_car'], hue=kmeans.labels_, s=100, palette='muted') \n",
    "\n",
    "# Here, you're subsetting `X` for the x and y arguments to avoid using their labels. \n",
    "# `hue` takes the value of the attribute `kmeans.labels_`, which is the result of running the k-means algorithm.\n",
    "# `s` represents the size of the points you want to see in the plot.\n",
    "\n",
    "ax.grid(False) # This removes the grid from the background.\n",
    "plt.xlabel('Population (in 1000 inhabitants)') # Label x-axis.\n",
    "plt.ylabel('New EV car sales') # Label y-axis.\n",
    "plt.show()"
   ]
  },
  {
   "cell_type": "markdown",
   "id": "c47aa59b",
   "metadata": {},
   "source": [
    "Here we can see two clusters: \n",
    "\n",
    "Cluster 0 (blue): countries with all sizes of population, with new EV car sales up to ca 75k per year\n",
    "\n",
    "Cluster 1 (orange): nine observations of higher sales of EV cars, with two main groups of population: below 30 mio and above 70 mio."
   ]
  },
  {
   "cell_type": "code",
   "execution_count": 47,
   "id": "79fe6803",
   "metadata": {},
   "outputs": [
    {
     "data": {
      "image/png": "[encoded data removed]",
      "text/plain": [
       "<Figure size 1200x800 with 1 Axes>"
      ]
     },
     "metadata": {},
     "output_type": "display_data"
    }
   ],
   "source": [
    "# Plot the clusters for the \"Income\" and \"New car per 1000\" variables.\n",
    "\n",
    "plt.figure(figsize=(12,8))\n",
    "ax = sns.scatterplot(x=car_df['income'], y=car_df['new_car'], hue=kmeans.labels_, s=100, palette='muted') \n",
    "\n",
    "# Here, you're subsetting `X` for the x and y arguments to avoid using their labels. \n",
    "# `hue` takes the value of the attribute `kmeans.labels_`, which is the result of running the k-means algorithm.\n",
    "# `s` represents the size of the points you want to see in the plot.\n",
    "\n",
    "ax.grid(False) # This removes the grid from the background.\n",
    "plt.xlabel('Income') # Label x-axis.\n",
    "plt.ylabel('New EV car sales') # Label y-axis.\n",
    "plt.show()"
   ]
  },
  {
   "cell_type": "markdown",
   "id": "f880f800",
   "metadata": {},
   "source": [
    "Cluster 0 (blue): income from very low to very high and new sales car up to 30000 per year\n",
    "\n",
    "Cluster 1 (orange): the outlier with income around 25000 and new EV car sales of 350000\n",
    "\n",
    "Cluster 2 (green): a mix of medium (20-30k) and quite high (ca. 40k) income countries with medium to high sales of new EV cars (75-200k).\n",
    "\n",
    "Cluster 3 (red): low income countries (up to 20k), with very low new EV car sales (below 50k)\n",
    "\n",
    "Cluster 4 (purple): a mix of medium (18-35k) and quite high (ca. 40k) countries with low sales of new EV cars (lower than the green cluster)."
   ]
  },
  {
   "cell_type": "code",
   "execution_count": 48,
   "id": "b3810f7b",
   "metadata": {},
   "outputs": [
    {
     "data": {
      "image/png": "[encoded data removed]",
      "text/plain": [
       "<Figure size 1200x800 with 1 Axes>"
      ]
     },
     "metadata": {},
     "output_type": "display_data"
    }
   ],
   "source": [
    "# Plot the clusters for the \"stock_car\" and \"New car per 1000\" variables.\n",
    "\n",
    "plt.figure(figsize=(12,8))\n",
    "ax = sns.scatterplot(x=car_df['stock_car'], y=car_df['new_car'], hue=kmeans.labels_, s=100, palette='muted') \n",
    "\n",
    "# Here, you're subsetting `X` for the x and y arguments to avoid using their labels. \n",
    "# `hue` takes the value of the attribute `kmeans.labels_`, which is the result of running the k-means algorithm.\n",
    "# `s` represents the size of the points you want to see in the plot.\n",
    "\n",
    "ax.grid(False) # This removes the grid from the background.\n",
    "plt.xlabel('Existing stock of EV cars') # Label x-axis.\n",
    "plt.ylabel('New EV car sales') # Label y-axis.\n",
    "plt.show()"
   ]
  },
  {
   "cell_type": "markdown",
   "id": "c295021e",
   "metadata": {},
   "source": [
    "We can see a linear correlation between the two variables. The more EV cars are already in the country, the more new EV car sales take place.\n",
    "\n",
    "Cluster 0 (blue): low existing stock of the EV cars (up to 150k) and new sales car up to 75000 per year\n",
    "\n",
    "Cluster 1 (orange): nine observations with existing stock of over ca 175k and new EV car sales of above 50k."
   ]
  },
  {
   "cell_type": "markdown",
   "id": "b32e5bc5",
   "metadata": {},
   "source": [
    "# 5. Descriptive statistics of the clusters"
   ]
  },
  {
   "cell_type": "code",
   "execution_count": 49,
   "id": "30ec3f08",
   "metadata": {},
   "outputs": [],
   "source": [
    "# Renaming clusters by colors\n",
    "car_df.loc[car_df['clusters'] == 0, 'cluster'] = 'blue'\n",
    "car_df.loc[car_df['clusters'] == 1, 'cluster'] = 'orange'"
   ]
  },
  {
   "cell_type": "code",
   "execution_count": 50,
   "id": "276e5ece",
   "metadata": {},
   "outputs": [
    {
     "data": {
      "text/html": [
       "<div>\n",
       "<style scoped>\n",
       "    .dataframe tbody tr th:only-of-type {\n",
       "        vertical-align: middle;\n",
       "    }\n",
       "\n",
       "    .dataframe tbody tr th {\n",
       "        vertical-align: top;\n",
       "    }\n",
       "\n",
       "    .dataframe thead tr th {\n",
       "        text-align: left;\n",
       "    }\n",
       "\n",
       "    .dataframe thead tr:last-of-type th {\n",
       "        text-align: right;\n",
       "    }\n",
       "</style>\n",
       "<table border=\"1\" class=\"dataframe\">\n",
       "  <thead>\n",
       "    <tr>\n",
       "      <th></th>\n",
       "      <th colspan=\"2\" halign=\"left\">new_car</th>\n",
       "      <th colspan=\"2\" halign=\"left\">stock_car</th>\n",
       "      <th colspan=\"2\" halign=\"left\">income</th>\n",
       "      <th colspan=\"2\" halign=\"left\">gdp_1000_eur</th>\n",
       "      <th colspan=\"2\" halign=\"left\">population_1000</th>\n",
       "    </tr>\n",
       "    <tr>\n",
       "      <th></th>\n",
       "      <th>mean</th>\n",
       "      <th>median</th>\n",
       "      <th>mean</th>\n",
       "      <th>median</th>\n",
       "      <th>mean</th>\n",
       "      <th>median</th>\n",
       "      <th>mean</th>\n",
       "      <th>median</th>\n",
       "      <th>mean</th>\n",
       "      <th>median</th>\n",
       "    </tr>\n",
       "    <tr>\n",
       "      <th>cluster</th>\n",
       "      <th></th>\n",
       "      <th></th>\n",
       "      <th></th>\n",
       "      <th></th>\n",
       "      <th></th>\n",
       "      <th></th>\n",
       "      <th></th>\n",
       "      <th></th>\n",
       "      <th></th>\n",
       "      <th></th>\n",
       "    </tr>\n",
       "  </thead>\n",
       "  <tbody>\n",
       "    <tr>\n",
       "      <th>blue</th>\n",
       "      <td>6388.485577</td>\n",
       "      <td>1290.5</td>\n",
       "      <td>16108.346154</td>\n",
       "      <td>3947.5</td>\n",
       "      <td>17240.514423</td>\n",
       "      <td>15882.5</td>\n",
       "      <td>519.987862</td>\n",
       "      <td>271.61145</td>\n",
       "      <td>18706.341130</td>\n",
       "      <td>8530.3425</td>\n",
       "    </tr>\n",
       "    <tr>\n",
       "      <th>orange</th>\n",
       "      <td>127280.111111</td>\n",
       "      <td>82212.0</td>\n",
       "      <td>310442.888889</td>\n",
       "      <td>260689.0</td>\n",
       "      <td>29875.000000</td>\n",
       "      <td>26008.0</td>\n",
       "      <td>1614.570100</td>\n",
       "      <td>855.47000</td>\n",
       "      <td>39189.576778</td>\n",
       "      <td>17533.0440</td>\n",
       "    </tr>\n",
       "  </tbody>\n",
       "</table>\n",
       "</div>"
      ],
      "text/plain": [
       "               new_car               stock_car                  income  \\\n",
       "                  mean   median           mean    median          mean   \n",
       "cluster                                                                  \n",
       "blue       6388.485577   1290.5   16108.346154    3947.5  17240.514423   \n",
       "orange   127280.111111  82212.0  310442.888889  260689.0  29875.000000   \n",
       "\n",
       "                 gdp_1000_eur            population_1000              \n",
       "          median         mean     median            mean      median  \n",
       "cluster                                                               \n",
       "blue     15882.5   519.987862  271.61145    18706.341130   8530.3425  \n",
       "orange   26008.0  1614.570100  855.47000    39189.576778  17533.0440  "
      ]
     },
     "execution_count": 50,
     "metadata": {},
     "output_type": "execute_result"
    }
   ],
   "source": [
    "# Calculating statistics\n",
    "car_df.groupby('cluster').agg({'new_car':['mean', 'median'], \n",
    "                         'stock_car':['mean', 'median'], \n",
    "                         'income':['mean', 'median'],\n",
    "                          'gdp_1000_eur':['mean', 'median'],\n",
    "                          'population_1000':['mean', 'median']})"
   ]
  },
  {
   "cell_type": "markdown",
   "id": "62a9f831",
   "metadata": {},
   "source": [
    "From the above table, we see that the highest mean and median stock and new EV car sales are in the orange cluster. This cluster also represents the high mean and median income, GDP and the population. We can assume that in this cluster we could find big european countries with strong economy.\n",
    "\n",
    "On the other hand, the blue cluster contains countries with the lowest mean and median exisitng EV car stock and new EV car sales. This cluster contains countries with the lowest mean and median population, GDP and income. Since this cluster has 208 observations, it has to contain all the other european countries."
   ]
  },
  {
   "cell_type": "markdown",
   "id": "a95783d8",
   "metadata": {},
   "source": [
    "In the future steps, we could deduct which countries belong to each of the cluster and perhaps try to find additional information which will allow us to undestand the EV cars sakes and existing stock, e.g. are there subsidies in these countries or income tax deductions?"
   ]
  }
 ],
 "metadata": {
  "kernelspec": {
   "display_name": "Python 3 (ipykernel)",
   "language": "python",
   "name": "python3"
  },
  "language_info": {
   "codemirror_mode": {
    "name": "ipython",
    "version": 3
   },
   "file_extension": ".py",
   "mimetype": "text/x-python",
   "name": "python",
   "nbconvert_exporter": "python",
   "pygments_lexer": "ipython3",
   "version": "3.10.9"
  }
 },
 "nbformat": 4,
 "nbformat_minor": 5
}
