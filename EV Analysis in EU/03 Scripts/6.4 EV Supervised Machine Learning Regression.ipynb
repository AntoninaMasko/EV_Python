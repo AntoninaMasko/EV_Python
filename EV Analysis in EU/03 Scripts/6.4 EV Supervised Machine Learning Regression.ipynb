{
 "cells": [
  {
   "cell_type": "markdown",
   "id": "d95bc351",
   "metadata": {},
   "source": [
    "# EV: Regression Analysis"
   ]
  },
  {
   "cell_type": "markdown",
   "id": "dc2ee7d6",
   "metadata": {},
   "source": [
    "## Table of content"
   ]
  },
  {
   "cell_type": "markdown",
   "id": "16851393",
   "metadata": {},
   "source": [
    "1. Importing libraries and dataframe"
   ]
  },
  {
   "cell_type": "markdown",
   "id": "ed26a982",
   "metadata": {},
   "source": [
    "2. Data cleaning"
   ]
  },
  {
   "cell_type": "markdown",
   "id": "248c614a",
   "metadata": {},
   "source": [
    "3. Data preparation for regression analysis"
   ]
  },
  {
   "cell_type": "markdown",
   "id": "debc3fc8",
   "metadata": {},
   "source": [
    "4. Regression Analysis"
   ]
  },
  {
   "cell_type": "markdown",
   "id": "7b084260",
   "metadata": {},
   "source": [
    "# 1. Importing libraries and dataframe "
   ]
  },
  {
   "cell_type": "code",
   "execution_count": 1,
   "id": "f9f71320",
   "metadata": {},
   "outputs": [],
   "source": [
    "import pandas as pd\n",
    "import numpy as np\n",
    "import seaborn as sns\n",
    "import matplotlib\n",
    "import matplotlib.pyplot as plt\n",
    "import os\n",
    "import sklearn\n",
    "from sklearn.model_selection import train_test_split \n",
    "from sklearn.linear_model import LinearRegression\n",
    "from sklearn.metrics import mean_squared_error, r2_score"
   ]
  },
  {
   "cell_type": "code",
   "execution_count": 2,
   "id": "9bd96b99",
   "metadata": {},
   "outputs": [],
   "source": [
    "# This option ensures that the graphs you create are displayed within the notebook without the need to \"call\" them specifically.\n",
    "\n",
    "%matplotlib inline"
   ]
  },
  {
   "cell_type": "markdown",
   "id": "11e2b7cb",
   "metadata": {},
   "source": [
    "#### Importing the car dataframe"
   ]
  },
  {
   "cell_type": "code",
   "execution_count": 3,
   "id": "674ca337",
   "metadata": {},
   "outputs": [],
   "source": [
    "# Creating shortcut path to data\n",
    "path_data = r'C:\\Users\\henri\\Documents\\Tonia\\Learning\\CarrrerFoundry\\Data Immersion\\Achievement 6\\EV Analysis in EU\\02 Data'"
   ]
  },
  {
   "cell_type": "code",
   "execution_count": 4,
   "id": "deabd1c7",
   "metadata": {},
   "outputs": [
    {
     "data": {
      "text/plain": [
       "'C:\\\\Users\\\\henri\\\\Documents\\\\Tonia\\\\Learning\\\\CarrrerFoundry\\\\Data Immersion\\\\Achievement 6\\\\EV Analysis in EU\\\\02 Data'"
      ]
     },
     "execution_count": 4,
     "metadata": {},
     "output_type": "execute_result"
    }
   ],
   "source": [
    "path_data"
   ]
  },
  {
   "cell_type": "code",
   "execution_count": 5,
   "id": "6cf49934",
   "metadata": {},
   "outputs": [],
   "source": [
    "# Importing ev_new_variable.pkl\n",
    "car_df = pd.read_pickle(os.path.join(path_data, 'Prepared Data', 'ev_new_variable.pkl'))"
   ]
  },
  {
   "cell_type": "code",
   "execution_count": 6,
   "id": "aa5979f7",
   "metadata": {},
   "outputs": [
    {
     "data": {
      "text/html": [
       "<div>\n",
       "<style scoped>\n",
       "    .dataframe tbody tr th:only-of-type {\n",
       "        vertical-align: middle;\n",
       "    }\n",
       "\n",
       "    .dataframe tbody tr th {\n",
       "        vertical-align: top;\n",
       "    }\n",
       "\n",
       "    .dataframe thead th {\n",
       "        text-align: right;\n",
       "    }\n",
       "</style>\n",
       "<table border=\"1\" class=\"dataframe\">\n",
       "  <thead>\n",
       "    <tr style=\"text-align: right;\">\n",
       "      <th></th>\n",
       "      <th>engine_type_code</th>\n",
       "      <th>country_code</th>\n",
       "      <th>year</th>\n",
       "      <th>new_car</th>\n",
       "      <th>stock_car</th>\n",
       "      <th>gdp_eur</th>\n",
       "      <th>age_code</th>\n",
       "      <th>income_indicator</th>\n",
       "      <th>currency</th>\n",
       "      <th>income</th>\n",
       "      <th>demographic_indicator_code</th>\n",
       "      <th>population</th>\n",
       "      <th>engine</th>\n",
       "      <th>country</th>\n",
       "      <th>age_group</th>\n",
       "      <th>country_group</th>\n",
       "      <th>gdp_per_capita</th>\n",
       "      <th>new_car_per_1000</th>\n",
       "      <th>stock_car_per_1000</th>\n",
       "    </tr>\n",
       "  </thead>\n",
       "  <tbody>\n",
       "    <tr>\n",
       "      <th>0</th>\n",
       "      <td>ALT</td>\n",
       "      <td>AL</td>\n",
       "      <td>2019</td>\n",
       "      <td>3757.0</td>\n",
       "      <td>35881.0</td>\n",
       "      <td>13754.2</td>\n",
       "      <td>TOTAL</td>\n",
       "      <td>Median</td>\n",
       "      <td>EUR</td>\n",
       "      <td>2231.0</td>\n",
       "      <td>AVG</td>\n",
       "      <td>2854191.0</td>\n",
       "      <td>Other</td>\n",
       "      <td>Albania</td>\n",
       "      <td>Total</td>\n",
       "      <td>other</td>\n",
       "      <td>4.818949e-09</td>\n",
       "      <td>1.31631</td>\n",
       "      <td>12.571338</td>\n",
       "    </tr>\n",
       "    <tr>\n",
       "      <th>1</th>\n",
       "      <td>ALT</td>\n",
       "      <td>AL</td>\n",
       "      <td>2019</td>\n",
       "      <td>3757.0</td>\n",
       "      <td>35881.0</td>\n",
       "      <td>13754.2</td>\n",
       "      <td>TOTAL</td>\n",
       "      <td>Median</td>\n",
       "      <td>PPS</td>\n",
       "      <td>4252.0</td>\n",
       "      <td>AVG</td>\n",
       "      <td>2854191.0</td>\n",
       "      <td>Other</td>\n",
       "      <td>Albania</td>\n",
       "      <td>Total</td>\n",
       "      <td>other</td>\n",
       "      <td>4.818949e-09</td>\n",
       "      <td>1.31631</td>\n",
       "      <td>12.571338</td>\n",
       "    </tr>\n",
       "    <tr>\n",
       "      <th>2</th>\n",
       "      <td>ALT</td>\n",
       "      <td>AL</td>\n",
       "      <td>2019</td>\n",
       "      <td>3757.0</td>\n",
       "      <td>35881.0</td>\n",
       "      <td>13754.2</td>\n",
       "      <td>TOTAL</td>\n",
       "      <td>Mean</td>\n",
       "      <td>EUR</td>\n",
       "      <td>2619.0</td>\n",
       "      <td>AVG</td>\n",
       "      <td>2854191.0</td>\n",
       "      <td>Other</td>\n",
       "      <td>Albania</td>\n",
       "      <td>Total</td>\n",
       "      <td>other</td>\n",
       "      <td>4.818949e-09</td>\n",
       "      <td>1.31631</td>\n",
       "      <td>12.571338</td>\n",
       "    </tr>\n",
       "    <tr>\n",
       "      <th>3</th>\n",
       "      <td>ALT</td>\n",
       "      <td>AL</td>\n",
       "      <td>2019</td>\n",
       "      <td>3757.0</td>\n",
       "      <td>35881.0</td>\n",
       "      <td>13754.2</td>\n",
       "      <td>TOTAL</td>\n",
       "      <td>Mean</td>\n",
       "      <td>PPS</td>\n",
       "      <td>4992.0</td>\n",
       "      <td>AVG</td>\n",
       "      <td>2854191.0</td>\n",
       "      <td>Other</td>\n",
       "      <td>Albania</td>\n",
       "      <td>Total</td>\n",
       "      <td>other</td>\n",
       "      <td>4.818949e-09</td>\n",
       "      <td>1.31631</td>\n",
       "      <td>12.571338</td>\n",
       "    </tr>\n",
       "    <tr>\n",
       "      <th>4</th>\n",
       "      <td>ALT</td>\n",
       "      <td>AL</td>\n",
       "      <td>2019</td>\n",
       "      <td>3757.0</td>\n",
       "      <td>35881.0</td>\n",
       "      <td>13754.2</td>\n",
       "      <td>Y18-64</td>\n",
       "      <td>Median</td>\n",
       "      <td>EUR</td>\n",
       "      <td>2319.0</td>\n",
       "      <td>AVG</td>\n",
       "      <td>2854191.0</td>\n",
       "      <td>Other</td>\n",
       "      <td>Albania</td>\n",
       "      <td>18-64</td>\n",
       "      <td>other</td>\n",
       "      <td>4.818949e-09</td>\n",
       "      <td>1.31631</td>\n",
       "      <td>12.571338</td>\n",
       "    </tr>\n",
       "  </tbody>\n",
       "</table>\n",
       "</div>"
      ],
      "text/plain": [
       "  engine_type_code country_code  year  new_car  stock_car  gdp_eur age_code  \\\n",
       "0              ALT           AL  2019   3757.0    35881.0  13754.2    TOTAL   \n",
       "1              ALT           AL  2019   3757.0    35881.0  13754.2    TOTAL   \n",
       "2              ALT           AL  2019   3757.0    35881.0  13754.2    TOTAL   \n",
       "3              ALT           AL  2019   3757.0    35881.0  13754.2    TOTAL   \n",
       "4              ALT           AL  2019   3757.0    35881.0  13754.2   Y18-64   \n",
       "\n",
       "  income_indicator currency  income demographic_indicator_code  population  \\\n",
       "0           Median      EUR  2231.0                        AVG   2854191.0   \n",
       "1           Median      PPS  4252.0                        AVG   2854191.0   \n",
       "2             Mean      EUR  2619.0                        AVG   2854191.0   \n",
       "3             Mean      PPS  4992.0                        AVG   2854191.0   \n",
       "4           Median      EUR  2319.0                        AVG   2854191.0   \n",
       "\n",
       "  engine  country age_group country_group  gdp_per_capita  new_car_per_1000  \\\n",
       "0  Other  Albania     Total         other    4.818949e-09           1.31631   \n",
       "1  Other  Albania     Total         other    4.818949e-09           1.31631   \n",
       "2  Other  Albania     Total         other    4.818949e-09           1.31631   \n",
       "3  Other  Albania     Total         other    4.818949e-09           1.31631   \n",
       "4  Other  Albania     18-64         other    4.818949e-09           1.31631   \n",
       "\n",
       "   stock_car_per_1000  \n",
       "0           12.571338  \n",
       "1           12.571338  \n",
       "2           12.571338  \n",
       "3           12.571338  \n",
       "4           12.571338  "
      ]
     },
     "execution_count": 6,
     "metadata": {},
     "output_type": "execute_result"
    }
   ],
   "source": [
    "car_df.head()"
   ]
  },
  {
   "cell_type": "code",
   "execution_count": 7,
   "id": "abd5534b",
   "metadata": {},
   "outputs": [
    {
     "data": {
      "text/plain": [
       "(89229, 19)"
      ]
     },
     "execution_count": 7,
     "metadata": {},
     "output_type": "execute_result"
    }
   ],
   "source": [
    "car_df.shape"
   ]
  },
  {
   "cell_type": "markdown",
   "id": "76583cbe",
   "metadata": {},
   "source": [
    "# 2. Data cleaning"
   ]
  },
  {
   "cell_type": "markdown",
   "id": "0591a73a",
   "metadata": {},
   "source": [
    "#### Preparing the data to have only electric vehicles in order to check the hypothesis in point 3."
   ]
  },
  {
   "cell_type": "code",
   "execution_count": 12,
   "id": "3917fa3e",
   "metadata": {},
   "outputs": [],
   "source": [
    "car_df_for_test = car_df[car_df['engine'] == 'Electric']"
   ]
  },
  {
   "cell_type": "code",
   "execution_count": 13,
   "id": "ff8f048d",
   "metadata": {},
   "outputs": [
    {
     "data": {
      "text/plain": [
       "Electric    6638\n",
       "Name: engine, dtype: int64"
      ]
     },
     "execution_count": 13,
     "metadata": {},
     "output_type": "execute_result"
    }
   ],
   "source": [
    "car_df_for_test['engine'].value_counts(dropna=False)"
   ]
  },
  {
   "cell_type": "markdown",
   "id": "0de86e53",
   "metadata": {},
   "source": [
    "#### Checking missing values"
   ]
  },
  {
   "cell_type": "markdown",
   "id": "09f5bc6f",
   "metadata": {},
   "source": [
    "I am going to check and remove missing values for the GDP_per_capita and new_car_per_1000 columns, as we cannot do the regression testing with null values."
   ]
  },
  {
   "cell_type": "code",
   "execution_count": 24,
   "id": "e87d98bc",
   "metadata": {},
   "outputs": [
    {
     "data": {
      "text/plain": [
       "engine_type_code                 0\n",
       "country_code                     0\n",
       "year                             0\n",
       "new_car                       1955\n",
       "stock_car                      380\n",
       "gdp_eur                       1231\n",
       "age_code                        38\n",
       "income_indicator                38\n",
       "currency                        38\n",
       "income                          38\n",
       "demographic_indicator_code       5\n",
       "population                       5\n",
       "engine                           0\n",
       "country                          0\n",
       "age_group                       38\n",
       "country_group                    0\n",
       "gdp_per_capita                1235\n",
       "new_car_per_1000              1960\n",
       "stock_car_per_1000             385\n",
       "dtype: int64"
      ]
     },
     "execution_count": 24,
     "metadata": {},
     "output_type": "execute_result"
    }
   ],
   "source": [
    "# Check for missing values\n",
    "\n",
    "car_df_for_test.isnull().sum()"
   ]
  },
  {
   "cell_type": "code",
   "execution_count": 25,
   "id": "1e9bbfcb",
   "metadata": {},
   "outputs": [
    {
     "data": {
      "text/plain": [
       "(6638, 19)"
      ]
     },
     "execution_count": 25,
     "metadata": {},
     "output_type": "execute_result"
    }
   ],
   "source": [
    "# Checking number of rows and columns of car df for testing\n",
    "car_df_for_test.shape"
   ]
  },
  {
   "cell_type": "code",
   "execution_count": 52,
   "id": "87c707b2",
   "metadata": {},
   "outputs": [],
   "source": [
    "# Removing missing values for \"new_car\" column\n",
    "car_df_for_test = car_df_for_test[car_df_for_test['new_car_per_1000'].isnull() == False]"
   ]
  },
  {
   "cell_type": "code",
   "execution_count": 53,
   "id": "8085ac32",
   "metadata": {},
   "outputs": [
    {
     "data": {
      "text/plain": [
       "(4677, 19)"
      ]
     },
     "execution_count": 53,
     "metadata": {},
     "output_type": "execute_result"
    }
   ],
   "source": [
    "# Checking number of rows and columns after removal of the null values for new_car\n",
    "car_df_for_test.shape"
   ]
  },
  {
   "cell_type": "code",
   "execution_count": 54,
   "id": "13d98f05",
   "metadata": {},
   "outputs": [
    {
     "data": {
      "text/plain": [
       "engine_type_code                0\n",
       "country_code                    0\n",
       "year                            0\n",
       "new_car                         0\n",
       "stock_car                     320\n",
       "gdp_eur                         0\n",
       "age_code                       17\n",
       "income_indicator               17\n",
       "currency                       17\n",
       "income                         17\n",
       "demographic_indicator_code      0\n",
       "population                      0\n",
       "engine                          0\n",
       "country                         0\n",
       "age_group                      17\n",
       "country_group                   0\n",
       "gdp_per_capita                  0\n",
       "new_car_per_1000                0\n",
       "stock_car_per_1000            320\n",
       "dtype: int64"
      ]
     },
     "execution_count": 54,
     "metadata": {},
     "output_type": "execute_result"
    }
   ],
   "source": [
    "# Another check for missing values\n",
    "\n",
    "car_df_for_test.isnull().sum()"
   ]
  },
  {
   "cell_type": "markdown",
   "id": "c9f4c55c",
   "metadata": {},
   "source": [
    "The remaining null values have no impact on the analysis, so I will leave them as they are."
   ]
  },
  {
   "cell_type": "markdown",
   "id": "2ec000f3",
   "metadata": {},
   "source": [
    "#### Extreme values"
   ]
  },
  {
   "cell_type": "code",
   "execution_count": 55,
   "id": "6062b061",
   "metadata": {},
   "outputs": [
    {
     "name": "stderr",
     "output_type": "stream",
     "text": [
      "C:\\Users\\henri\\AppData\\Local\\Temp\\ipykernel_12312\\4220024665.py:1: UserWarning: \n",
      "\n",
      "`distplot` is a deprecated function and will be removed in seaborn v0.14.0.\n",
      "\n",
      "Please adapt your code to use either `displot` (a figure-level function with\n",
      "similar flexibility) or `histplot` (an axes-level function for histograms).\n",
      "\n",
      "For a guide to updating your code to use the new functions, please see\n",
      "https://gist.github.com/mwaskom/de44147ed2974457ad6372750bbe5751\n",
      "\n",
      "  sns.distplot(car_df_for_test['new_car_per_1000'], bins=25) # Shows extreme values\n"
     ]
    },
    {
     "data": {
      "text/plain": [
       "<Axes: xlabel='new_car_per_1000', ylabel='Density'>"
      ]
     },
     "execution_count": 55,
     "metadata": {},
     "output_type": "execute_result"
    },
    {
     "data": {
      "image/png": "[encoded data removed]",
      "text/plain": [
       "<Figure size 640x480 with 1 Axes>"
      ]
     },
     "metadata": {},
     "output_type": "display_data"
    }
   ],
   "source": [
    "sns.distplot(car_df_for_test['new_car_per_1000'], bins=25) # Shows extreme values\n",
    "\n",
    "# Some of the outliers in the high values may need to be removed, but let's try without doing so first."
   ]
  },
  {
   "cell_type": "markdown",
   "id": "d1e1c3e3",
   "metadata": {},
   "source": [
    "# 3. Data preparation for regression analysis "
   ]
  },
  {
   "cell_type": "markdown",
   "id": "35ed1abb",
   "metadata": {},
   "source": [
    "##### Hypothesis\n",
    "The higher the GDP per capita, the higher sales of the new electric vehicles."
   ]
  },
  {
   "cell_type": "code",
   "execution_count": 75,
   "id": "78d8ebb5",
   "metadata": {},
   "outputs": [
    {
     "data": {
      "image/png": "[encoded data removed]",
      "text/plain": [
       "<Figure size 640x480 with 1 Axes>"
      ]
     },
     "metadata": {},
     "output_type": "display_data"
    }
   ],
   "source": [
    "# Create a scatterplot using matplotlib for another look at how the chosen variables plot against each other.\n",
    "\n",
    "car_df_for_test.plot(x = 'gdp_per_capita', y='new_car_per_1000',style='o') # The style option creates a scatterplot; without it, we only have lines.\n",
    "plt.title('GDP vs New electric car sales')  \n",
    "plt.xlabel('GDP per capita')  \n",
    "plt.ylabel('New electric car sales per 1000 inhabitants')  \n",
    "plt.show()"
   ]
  },
  {
   "cell_type": "code",
   "execution_count": 57,
   "id": "8857ab05",
   "metadata": {},
   "outputs": [],
   "source": [
    "# Reshape the variables into NumPy arrays and put them into separate objects.\n",
    "\n",
    "X = car_df_for_test['gdp_per_capita'].values.reshape(-1,1)\n",
    "y = car_df_for_test['new_car_per_1000'].values.reshape(-1,1)"
   ]
  },
  {
   "cell_type": "code",
   "execution_count": 58,
   "id": "960dd332",
   "metadata": {},
   "outputs": [
    {
     "data": {
      "text/plain": [
       "array([[4.81894870e-09],\n",
       "       [4.81894870e-09],\n",
       "       [4.81894870e-09],\n",
       "       ...,\n",
       "       [3.71239885e-09],\n",
       "       [3.71239885e-09],\n",
       "       [3.94445497e-09]])"
      ]
     },
     "execution_count": 58,
     "metadata": {},
     "output_type": "execute_result"
    }
   ],
   "source": [
    "X"
   ]
  },
  {
   "cell_type": "code",
   "execution_count": 59,
   "id": "b504a3b2",
   "metadata": {},
   "outputs": [
    {
     "data": {
      "text/plain": [
       "array([[0.00840869],\n",
       "       [0.00840869],\n",
       "       [0.00840869],\n",
       "       ...,\n",
       "       [0.00055646],\n",
       "       [0.00055646],\n",
       "       [0.        ]])"
      ]
     },
     "execution_count": 59,
     "metadata": {},
     "output_type": "execute_result"
    }
   ],
   "source": [
    "y"
   ]
  },
  {
   "cell_type": "code",
   "execution_count": 60,
   "id": "f314324b",
   "metadata": {},
   "outputs": [],
   "source": [
    "# Split data into a training set and a test set.\n",
    "\n",
    "X_train, X_test, y_train, y_test = train_test_split(X, y, test_size=0.3, random_state=0)"
   ]
  },
  {
   "cell_type": "markdown",
   "id": "18d5bf1b",
   "metadata": {},
   "source": [
    "# 4. Regression Analysis"
   ]
  },
  {
   "cell_type": "code",
   "execution_count": 61,
   "id": "87acf60f",
   "metadata": {},
   "outputs": [],
   "source": [
    "# Create a regression object.\n",
    "\n",
    "regression = LinearRegression()  # This is the regression object, which will be fit onto the training set."
   ]
  },
  {
   "cell_type": "code",
   "execution_count": 62,
   "id": "703ae0f5",
   "metadata": {},
   "outputs": [
    {
     "data": {
      "text/html": [
       "<style>#sk-container-id-2 {color: black;background-color: white;}#sk-container-id-2 pre{padding: 0;}#sk-container-id-2 div.sk-toggleable {background-color: white;}#sk-container-id-2 label.sk-toggleable__label {cursor: pointer;display: block;width: 100%;margin-bottom: 0;padding: 0.3em;box-sizing: border-box;text-align: center;}#sk-container-id-2 label.sk-toggleable__label-arrow:before {content: \"▸\";float: left;margin-right: 0.25em;color: #696969;}#sk-container-id-2 label.sk-toggleable__label-arrow:hover:before {color: black;}#sk-container-id-2 div.sk-estimator:hover label.sk-toggleable__label-arrow:before {color: black;}#sk-container-id-2 div.sk-toggleable__content {max-height: 0;max-width: 0;overflow: hidden;text-align: left;background-color: #f0f8ff;}#sk-container-id-2 div.sk-toggleable__content pre {margin: 0.2em;color: black;border-radius: 0.25em;background-color: #f0f8ff;}#sk-container-id-2 input.sk-toggleable__control:checked~div.sk-toggleable__content {max-height: 200px;max-width: 100%;overflow: auto;}#sk-container-id-2 input.sk-toggleable__control:checked~label.sk-toggleable__label-arrow:before {content: \"▾\";}#sk-container-id-2 div.sk-estimator input.sk-toggleable__control:checked~label.sk-toggleable__label {background-color: #d4ebff;}#sk-container-id-2 div.sk-label input.sk-toggleable__control:checked~label.sk-toggleable__label {background-color: #d4ebff;}#sk-container-id-2 input.sk-hidden--visually {border: 0;clip: rect(1px 1px 1px 1px);clip: rect(1px, 1px, 1px, 1px);height: 1px;margin: -1px;overflow: hidden;padding: 0;position: absolute;width: 1px;}#sk-container-id-2 div.sk-estimator {font-family: monospace;background-color: #f0f8ff;border: 1px dotted black;border-radius: 0.25em;box-sizing: border-box;margin-bottom: 0.5em;}#sk-container-id-2 div.sk-estimator:hover {background-color: #d4ebff;}#sk-container-id-2 div.sk-parallel-item::after {content: \"\";width: 100%;border-bottom: 1px solid gray;flex-grow: 1;}#sk-container-id-2 div.sk-label:hover label.sk-toggleable__label {background-color: #d4ebff;}#sk-container-id-2 div.sk-serial::before {content: \"\";position: absolute;border-left: 1px solid gray;box-sizing: border-box;top: 0;bottom: 0;left: 50%;z-index: 0;}#sk-container-id-2 div.sk-serial {display: flex;flex-direction: column;align-items: center;background-color: white;padding-right: 0.2em;padding-left: 0.2em;position: relative;}#sk-container-id-2 div.sk-item {position: relative;z-index: 1;}#sk-container-id-2 div.sk-parallel {display: flex;align-items: stretch;justify-content: center;background-color: white;position: relative;}#sk-container-id-2 div.sk-item::before, #sk-container-id-2 div.sk-parallel-item::before {content: \"\";position: absolute;border-left: 1px solid gray;box-sizing: border-box;top: 0;bottom: 0;left: 50%;z-index: -1;}#sk-container-id-2 div.sk-parallel-item {display: flex;flex-direction: column;z-index: 1;position: relative;background-color: white;}#sk-container-id-2 div.sk-parallel-item:first-child::after {align-self: flex-end;width: 50%;}#sk-container-id-2 div.sk-parallel-item:last-child::after {align-self: flex-start;width: 50%;}#sk-container-id-2 div.sk-parallel-item:only-child::after {width: 0;}#sk-container-id-2 div.sk-dashed-wrapped {border: 1px dashed gray;margin: 0 0.4em 0.5em 0.4em;box-sizing: border-box;padding-bottom: 0.4em;background-color: white;}#sk-container-id-2 div.sk-label label {font-family: monospace;font-weight: bold;display: inline-block;line-height: 1.2em;}#sk-container-id-2 div.sk-label-container {text-align: center;}#sk-container-id-2 div.sk-container {/* jupyter's `normalize.less` sets `[hidden] { display: none; }` but bootstrap.min.css set `[hidden] { display: none !important; }` so we also need the `!important` here to be able to override the default hidden behavior on the sphinx rendered scikit-learn.org. See: https://github.com/scikit-learn/scikit-learn/issues/21755 */display: inline-block !important;position: relative;}#sk-container-id-2 div.sk-text-repr-fallback {display: none;}</style><div id=\"sk-container-id-2\" class=\"sk-top-container\"><div class=\"sk-text-repr-fallback\"><pre>LinearRegression()</pre><b>In a Jupyter environment, please rerun this cell to show the HTML representation or trust the notebook. <br />On GitHub, the HTML representation is unable to render, please try loading this page with nbviewer.org.</b></div><div class=\"sk-container\" hidden><div class=\"sk-item\"><div class=\"sk-estimator sk-toggleable\"><input class=\"sk-toggleable__control sk-hidden--visually\" id=\"sk-estimator-id-2\" type=\"checkbox\" checked><label for=\"sk-estimator-id-2\" class=\"sk-toggleable__label sk-toggleable__label-arrow\">LinearRegression</label><div class=\"sk-toggleable__content\"><pre>LinearRegression()</pre></div></div></div></div></div>"
      ],
      "text/plain": [
       "LinearRegression()"
      ]
     },
     "execution_count": 62,
     "metadata": {},
     "output_type": "execute_result"
    }
   ],
   "source": [
    "# Fit the regression object onto the training set.\n",
    "\n",
    "regression.fit(X_train, y_train)"
   ]
  },
  {
   "cell_type": "code",
   "execution_count": 63,
   "id": "860f49a5",
   "metadata": {},
   "outputs": [],
   "source": [
    "# Predict the values of y using X.\n",
    "\n",
    "y_predicted = regression.predict(X_test)"
   ]
  },
  {
   "cell_type": "code",
   "execution_count": 76,
   "id": "ad31a370",
   "metadata": {},
   "outputs": [
    {
     "data": {
      "image/png": "[encoded data removed]",
      "text/plain": [
       "<Figure size 640x480 with 1 Axes>"
      ]
     },
     "metadata": {},
     "output_type": "display_data"
    }
   ],
   "source": [
    "# Create a plot that shows the regression line from the model on the test set.\n",
    "\n",
    "plot_test = plt\n",
    "plot_test.scatter(X_test, y_test, color='gray', s = 15)\n",
    "plot_test.plot(X_test, y_predicted, color='red', linewidth =3)\n",
    "plot_test.title('GDP vs New electric car sales (Test set)')\n",
    "plot_test.xlabel('GDP per capita')\n",
    "plot_test.ylabel('New electric car sales per 1000 inhabitants')\n",
    "plot_test.show()"
   ]
  },
  {
   "cell_type": "code",
   "execution_count": 81,
   "id": "5fd555a7",
   "metadata": {},
   "outputs": [],
   "source": [
    "# Create objects that contain the model summary statistics.\n",
    "\n",
    "rmse = mean_squared_error(y_test, y_predicted) # This is the mean squared error\n",
    "r2 = r2_score(y_test, y_predicted) # This is the R2 score. "
   ]
  },
  {
   "cell_type": "code",
   "execution_count": 82,
   "id": "c4f576e3",
   "metadata": {},
   "outputs": [
    {
     "name": "stdout",
     "output_type": "stream",
     "text": [
      "Slope: [[43116400.73005435]]\n",
      "Mean squared error:  2.6624878275911734\n",
      "R2 score:  0.28203542158103034\n"
     ]
    }
   ],
   "source": [
    "# Print the model summary statistics. \n",
    "\n",
    "print('Slope:', regression.coef_)\n",
    "print('Mean squared error: ', rmse)\n",
    "print('R2 score: ', r2)"
   ]
  },
  {
   "cell_type": "markdown",
   "id": "c182a6e4",
   "metadata": {},
   "source": [
    "The slope (or regression coefficient) is positive, so we have a positive relation between the two variables: the higher the GDP per capita, the more new EV cars are sold per 1000 inhabitants.\n",
    "\n",
    "The MSE (mean squared error) is quite big for our set of data, where the new ev sales per 1000 inhabitants varies between 0 and 16. Therefore, we can say that the regression may not be the best model to represent this data and cannot accurately predict the influence of GDP per capita on the new EV car sales per 1000 inhabitants.\n",
    "\n",
    "The R2 score is 0.28, which indicates a poor fit for our model."
   ]
  },
  {
   "cell_type": "code",
   "execution_count": 67,
   "id": "be711216",
   "metadata": {},
   "outputs": [
    {
     "data": {
      "text/plain": [
       "array([[ 0.51725832],\n",
       "       [-0.02330661],\n",
       "       [-0.03393485],\n",
       "       ...,\n",
       "       [ 0.23530758],\n",
       "       [ 0.75495624],\n",
       "       [ 2.25254045]])"
      ]
     },
     "execution_count": 67,
     "metadata": {},
     "output_type": "execute_result"
    }
   ],
   "source": [
    "y_predicted"
   ]
  },
  {
   "cell_type": "code",
   "execution_count": 68,
   "id": "acac7e25",
   "metadata": {},
   "outputs": [
    {
     "data": {
      "text/html": [
       "<div>\n",
       "<style scoped>\n",
       "    .dataframe tbody tr th:only-of-type {\n",
       "        vertical-align: middle;\n",
       "    }\n",
       "\n",
       "    .dataframe tbody tr th {\n",
       "        vertical-align: top;\n",
       "    }\n",
       "\n",
       "    .dataframe thead th {\n",
       "        text-align: right;\n",
       "    }\n",
       "</style>\n",
       "<table border=\"1\" class=\"dataframe\">\n",
       "  <thead>\n",
       "    <tr style=\"text-align: right;\">\n",
       "      <th></th>\n",
       "      <th>Actual</th>\n",
       "      <th>Predicted</th>\n",
       "    </tr>\n",
       "  </thead>\n",
       "  <tbody>\n",
       "    <tr>\n",
       "      <th>0</th>\n",
       "      <td>0.086632</td>\n",
       "      <td>0.517258</td>\n",
       "    </tr>\n",
       "    <tr>\n",
       "      <th>1</th>\n",
       "      <td>0.312508</td>\n",
       "      <td>-0.023307</td>\n",
       "    </tr>\n",
       "    <tr>\n",
       "      <th>2</th>\n",
       "      <td>0.021110</td>\n",
       "      <td>-0.033935</td>\n",
       "    </tr>\n",
       "    <tr>\n",
       "      <th>3</th>\n",
       "      <td>0.015687</td>\n",
       "      <td>-0.095090</td>\n",
       "    </tr>\n",
       "    <tr>\n",
       "      <th>4</th>\n",
       "      <td>0.021600</td>\n",
       "      <td>0.324896</td>\n",
       "    </tr>\n",
       "    <tr>\n",
       "      <th>5</th>\n",
       "      <td>3.521546</td>\n",
       "      <td>2.543388</td>\n",
       "    </tr>\n",
       "    <tr>\n",
       "      <th>6</th>\n",
       "      <td>0.007174</td>\n",
       "      <td>0.088356</td>\n",
       "    </tr>\n",
       "    <tr>\n",
       "      <th>7</th>\n",
       "      <td>0.320712</td>\n",
       "      <td>-0.104132</td>\n",
       "    </tr>\n",
       "    <tr>\n",
       "      <th>8</th>\n",
       "      <td>0.251798</td>\n",
       "      <td>0.024603</td>\n",
       "    </tr>\n",
       "    <tr>\n",
       "      <th>9</th>\n",
       "      <td>0.207800</td>\n",
       "      <td>0.907260</td>\n",
       "    </tr>\n",
       "    <tr>\n",
       "      <th>10</th>\n",
       "      <td>0.320712</td>\n",
       "      <td>-0.104132</td>\n",
       "    </tr>\n",
       "    <tr>\n",
       "      <th>11</th>\n",
       "      <td>0.275274</td>\n",
       "      <td>0.506360</td>\n",
       "    </tr>\n",
       "    <tr>\n",
       "      <th>12</th>\n",
       "      <td>0.742754</td>\n",
       "      <td>2.483927</td>\n",
       "    </tr>\n",
       "    <tr>\n",
       "      <th>13</th>\n",
       "      <td>0.160703</td>\n",
       "      <td>0.966604</td>\n",
       "    </tr>\n",
       "    <tr>\n",
       "      <th>14</th>\n",
       "      <td>1.307298</td>\n",
       "      <td>0.260587</td>\n",
       "    </tr>\n",
       "    <tr>\n",
       "      <th>15</th>\n",
       "      <td>0.044489</td>\n",
       "      <td>-0.077030</td>\n",
       "    </tr>\n",
       "    <tr>\n",
       "      <th>16</th>\n",
       "      <td>0.000705</td>\n",
       "      <td>-0.182626</td>\n",
       "    </tr>\n",
       "    <tr>\n",
       "      <th>17</th>\n",
       "      <td>0.008597</td>\n",
       "      <td>-0.097217</td>\n",
       "    </tr>\n",
       "    <tr>\n",
       "      <th>18</th>\n",
       "      <td>0.177669</td>\n",
       "      <td>0.663972</td>\n",
       "    </tr>\n",
       "    <tr>\n",
       "      <th>19</th>\n",
       "      <td>0.002957</td>\n",
       "      <td>0.069784</td>\n",
       "    </tr>\n",
       "    <tr>\n",
       "      <th>20</th>\n",
       "      <td>0.100056</td>\n",
       "      <td>0.011496</td>\n",
       "    </tr>\n",
       "    <tr>\n",
       "      <th>21</th>\n",
       "      <td>0.084537</td>\n",
       "      <td>1.816971</td>\n",
       "    </tr>\n",
       "    <tr>\n",
       "      <th>22</th>\n",
       "      <td>0.460777</td>\n",
       "      <td>0.884301</td>\n",
       "    </tr>\n",
       "    <tr>\n",
       "      <th>23</th>\n",
       "      <td>0.343559</td>\n",
       "      <td>1.240004</td>\n",
       "    </tr>\n",
       "    <tr>\n",
       "      <th>24</th>\n",
       "      <td>0.105063</td>\n",
       "      <td>1.778491</td>\n",
       "    </tr>\n",
       "    <tr>\n",
       "      <th>25</th>\n",
       "      <td>2.702579</td>\n",
       "      <td>1.368286</td>\n",
       "    </tr>\n",
       "    <tr>\n",
       "      <th>26</th>\n",
       "      <td>0.009696</td>\n",
       "      <td>-0.074714</td>\n",
       "    </tr>\n",
       "    <tr>\n",
       "      <th>27</th>\n",
       "      <td>0.001352</td>\n",
       "      <td>-0.122171</td>\n",
       "    </tr>\n",
       "    <tr>\n",
       "      <th>28</th>\n",
       "      <td>0.001457</td>\n",
       "      <td>-0.224690</td>\n",
       "    </tr>\n",
       "    <tr>\n",
       "      <th>29</th>\n",
       "      <td>5.529094</td>\n",
       "      <td>1.595406</td>\n",
       "    </tr>\n",
       "  </tbody>\n",
       "</table>\n",
       "</div>"
      ],
      "text/plain": [
       "      Actual  Predicted\n",
       "0   0.086632   0.517258\n",
       "1   0.312508  -0.023307\n",
       "2   0.021110  -0.033935\n",
       "3   0.015687  -0.095090\n",
       "4   0.021600   0.324896\n",
       "5   3.521546   2.543388\n",
       "6   0.007174   0.088356\n",
       "7   0.320712  -0.104132\n",
       "8   0.251798   0.024603\n",
       "9   0.207800   0.907260\n",
       "10  0.320712  -0.104132\n",
       "11  0.275274   0.506360\n",
       "12  0.742754   2.483927\n",
       "13  0.160703   0.966604\n",
       "14  1.307298   0.260587\n",
       "15  0.044489  -0.077030\n",
       "16  0.000705  -0.182626\n",
       "17  0.008597  -0.097217\n",
       "18  0.177669   0.663972\n",
       "19  0.002957   0.069784\n",
       "20  0.100056   0.011496\n",
       "21  0.084537   1.816971\n",
       "22  0.460777   0.884301\n",
       "23  0.343559   1.240004\n",
       "24  0.105063   1.778491\n",
       "25  2.702579   1.368286\n",
       "26  0.009696  -0.074714\n",
       "27  0.001352  -0.122171\n",
       "28  0.001457  -0.224690\n",
       "29  5.529094   1.595406"
      ]
     },
     "execution_count": 68,
     "metadata": {},
     "output_type": "execute_result"
    }
   ],
   "source": [
    "# Create a dataframe comparing the actual and predicted values of y.\n",
    "\n",
    "data = pd.DataFrame({'Actual': y_test.flatten(), 'Predicted': y_predicted.flatten()})\n",
    "data.head(30)"
   ]
  },
  {
   "cell_type": "markdown",
   "id": "e8c931e0",
   "metadata": {},
   "source": [
    "### Compare how the regression fits the training set"
   ]
  },
  {
   "cell_type": "code",
   "execution_count": 69,
   "id": "94aa7de4",
   "metadata": {},
   "outputs": [],
   "source": [
    "# Predict.\n",
    "\n",
    "y_predicted_train = regression.predict(X_train) "
   ]
  },
  {
   "cell_type": "code",
   "execution_count": 70,
   "id": "9223c6b9",
   "metadata": {},
   "outputs": [],
   "source": [
    "rmse = mean_squared_error(y_train, y_predicted_train)\n",
    "r2 = r2_score(y_train, y_predicted_train)"
   ]
  },
  {
   "cell_type": "code",
   "execution_count": 71,
   "id": "61a7b374",
   "metadata": {},
   "outputs": [
    {
     "name": "stdout",
     "output_type": "stream",
     "text": [
      "Slope: [[43116400.73005435]]\n",
      "Mean squared error:  2.1199514869454723\n",
      "R2 score:  0.2611149597701341\n"
     ]
    }
   ],
   "source": [
    "print('Slope:' ,regression.coef_)\n",
    "print('Mean squared error: ', rmse)\n",
    "print('R2 score: ', r2)"
   ]
  },
  {
   "cell_type": "markdown",
   "id": "775f4f30",
   "metadata": {},
   "source": [
    "The slope (or regression coefficient) is positive, so we have a positive relation between the two variables: the higher the GDP per capita, the more new EV cars are sold per 1000 inhabitants.\n",
    "\n",
    "The MSE (mean squared error) is quite big for our set of data, where the new ev sales per 1000 inhabitants varies between 0 and 16. Therefore, we can say that the regression may not be the best model to represent this data and cannot accurately predict the influence of GDP per capita on the new EV car sales per 1000 inhabitants.\n",
    "\n",
    "The R2 score is 0.26, which indicates a poor fit for our model.\n",
    "\n",
    "The statistics for the training set are similar to the testing set. We can say with confidence that the model is not overfit. We can also say, that the relationship between the GDP per capita and the new EV car sales per 1000 inhabitants is not linear."
   ]
  },
  {
   "cell_type": "code",
   "execution_count": 72,
   "id": "7c0dedb6",
   "metadata": {},
   "outputs": [
    {
     "data": {
      "image/png": "[encoded data removed]",
      "text/plain": [
       "<Figure size 640x480 with 1 Axes>"
      ]
     },
     "metadata": {},
     "output_type": "display_data"
    }
   ],
   "source": [
    "# Visualizing the training set results.\n",
    "\n",
    "plot_test = plt\n",
    "plot_test.scatter(X_train, y_train, color='green', s = 15)\n",
    "plot_test.plot(X_train, y_predicted_train, color='red', linewidth =3)\n",
    "plot_test.title('GDP per capita vs New EV sales (Train set)')\n",
    "plot_test.xlabel('GDP per capita')\n",
    "plot_test.ylabel('New electric car sales')\n",
    "plot_test.show()"
   ]
  },
  {
   "cell_type": "code",
   "execution_count": null,
   "id": "1b6e7c20",
   "metadata": {},
   "outputs": [],
   "source": []
  }
 ],
 "metadata": {
  "kernelspec": {
   "display_name": "Python 3 (ipykernel)",
   "language": "python",
   "name": "python3"
  },
  "language_info": {
   "codemirror_mode": {
    "name": "ipython",
    "version": 3
   },
   "file_extension": ".py",
   "mimetype": "text/x-python",
   "name": "python",
   "nbconvert_exporter": "python",
   "pygments_lexer": "ipython3",
   "version": "3.10.9"
  }
 },
 "nbformat": 4,
 "nbformat_minor": 5
}
